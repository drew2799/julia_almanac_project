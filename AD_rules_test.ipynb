{
 "cells": [
  {
   "cell_type": "code",
   "execution_count": 1,
   "id": "1d93b9d2-eabc-44b5-9219-6ecd14b633e7",
   "metadata": {},
   "outputs": [],
   "source": [
    "using NBInclude\n",
    "@nbinclude(\"diffSHT_healpix.ipynb\")\n",
    "@nbinclude(\"utilities.ipynb\")"
   ]
  },
  {
   "cell_type": "markdown",
   "id": "d8b91b4e-a988-4790-aa27-17b4ab0ccfcd",
   "metadata": {},
   "source": [
    "# 1 - HEALPIX & UTILS FUNCTIONS TESTS"
   ]
  },
  {
   "cell_type": "markdown",
   "id": "662ee239-9cb6-482f-b0ef-fcc3dccf486d",
   "metadata": {
    "jp-MarkdownHeadingCollapsed": true
   },
   "source": [
    "## 1.1 - Generate random maps to test"
   ]
  },
  {
   "cell_type": "code",
   "execution_count": 2,
   "id": "c541386a-1472-4c67-be88-8f5a976bd14e",
   "metadata": {},
   "outputs": [],
   "source": [
    "m = HealpixMap{Float64, RingOrder}(1024)\n",
    "m.pixels[:] = 10*randn(Float64, nside2npix(1024));"
   ]
  },
  {
   "cell_type": "code",
   "execution_count": 3,
   "id": "97ceac57-6c23-4306-a743-0b0b71ded881",
   "metadata": {},
   "outputs": [],
   "source": [
    "m1 = HealpixMap{Float64, RingOrder}(1024)\n",
    "m1.pixels[:] = 10*randn(Float64, nside2npix(1024));"
   ]
  },
  {
   "cell_type": "code",
   "execution_count": 4,
   "id": "a8243a3f-e544-4470-88e6-5182705b3d31",
   "metadata": {},
   "outputs": [],
   "source": [
    "eps = zeros(length(m))\n",
    "eps[10]+=0.01\n",
    "m_up = HealpixMap{Float64, RingOrder}(m + eps)\n",
    "m_down = HealpixMap{Float64, RingOrder}(m - eps)\n",
    "m_up1 = HealpixMap{Float64, RingOrder}(m1 + eps)\n",
    "m_down1 = HealpixMap{Float64, RingOrder}(m1 - eps);"
   ]
  },
  {
   "cell_type": "code",
   "execution_count": 5,
   "id": "b68542c4-3b9b-4d37-bdb0-986dbd83adfa",
   "metadata": {},
   "outputs": [],
   "source": [
    "a = map2alm(m, lmax=2047)\n",
    "a1 = map2alm(m1, lmax=2047);"
   ]
  },
  {
   "cell_type": "code",
   "execution_count": 6,
   "id": "36d1124b-0d03-4a30-a4dd-6c79031b9fd1",
   "metadata": {},
   "outputs": [],
   "source": [
    "eps = zeros(length(a.alm))\n",
    "eps[11]+=0.01\n",
    "eps1 = zeros(length(a.alm)) + zeros(length(a.alm))*im\n",
    "eps1[11]+= 0.01*im\n",
    "a_up = Alm{ComplexF64, Array{ComplexF64, 1}}(a.lmax, a.mmax, a.alm + eps)\n",
    "a_down = Alm{ComplexF64, Array{ComplexF64, 1}}(a.lmax, a.mmax, a.alm - eps)\n",
    "a_up1 = Alm{ComplexF64, Array{ComplexF64, 1}}(a1.lmax, a1.mmax, a1.alm + eps1)\n",
    "a_down1 = Alm{ComplexF64, Array{ComplexF64, 1}}(a1.lmax, a1.mmax, a1.alm - eps1);"
   ]
  },
  {
   "cell_type": "markdown",
   "id": "60c969d4-a007-4da1-a20d-9f3950fa4ca7",
   "metadata": {
    "jp-MarkdownHeadingCollapsed": true
   },
   "source": [
    "## 1.2 - sum(map::HealpixMap{T,O,AA})"
   ]
  },
  {
   "cell_type": "code",
   "execution_count": 199,
   "id": "9d84506f-b038-45f7-8a72-18ecd9d84721",
   "metadata": {},
   "outputs": [
    {
     "data": {
      "text/plain": [
       "test1 (generic function with 1 method)"
      ]
     },
     "execution_count": 199,
     "metadata": {},
     "output_type": "execute_result"
    }
   ],
   "source": [
    "function test1(map::HealpixMap{T,O,AA}) where{T, O <:Order, AA<:AbstractArray{T,1}}\n",
    "    s = sum(map)\n",
    "    return s\n",
    "end"
   ]
  },
  {
   "cell_type": "code",
   "execution_count": 200,
   "id": "cfea5f25-7524-4912-8951-bf66a891e266",
   "metadata": {},
   "outputs": [
    {
     "data": {
      "text/plain": [
       "(val = 96.7084804668944, grad = ([1.0, 1.0, 1.0, 1.0, 1.0, 1.0, 1.0, 1.0, 1.0, 1.0  …  1.0, 1.0, 1.0, 1.0, 1.0, 1.0, 1.0, 1.0, 1.0, 1.0],))"
      ]
     },
     "execution_count": 200,
     "metadata": {},
     "output_type": "execute_result"
    }
   ],
   "source": [
    "f, df = withgradient(x->test1(x), m)"
   ]
  },
  {
   "cell_type": "code",
   "execution_count": 201,
   "id": "8ad1e940-29dc-4589-afb1-eb7e00e6f193",
   "metadata": {},
   "outputs": [
    {
     "data": {
      "text/plain": [
       "0.9999999999990905"
      ]
     },
     "execution_count": 201,
     "metadata": {},
     "output_type": "execute_result"
    }
   ],
   "source": [
    "(test1(m_up)-test1(m_down))/0.02"
   ]
  },
  {
   "cell_type": "code",
   "execution_count": 202,
   "id": "4362ba0e-0287-47c5-99b7-ac5c0ff0dd57",
   "metadata": {},
   "outputs": [
    {
     "data": {
      "text/plain": [
       "BenchmarkTools.Trial: 10000 samples with 1 evaluation.\n",
       " Range \u001b[90m(\u001b[39m\u001b[36m\u001b[1mmin\u001b[22m\u001b[39m … \u001b[35mmax\u001b[39m\u001b[90m):  \u001b[39m\u001b[36m\u001b[1m14.600 μs\u001b[22m\u001b[39m … \u001b[35m 47.000 μs\u001b[39m  \u001b[90m┊\u001b[39m GC \u001b[90m(\u001b[39mmin … max\u001b[90m): \u001b[39m0.00% … 0.00%\n",
       " Time  \u001b[90m(\u001b[39m\u001b[34m\u001b[1mmedian\u001b[22m\u001b[39m\u001b[90m):     \u001b[39m\u001b[34m\u001b[1m14.700 μs               \u001b[22m\u001b[39m\u001b[90m┊\u001b[39m GC \u001b[90m(\u001b[39mmedian\u001b[90m):    \u001b[39m0.00%\n",
       " Time  \u001b[90m(\u001b[39m\u001b[32m\u001b[1mmean\u001b[22m\u001b[39m ± \u001b[32mσ\u001b[39m\u001b[90m):   \u001b[39m\u001b[32m\u001b[1m14.715 μs\u001b[22m\u001b[39m ± \u001b[32m652.915 ns\u001b[39m  \u001b[90m┊\u001b[39m GC \u001b[90m(\u001b[39mmean ± σ\u001b[90m):  \u001b[39m0.00% ± 0.00%\n",
       "\n",
       "  \u001b[39m█\u001b[39m \u001b[39m \u001b[39m \u001b[39m \u001b[39m█\u001b[34m \u001b[39m\u001b[32m \u001b[39m\u001b[39m \u001b[39m \u001b[39m \u001b[39m▂\u001b[39m \u001b[39m \u001b[39m \u001b[39m \u001b[39m \u001b[39m▁\u001b[39m \u001b[39m \u001b[39m \u001b[39m \u001b[39m \u001b[39m▂\u001b[39m \u001b[39m \u001b[39m \u001b[39m \u001b[39m \u001b[39m▃\u001b[39m \u001b[39m \u001b[39m \u001b[39m \u001b[39m \u001b[39m▂\u001b[39m \u001b[39m \u001b[39m \u001b[39m \u001b[39m \u001b[39m \u001b[39m \u001b[39m \u001b[39m \u001b[39m \u001b[39m \u001b[39m \u001b[39m \u001b[39m \u001b[39m \u001b[39m \u001b[39m \u001b[39m▁\u001b[39m \u001b[39m \u001b[39m \u001b[39m \u001b[39m \u001b[39m▁\u001b[39m \u001b[39m▂\n",
       "  \u001b[39m█\u001b[39m▁\u001b[39m▁\u001b[39m▁\u001b[39m▁\u001b[39m█\u001b[34m▁\u001b[39m\u001b[32m▁\u001b[39m\u001b[39m▁\u001b[39m▁\u001b[39m▁\u001b[39m█\u001b[39m▁\u001b[39m▁\u001b[39m▁\u001b[39m▁\u001b[39m▁\u001b[39m█\u001b[39m▁\u001b[39m▁\u001b[39m▁\u001b[39m▁\u001b[39m▁\u001b[39m█\u001b[39m▁\u001b[39m▁\u001b[39m▁\u001b[39m▁\u001b[39m▁\u001b[39m█\u001b[39m▁\u001b[39m▁\u001b[39m▁\u001b[39m▁\u001b[39m▁\u001b[39m█\u001b[39m▁\u001b[39m▁\u001b[39m▁\u001b[39m▁\u001b[39m▁\u001b[39m█\u001b[39m▁\u001b[39m▁\u001b[39m▁\u001b[39m▁\u001b[39m▁\u001b[39m▇\u001b[39m▁\u001b[39m▁\u001b[39m▁\u001b[39m▁\u001b[39m▁\u001b[39m█\u001b[39m▁\u001b[39m▁\u001b[39m▁\u001b[39m▁\u001b[39m▁\u001b[39m█\u001b[39m \u001b[39m█\n",
       "  14.6 μs\u001b[90m       \u001b[39m\u001b[90mHistogram: \u001b[39m\u001b[90m\u001b[1mlog(\u001b[22m\u001b[39m\u001b[90mfrequency\u001b[39m\u001b[90m\u001b[1m)\u001b[22m\u001b[39m\u001b[90m by time\u001b[39m      15.6 μs \u001b[0m\u001b[1m<\u001b[22m\n",
       "\n",
       " Memory estimate\u001b[90m: \u001b[39m\u001b[33m16 bytes\u001b[39m, allocs estimate\u001b[90m: \u001b[39m\u001b[33m1\u001b[39m."
      ]
     },
     "execution_count": 202,
     "metadata": {},
     "output_type": "execute_result"
    }
   ],
   "source": [
    "t_func = @benchmark test1(m)"
   ]
  },
  {
   "cell_type": "code",
   "execution_count": 203,
   "id": "fc8aa2f0-541b-4c78-bef3-696c8c27d3a0",
   "metadata": {},
   "outputs": [
    {
     "data": {
      "text/plain": [
       "BenchmarkTools.Trial: 10000 samples with 1 evaluation.\n",
       " Range \u001b[90m(\u001b[39m\u001b[36m\u001b[1mmin\u001b[22m\u001b[39m … \u001b[35mmax\u001b[39m\u001b[90m):  \u001b[39m\u001b[36m\u001b[1m22.500 μs\u001b[22m\u001b[39m … \u001b[35m 4.801 ms\u001b[39m  \u001b[90m┊\u001b[39m GC \u001b[90m(\u001b[39mmin … max\u001b[90m): \u001b[39m 0.00% … 97.97%\n",
       " Time  \u001b[90m(\u001b[39m\u001b[34m\u001b[1mmedian\u001b[22m\u001b[39m\u001b[90m):     \u001b[39m\u001b[34m\u001b[1m25.500 μs              \u001b[22m\u001b[39m\u001b[90m┊\u001b[39m GC \u001b[90m(\u001b[39mmedian\u001b[90m):    \u001b[39m 0.00%\n",
       " Time  \u001b[90m(\u001b[39m\u001b[32m\u001b[1mmean\u001b[22m\u001b[39m ± \u001b[32mσ\u001b[39m\u001b[90m):   \u001b[39m\u001b[32m\u001b[1m36.072 μs\u001b[22m\u001b[39m ± \u001b[32m92.930 μs\u001b[39m  \u001b[90m┊\u001b[39m GC \u001b[90m(\u001b[39mmean ± σ\u001b[90m):  \u001b[39m10.75% ±  4.37%\n",
       "\n",
       "  \u001b[39m▂\u001b[39m▆\u001b[39m█\u001b[34m▆\u001b[39m\u001b[39m▃\u001b[39m▂\u001b[39m \u001b[39m \u001b[39m \u001b[39m \u001b[39m \u001b[39m \u001b[32m \u001b[39m\u001b[39m \u001b[39m \u001b[39m \u001b[39m \u001b[39m \u001b[39m \u001b[39m \u001b[39m \u001b[39m \u001b[39m \u001b[39m \u001b[39m \u001b[39m \u001b[39m \u001b[39m \u001b[39m \u001b[39m \u001b[39m \u001b[39m▃\u001b[39m▄\u001b[39m▅\u001b[39m▃\u001b[39m▁\u001b[39m \u001b[39m \u001b[39m \u001b[39m \u001b[39m \u001b[39m \u001b[39m \u001b[39m \u001b[39m \u001b[39m \u001b[39m \u001b[39m \u001b[39m \u001b[39m \u001b[39m \u001b[39m \u001b[39m \u001b[39m \u001b[39m \u001b[39m \u001b[39m \u001b[39m \u001b[39m \u001b[39m \u001b[39m▂\n",
       "  \u001b[39m█\u001b[39m█\u001b[39m█\u001b[34m█\u001b[39m\u001b[39m█\u001b[39m█\u001b[39m█\u001b[39m▇\u001b[39m▇\u001b[39m▇\u001b[39m▅\u001b[39m▇\u001b[32m▆\u001b[39m\u001b[39m▅\u001b[39m▅\u001b[39m▅\u001b[39m▅\u001b[39m▃\u001b[39m▆\u001b[39m▆\u001b[39m▅\u001b[39m▄\u001b[39m▄\u001b[39m▅\u001b[39m▄\u001b[39m▃\u001b[39m▄\u001b[39m▃\u001b[39m▁\u001b[39m▄\u001b[39m▇\u001b[39m█\u001b[39m█\u001b[39m█\u001b[39m█\u001b[39m█\u001b[39m█\u001b[39m▆\u001b[39m▇\u001b[39m▆\u001b[39m▆\u001b[39m▆\u001b[39m▆\u001b[39m▇\u001b[39m▄\u001b[39m▅\u001b[39m▄\u001b[39m▅\u001b[39m▄\u001b[39m▄\u001b[39m▄\u001b[39m▅\u001b[39m▅\u001b[39m▄\u001b[39m▄\u001b[39m▄\u001b[39m▅\u001b[39m▅\u001b[39m▅\u001b[39m \u001b[39m█\n",
       "  22.5 μs\u001b[90m      \u001b[39m\u001b[90mHistogram: \u001b[39m\u001b[90m\u001b[1mlog(\u001b[22m\u001b[39m\u001b[90mfrequency\u001b[39m\u001b[90m\u001b[1m)\u001b[22m\u001b[39m\u001b[90m by time\u001b[39m        87 μs \u001b[0m\u001b[1m<\u001b[22m\n",
       "\n",
       " Memory estimate\u001b[90m: \u001b[39m\u001b[33m96.55 KiB\u001b[39m, allocs estimate\u001b[90m: \u001b[39m\u001b[33m21\u001b[39m."
      ]
     },
     "execution_count": 203,
     "metadata": {},
     "output_type": "execute_result"
    }
   ],
   "source": [
    "t_funcgrad = @benchmark withgradient(x->test1(x), m)"
   ]
  },
  {
   "cell_type": "code",
   "execution_count": 204,
   "id": "a85fa57a-7b49-4dbc-99c7-c5f9c7870991",
   "metadata": {},
   "outputs": [
    {
     "data": {
      "text/plain": [
       "1.7346938775510203"
      ]
     },
     "execution_count": 204,
     "metadata": {},
     "output_type": "execute_result"
    }
   ],
   "source": [
    "median(t_funcgrad).time/median(t_func).time"
   ]
  },
  {
   "cell_type": "markdown",
   "id": "498cc400-5aa2-498c-a0d0-6adfc1e08697",
   "metadata": {
    "jp-MarkdownHeadingCollapsed": true
   },
   "source": [
    "## 1.3 - sum(alm::Alm{ComplexF64, Array{ComplexF64, 1}})"
   ]
  },
  {
   "cell_type": "code",
   "execution_count": 205,
   "id": "cb75480a-3671-4b6a-b070-a99ee39b3bfa",
   "metadata": {},
   "outputs": [
    {
     "data": {
      "text/plain": [
       "test2 (generic function with 1 method)"
      ]
     },
     "execution_count": 205,
     "metadata": {},
     "output_type": "execute_result"
    }
   ],
   "source": [
    "function test2(alm::Alm{ComplexF64, Array{ComplexF64, 1}})\n",
    "    s = real(sum(alm))\n",
    "    return s\n",
    "end"
   ]
  },
  {
   "cell_type": "code",
   "execution_count": 206,
   "id": "480f38fa-ac09-4bd9-b243-a297e656224e",
   "metadata": {},
   "outputs": [
    {
     "data": {
      "text/plain": [
       "(val = 9.658801269384805, grad = (Alm{ComplexF64, Vector{ComplexF64}}(ComplexF64[1.0 + 0.0im, 1.0 + 0.0im, 1.0 + 0.0im, 1.0 + 0.0im, 1.0 + 0.0im, 1.0 + 0.0im, 1.0 + 0.0im, 1.0 + 0.0im, 1.0 + 0.0im, 1.0 + 0.0im  …  1.0 + 0.0im, 1.0 + 0.0im, 1.0 + 0.0im, 1.0 + 0.0im, 1.0 + 0.0im, 1.0 + 0.0im, 1.0 + 0.0im, 1.0 + 0.0im, 1.0 + 0.0im, 1.0 + 0.0im], 95, 95, 191),))"
      ]
     },
     "execution_count": 206,
     "metadata": {},
     "output_type": "execute_result"
    }
   ],
   "source": [
    "f, df = withgradient(x->test2(x), a)"
   ]
  },
  {
   "cell_type": "code",
   "execution_count": 207,
   "id": "fdf5abc5-4289-45ef-83bd-faa21fb60272",
   "metadata": {},
   "outputs": [
    {
     "data": {
      "text/plain": [
       "0.9999999999999787"
      ]
     },
     "execution_count": 207,
     "metadata": {},
     "output_type": "execute_result"
    }
   ],
   "source": [
    "(test2(a_up)-test2(a_down))/0.02"
   ]
  },
  {
   "cell_type": "code",
   "execution_count": 208,
   "id": "77808cae-40e7-4b09-8f66-3d6856546800",
   "metadata": {},
   "outputs": [
    {
     "data": {
      "text/plain": [
       "BenchmarkTools.Trial: 10000 samples with 10 evaluations.\n",
       " Range \u001b[90m(\u001b[39m\u001b[36m\u001b[1mmin\u001b[22m\u001b[39m … \u001b[35mmax\u001b[39m\u001b[90m):  \u001b[39m\u001b[36m\u001b[1m1.470 μs\u001b[22m\u001b[39m … \u001b[35m 4.780 μs\u001b[39m  \u001b[90m┊\u001b[39m GC \u001b[90m(\u001b[39mmin … max\u001b[90m): \u001b[39m0.00% … 0.00%\n",
       " Time  \u001b[90m(\u001b[39m\u001b[34m\u001b[1mmedian\u001b[22m\u001b[39m\u001b[90m):     \u001b[39m\u001b[34m\u001b[1m1.490 μs              \u001b[22m\u001b[39m\u001b[90m┊\u001b[39m GC \u001b[90m(\u001b[39mmedian\u001b[90m):    \u001b[39m0.00%\n",
       " Time  \u001b[90m(\u001b[39m\u001b[32m\u001b[1mmean\u001b[22m\u001b[39m ± \u001b[32mσ\u001b[39m\u001b[90m):   \u001b[39m\u001b[32m\u001b[1m1.498 μs\u001b[22m\u001b[39m ± \u001b[32m90.674 ns\u001b[39m  \u001b[90m┊\u001b[39m GC \u001b[90m(\u001b[39mmean ± σ\u001b[90m):  \u001b[39m0.00% ± 0.00%\n",
       "\n",
       "  \u001b[39m \u001b[39m \u001b[39m▇\u001b[39m \u001b[39m \u001b[34m█\u001b[39m\u001b[39m \u001b[32m▃\u001b[39m\u001b[39m \u001b[39m \u001b[39m \u001b[39m \u001b[39m \u001b[39m \u001b[39m \u001b[39m▂\u001b[39m \u001b[39m \u001b[39m▁\u001b[39m \u001b[39m \u001b[39m \u001b[39m \u001b[39m \u001b[39m \u001b[39m \u001b[39m \u001b[39m \u001b[39m▂\u001b[39m \u001b[39m \u001b[39m \u001b[39m \u001b[39m \u001b[39m \u001b[39m \u001b[39m \u001b[39m \u001b[39m \u001b[39m \u001b[39m \u001b[39m \u001b[39m \u001b[39m \u001b[39m \u001b[39m \u001b[39m \u001b[39m \u001b[39m \u001b[39m \u001b[39m \u001b[39m \u001b[39m \u001b[39m \u001b[39m \u001b[39m \u001b[39m \u001b[39m \u001b[39m \u001b[39m▁\n",
       "  \u001b[39m▇\u001b[39m▁\u001b[39m█\u001b[39m▁\u001b[39m▁\u001b[34m█\u001b[39m\u001b[39m▁\u001b[32m█\u001b[39m\u001b[39m▁\u001b[39m▁\u001b[39m█\u001b[39m▁\u001b[39m▁\u001b[39m▇\u001b[39m▁\u001b[39m█\u001b[39m▁\u001b[39m▁\u001b[39m█\u001b[39m▁\u001b[39m▁\u001b[39m▆\u001b[39m▁\u001b[39m▄\u001b[39m▁\u001b[39m▁\u001b[39m▇\u001b[39m▁\u001b[39m█\u001b[39m▁\u001b[39m▁\u001b[39m█\u001b[39m▁\u001b[39m▁\u001b[39m▇\u001b[39m▁\u001b[39m▄\u001b[39m▁\u001b[39m▁\u001b[39m▁\u001b[39m▁\u001b[39m▁\u001b[39m▁\u001b[39m▁\u001b[39m▁\u001b[39m▁\u001b[39m▁\u001b[39m▁\u001b[39m▁\u001b[39m▁\u001b[39m▁\u001b[39m▁\u001b[39m▅\u001b[39m▁\u001b[39m▁\u001b[39m█\u001b[39m▁\u001b[39m▆\u001b[39m \u001b[39m█\n",
       "  1.47 μs\u001b[90m      \u001b[39m\u001b[90mHistogram: \u001b[39m\u001b[90m\u001b[1mlog(\u001b[22m\u001b[39m\u001b[90mfrequency\u001b[39m\u001b[90m\u001b[1m)\u001b[22m\u001b[39m\u001b[90m by time\u001b[39m     1.69 μs \u001b[0m\u001b[1m<\u001b[22m\n",
       "\n",
       " Memory estimate\u001b[90m: \u001b[39m\u001b[33m0 bytes\u001b[39m, allocs estimate\u001b[90m: \u001b[39m\u001b[33m0\u001b[39m."
      ]
     },
     "execution_count": 208,
     "metadata": {},
     "output_type": "execute_result"
    }
   ],
   "source": [
    "t_func = @benchmark test2(a)"
   ]
  },
  {
   "cell_type": "code",
   "execution_count": 209,
   "id": "2eee9c9c-ca51-4359-837e-c737a6b44d2a",
   "metadata": {},
   "outputs": [
    {
     "data": {
      "text/plain": [
       "BenchmarkTools.Trial: 10000 samples with 3 evaluations.\n",
       " Range \u001b[90m(\u001b[39m\u001b[36m\u001b[1mmin\u001b[22m\u001b[39m … \u001b[35mmax\u001b[39m\u001b[90m):  \u001b[39m\u001b[36m\u001b[1m 8.500 μs\u001b[22m\u001b[39m … \u001b[35m 1.580 ms\u001b[39m  \u001b[90m┊\u001b[39m GC \u001b[90m(\u001b[39mmin … max\u001b[90m): \u001b[39m 0.00% … 97.60%\n",
       " Time  \u001b[90m(\u001b[39m\u001b[34m\u001b[1mmedian\u001b[22m\u001b[39m\u001b[90m):     \u001b[39m\u001b[34m\u001b[1m10.900 μs              \u001b[22m\u001b[39m\u001b[90m┊\u001b[39m GC \u001b[90m(\u001b[39mmedian\u001b[90m):    \u001b[39m 0.00%\n",
       " Time  \u001b[90m(\u001b[39m\u001b[32m\u001b[1mmean\u001b[22m\u001b[39m ± \u001b[32mσ\u001b[39m\u001b[90m):   \u001b[39m\u001b[32m\u001b[1m16.314 μs\u001b[22m\u001b[39m ± \u001b[32m41.167 μs\u001b[39m  \u001b[90m┊\u001b[39m GC \u001b[90m(\u001b[39mmean ± σ\u001b[90m):  \u001b[39m16.12% ±  6.54%\n",
       "\n",
       "  \u001b[39m▃\u001b[39m▅\u001b[39m█\u001b[34m█\u001b[39m\u001b[39m▄\u001b[39m▂\u001b[39m \u001b[39m▁\u001b[39m \u001b[39m▁\u001b[32m \u001b[39m\u001b[39m \u001b[39m \u001b[39m \u001b[39m \u001b[39m \u001b[39m \u001b[39m \u001b[39m \u001b[39m \u001b[39m \u001b[39m \u001b[39m \u001b[39m \u001b[39m \u001b[39m \u001b[39m \u001b[39m \u001b[39m \u001b[39m \u001b[39m \u001b[39m \u001b[39m \u001b[39m▃\u001b[39m▄\u001b[39m▄\u001b[39m▁\u001b[39m \u001b[39m \u001b[39m \u001b[39m \u001b[39m \u001b[39m \u001b[39m \u001b[39m \u001b[39m \u001b[39m \u001b[39m \u001b[39m \u001b[39m \u001b[39m \u001b[39m \u001b[39m \u001b[39m \u001b[39m \u001b[39m \u001b[39m \u001b[39m \u001b[39m \u001b[39m \u001b[39m▂\n",
       "  \u001b[39m█\u001b[39m█\u001b[39m█\u001b[34m█\u001b[39m\u001b[39m█\u001b[39m█\u001b[39m█\u001b[39m█\u001b[39m█\u001b[39m█\u001b[32m▇\u001b[39m\u001b[39m▆\u001b[39m▆\u001b[39m▁\u001b[39m▆\u001b[39m▆\u001b[39m▄\u001b[39m▄\u001b[39m▁\u001b[39m▃\u001b[39m▁\u001b[39m▁\u001b[39m▁\u001b[39m▁\u001b[39m▄\u001b[39m▄\u001b[39m▅\u001b[39m▆\u001b[39m▁\u001b[39m▁\u001b[39m▁\u001b[39m▃\u001b[39m▆\u001b[39m█\u001b[39m█\u001b[39m█\u001b[39m█\u001b[39m▇\u001b[39m▇\u001b[39m▆\u001b[39m▆\u001b[39m▆\u001b[39m▅\u001b[39m▄\u001b[39m▄\u001b[39m▅\u001b[39m▅\u001b[39m▄\u001b[39m▅\u001b[39m▁\u001b[39m▄\u001b[39m▄\u001b[39m▄\u001b[39m▁\u001b[39m▃\u001b[39m▁\u001b[39m▃\u001b[39m▅\u001b[39m▄\u001b[39m \u001b[39m█\n",
       "  8.5 μs\u001b[90m       \u001b[39m\u001b[90mHistogram: \u001b[39m\u001b[90m\u001b[1mlog(\u001b[22m\u001b[39m\u001b[90mfrequency\u001b[39m\u001b[90m\u001b[1m)\u001b[22m\u001b[39m\u001b[90m by time\u001b[39m      54.8 μs \u001b[0m\u001b[1m<\u001b[22m\n",
       "\n",
       " Memory estimate\u001b[90m: \u001b[39m\u001b[33m73.25 KiB\u001b[39m, allocs estimate\u001b[90m: \u001b[39m\u001b[33m21\u001b[39m."
      ]
     },
     "execution_count": 209,
     "metadata": {},
     "output_type": "execute_result"
    }
   ],
   "source": [
    "t_funcgrad = @benchmark withgradient(x->test2(x), a)"
   ]
  },
  {
   "cell_type": "code",
   "execution_count": 210,
   "id": "f4f97415-3aa9-4752-bcf2-7ab62efcbd54",
   "metadata": {},
   "outputs": [
    {
     "data": {
      "text/plain": [
       "7.315436241610739"
      ]
     },
     "execution_count": 210,
     "metadata": {},
     "output_type": "execute_result"
    }
   ],
   "source": [
    "median(t_funcgrad).time/median(t_func).time"
   ]
  },
  {
   "cell_type": "markdown",
   "id": "d57c21bf-7db1-4b36-a0d4-e5c47fc76292",
   "metadata": {
    "jp-MarkdownHeadingCollapsed": true
   },
   "source": [
    "## 1.4 - conj(alm::Alm{ComplexF64, Array{ComplexF64, 1}})"
   ]
  },
  {
   "cell_type": "code",
   "execution_count": 7,
   "id": "a266853b-7ca3-43a6-bb46-e4178f1ef850",
   "metadata": {},
   "outputs": [
    {
     "data": {
      "text/plain": [
       "test3 (generic function with 1 method)"
      ]
     },
     "execution_count": 7,
     "metadata": {},
     "output_type": "execute_result"
    }
   ],
   "source": [
    "function test3(alm::Alm{ComplexF64, Array{ComplexF64, 1}})\n",
    "    s = imag(sum(conj(alm)))\n",
    "    return s\n",
    "end"
   ]
  },
  {
   "cell_type": "code",
   "execution_count": 8,
   "id": "147331a9-e3ad-4152-8e17-709684afa41b",
   "metadata": {},
   "outputs": [
    {
     "data": {
      "text/plain": [
       "(val = -6.895758189445881, grad = (Alm{ComplexF64, Vector{ComplexF64}}(ComplexF64[0.0 - 1.0im, 0.0 - 1.0im, 0.0 - 1.0im, 0.0 - 1.0im, 0.0 - 1.0im, 0.0 - 1.0im, 0.0 - 1.0im, 0.0 - 1.0im, 0.0 - 1.0im, 0.0 - 1.0im  …  0.0 - 1.0im, 0.0 - 1.0im, 0.0 - 1.0im, 0.0 - 1.0im, 0.0 - 1.0im, 0.0 - 1.0im, 0.0 - 1.0im, 0.0 - 1.0im, 0.0 - 1.0im, 0.0 - 1.0im], 95, 95, 191),))"
      ]
     },
     "execution_count": 8,
     "metadata": {},
     "output_type": "execute_result"
    }
   ],
   "source": [
    "f, df = withgradient(x->test3(x), a)"
   ]
  },
  {
   "cell_type": "code",
   "execution_count": 9,
   "id": "8056cb4a-ad1f-468e-bac0-0bfe89e367fe",
   "metadata": {},
   "outputs": [
    {
     "data": {
      "text/plain": [
       "-1.0000000000000675"
      ]
     },
     "execution_count": 9,
     "metadata": {},
     "output_type": "execute_result"
    }
   ],
   "source": [
    "(test3(a_up1)-test3(a_down1))/0.02"
   ]
  },
  {
   "cell_type": "code",
   "execution_count": 253,
   "id": "d5df6ed3-a178-48b0-bcdd-60156ea3500c",
   "metadata": {},
   "outputs": [
    {
     "data": {
      "text/plain": [
       "BenchmarkTools.Trial: 10000 samples with 3 evaluations.\n",
       " Range \u001b[90m(\u001b[39m\u001b[36m\u001b[1mmin\u001b[22m\u001b[39m … \u001b[35mmax\u001b[39m\u001b[90m):  \u001b[39m\u001b[36m\u001b[1m 7.000 μs\u001b[22m\u001b[39m … \u001b[35m 1.586 ms\u001b[39m  \u001b[90m┊\u001b[39m GC \u001b[90m(\u001b[39mmin … max\u001b[90m): \u001b[39m 0.00% … 98.13%\n",
       " Time  \u001b[90m(\u001b[39m\u001b[34m\u001b[1mmedian\u001b[22m\u001b[39m\u001b[90m):     \u001b[39m\u001b[34m\u001b[1m 9.200 μs              \u001b[22m\u001b[39m\u001b[90m┊\u001b[39m GC \u001b[90m(\u001b[39mmedian\u001b[90m):    \u001b[39m 0.00%\n",
       " Time  \u001b[90m(\u001b[39m\u001b[32m\u001b[1mmean\u001b[22m\u001b[39m ± \u001b[32mσ\u001b[39m\u001b[90m):   \u001b[39m\u001b[32m\u001b[1m11.706 μs\u001b[22m\u001b[39m ± \u001b[32m31.997 μs\u001b[39m  \u001b[90m┊\u001b[39m GC \u001b[90m(\u001b[39mmean ± σ\u001b[90m):  \u001b[39m17.18% ±  6.61%\n",
       "\n",
       "  \u001b[39m▂\u001b[39m▃\u001b[39m▄\u001b[39m▆\u001b[39m█\u001b[34m█\u001b[39m\u001b[39m▃\u001b[39m▁\u001b[39m \u001b[39m \u001b[32m \u001b[39m\u001b[39m \u001b[39m \u001b[39m \u001b[39m \u001b[39m \u001b[39m \u001b[39m \u001b[39m \u001b[39m \u001b[39m \u001b[39m \u001b[39m \u001b[39m \u001b[39m \u001b[39m \u001b[39m \u001b[39m \u001b[39m \u001b[39m \u001b[39m \u001b[39m \u001b[39m \u001b[39m \u001b[39m \u001b[39m \u001b[39m \u001b[39m \u001b[39m \u001b[39m \u001b[39m \u001b[39m \u001b[39m \u001b[39m \u001b[39m \u001b[39m \u001b[39m \u001b[39m \u001b[39m \u001b[39m \u001b[39m \u001b[39m \u001b[39m \u001b[39m \u001b[39m \u001b[39m \u001b[39m \u001b[39m▁\u001b[39m \u001b[39m \u001b[39m▂\n",
       "  \u001b[39m█\u001b[39m█\u001b[39m█\u001b[39m█\u001b[39m█\u001b[34m█\u001b[39m\u001b[39m█\u001b[39m█\u001b[39m█\u001b[39m▇\u001b[32m▇\u001b[39m\u001b[39m▆\u001b[39m▆\u001b[39m▆\u001b[39m▆\u001b[39m▆\u001b[39m▆\u001b[39m▅\u001b[39m▄\u001b[39m▄\u001b[39m▄\u001b[39m▁\u001b[39m▄\u001b[39m▃\u001b[39m▁\u001b[39m▃\u001b[39m▁\u001b[39m▁\u001b[39m▁\u001b[39m▁\u001b[39m▃\u001b[39m▁\u001b[39m▁\u001b[39m▁\u001b[39m▁\u001b[39m▁\u001b[39m▁\u001b[39m▁\u001b[39m▁\u001b[39m▁\u001b[39m▃\u001b[39m▁\u001b[39m▁\u001b[39m▁\u001b[39m▁\u001b[39m▁\u001b[39m▁\u001b[39m▁\u001b[39m▁\u001b[39m▁\u001b[39m▁\u001b[39m▁\u001b[39m▁\u001b[39m▁\u001b[39m▃\u001b[39m▆\u001b[39m█\u001b[39m█\u001b[39m█\u001b[39m \u001b[39m█\n",
       "  7 μs\u001b[90m         \u001b[39m\u001b[90mHistogram: \u001b[39m\u001b[90m\u001b[1mlog(\u001b[22m\u001b[39m\u001b[90mfrequency\u001b[39m\u001b[90m\u001b[1m)\u001b[22m\u001b[39m\u001b[90m by time\u001b[39m      34.4 μs \u001b[0m\u001b[1m<\u001b[22m\n",
       "\n",
       " Memory estimate\u001b[90m: \u001b[39m\u001b[33m72.80 KiB\u001b[39m, allocs estimate\u001b[90m: \u001b[39m\u001b[33m2\u001b[39m."
      ]
     },
     "execution_count": 253,
     "metadata": {},
     "output_type": "execute_result"
    }
   ],
   "source": [
    "t_func = @benchmark test3(a)"
   ]
  },
  {
   "cell_type": "code",
   "execution_count": 254,
   "id": "76852d98-7272-486b-b075-e79288fa4811",
   "metadata": {},
   "outputs": [
    {
     "data": {
      "text/plain": [
       "BenchmarkTools.Trial: 10000 samples with 1 evaluation.\n",
       " Range \u001b[90m(\u001b[39m\u001b[36m\u001b[1mmin\u001b[22m\u001b[39m … \u001b[35mmax\u001b[39m\u001b[90m):  \u001b[39m\u001b[36m\u001b[1m19.300 μs\u001b[22m\u001b[39m … \u001b[35m  5.039 ms\u001b[39m  \u001b[90m┊\u001b[39m GC \u001b[90m(\u001b[39mmin … max\u001b[90m): \u001b[39m 0.00% … 97.52%\n",
       " Time  \u001b[90m(\u001b[39m\u001b[34m\u001b[1mmedian\u001b[22m\u001b[39m\u001b[90m):     \u001b[39m\u001b[34m\u001b[1m27.200 μs               \u001b[22m\u001b[39m\u001b[90m┊\u001b[39m GC \u001b[90m(\u001b[39mmedian\u001b[90m):    \u001b[39m 0.00%\n",
       " Time  \u001b[90m(\u001b[39m\u001b[32m\u001b[1mmean\u001b[22m\u001b[39m ± \u001b[32mσ\u001b[39m\u001b[90m):   \u001b[39m\u001b[32m\u001b[1m43.422 μs\u001b[22m\u001b[39m ± \u001b[32m129.761 μs\u001b[39m  \u001b[90m┊\u001b[39m GC \u001b[90m(\u001b[39mmean ± σ\u001b[90m):  \u001b[39m18.93% ±  6.51%\n",
       "\n",
       "  \u001b[39m▁\u001b[39m▄\u001b[39m▆\u001b[39m█\u001b[34m█\u001b[39m\u001b[39m▄\u001b[39m▂\u001b[39m▁\u001b[39m \u001b[39m \u001b[39m \u001b[39m \u001b[32m \u001b[39m\u001b[39m \u001b[39m \u001b[39m \u001b[39m \u001b[39m \u001b[39m \u001b[39m \u001b[39m \u001b[39m \u001b[39m \u001b[39m \u001b[39m \u001b[39m \u001b[39m \u001b[39m \u001b[39m \u001b[39m \u001b[39m \u001b[39m \u001b[39m \u001b[39m \u001b[39m \u001b[39m \u001b[39m \u001b[39m \u001b[39m \u001b[39m \u001b[39m▁\u001b[39m▃\u001b[39m▄\u001b[39m▃\u001b[39m▁\u001b[39m \u001b[39m \u001b[39m \u001b[39m \u001b[39m \u001b[39m \u001b[39m \u001b[39m \u001b[39m \u001b[39m \u001b[39m \u001b[39m \u001b[39m \u001b[39m \u001b[39m \u001b[39m \u001b[39m▂\n",
       "  \u001b[39m█\u001b[39m█\u001b[39m█\u001b[39m█\u001b[34m█\u001b[39m\u001b[39m█\u001b[39m█\u001b[39m█\u001b[39m█\u001b[39m▇\u001b[39m▇\u001b[39m▆\u001b[32m▆\u001b[39m\u001b[39m▆\u001b[39m▅\u001b[39m▅\u001b[39m▄\u001b[39m▄\u001b[39m▆\u001b[39m▇\u001b[39m▅\u001b[39m▅\u001b[39m▁\u001b[39m▁\u001b[39m▁\u001b[39m▁\u001b[39m▃\u001b[39m▁\u001b[39m▄\u001b[39m▅\u001b[39m▄\u001b[39m▄\u001b[39m▅\u001b[39m▄\u001b[39m▃\u001b[39m▃\u001b[39m▁\u001b[39m▁\u001b[39m▃\u001b[39m▃\u001b[39m█\u001b[39m█\u001b[39m█\u001b[39m█\u001b[39m█\u001b[39m█\u001b[39m█\u001b[39m▇\u001b[39m▆\u001b[39m▅\u001b[39m▅\u001b[39m▃\u001b[39m▄\u001b[39m▄\u001b[39m▁\u001b[39m▄\u001b[39m▄\u001b[39m▄\u001b[39m▄\u001b[39m▄\u001b[39m \u001b[39m█\n",
       "  19.3 μs\u001b[90m       \u001b[39m\u001b[90mHistogram: \u001b[39m\u001b[90m\u001b[1mlog(\u001b[22m\u001b[39m\u001b[90mfrequency\u001b[39m\u001b[90m\u001b[1m)\u001b[22m\u001b[39m\u001b[90m by time\u001b[39m       138 μs \u001b[0m\u001b[1m<\u001b[22m\n",
       "\n",
       " Memory estimate\u001b[90m: \u001b[39m\u001b[33m218.94 KiB\u001b[39m, allocs estimate\u001b[90m: \u001b[39m\u001b[33m27\u001b[39m."
      ]
     },
     "execution_count": 254,
     "metadata": {},
     "output_type": "execute_result"
    }
   ],
   "source": [
    "t_funcgrad = @benchmark withgradient(x->test3(x), a)"
   ]
  },
  {
   "cell_type": "code",
   "execution_count": 255,
   "id": "d1990a96-a103-489d-99a8-77ea32827007",
   "metadata": {},
   "outputs": [
    {
     "data": {
      "text/plain": [
       "2.9565217391304346"
      ]
     },
     "execution_count": 255,
     "metadata": {},
     "output_type": "execute_result"
    }
   ],
   "source": [
    "median(t_funcgrad).time/median(t_func).time"
   ]
  },
  {
   "cell_type": "markdown",
   "id": "ada6dd4b-cf22-431e-80dc-a9471ac074a2",
   "metadata": {
    "jp-MarkdownHeadingCollapsed": true
   },
   "source": [
    "## 1.5 - alm_prod(alm1::Alm{ComplexF64, Vector{ComplexF64}}, alm2::Alm{ComplexF64, Vector{ComplexF64}})"
   ]
  },
  {
   "cell_type": "code",
   "execution_count": 10,
   "id": "a85ad66e-e214-476a-8465-67863c59f26e",
   "metadata": {},
   "outputs": [
    {
     "data": {
      "text/plain": [
       "test4 (generic function with 1 method)"
      ]
     },
     "execution_count": 10,
     "metadata": {},
     "output_type": "execute_result"
    }
   ],
   "source": [
    "function test4(alm1::Alm{ComplexF64, Vector{ComplexF64}}, alm2::Alm{ComplexF64, Vector{ComplexF64}})\n",
    "    a = alm_prod(alm1,alm2)\n",
    "    s = real(sum(a))\n",
    "    return s\n",
    "end"
   ]
  },
  {
   "cell_type": "code",
   "execution_count": 11,
   "id": "51734f91-6171-41ed-a2aa-ad172ca92956",
   "metadata": {},
   "outputs": [
    {
     "data": {
      "text/plain": [
       "(val = -0.36274843625944353, grad = (Alm{ComplexF64, Vector{ComplexF64}}(ComplexF64[0.253907753552854 + 0.0im, 0.4505105317672352 + 0.0im, -0.3813325647510905 + 0.0im, -0.1491264640593099 + 0.0im, -0.14318400041943039 + 0.0im, -0.2999144571577564 + 0.0im, 0.6364092510053875 + 0.0im, 0.300210131108795 + 0.0im, -0.0699701713565044 + 0.0im, 0.3163538244790232 + 0.0im  …  0.3380272422240932 - 0.02171947419062596im, -0.20102493409180447 + 0.22977877132046284im, -0.22282584031906508 - 0.12927902478126158im, -0.04074854467245283 - 0.2612505551094993im, -0.04982575377404085 - 0.2745913878799517im, 0.018941735401947993 + 0.10889935854805163im, 0.08380324675149742 - 0.17990608282901485im, 0.41232330632275505 + 0.059519797889044254im, 0.0009432200975285654 - 0.037236541700935835im, 0.10528400837979998 - 0.03698526761038631im], 95, 95, 191),))"
      ]
     },
     "execution_count": 11,
     "metadata": {},
     "output_type": "execute_result"
    }
   ],
   "source": [
    "f, df = withgradient(x->test4(x, a1), a)"
   ]
  },
  {
   "cell_type": "code",
   "execution_count": 12,
   "id": "bcf61e4a-3fe6-4247-a429-d1d8307f31fb",
   "metadata": {},
   "outputs": [
    {
     "data": {
      "text/plain": [
       "-0.3988611311917105 + 0.0im"
      ]
     },
     "execution_count": 12,
     "metadata": {},
     "output_type": "execute_result"
    }
   ],
   "source": [
    "df[1].alm[11]"
   ]
  },
  {
   "cell_type": "code",
   "execution_count": 13,
   "id": "05987f1b-d2c5-4214-8e25-b5a42509a1df",
   "metadata": {},
   "outputs": [
    {
     "data": {
      "text/plain": [
       "-0.39886113119171895"
      ]
     },
     "execution_count": 13,
     "metadata": {},
     "output_type": "execute_result"
    }
   ],
   "source": [
    "(test4(a_up,a1)-test4(a_down,a1))/0.02"
   ]
  },
  {
   "cell_type": "code",
   "execution_count": 256,
   "id": "b5029813-e276-473e-9ca1-8c02547b92f3",
   "metadata": {},
   "outputs": [
    {
     "data": {
      "text/plain": [
       "BenchmarkTools.Trial: 10000 samples with 1 evaluation.\n",
       " Range \u001b[90m(\u001b[39m\u001b[36m\u001b[1mmin\u001b[22m\u001b[39m … \u001b[35mmax\u001b[39m\u001b[90m):  \u001b[39m\u001b[36m\u001b[1m16.400 μs\u001b[22m\u001b[39m … \u001b[35m 1.793 ms\u001b[39m  \u001b[90m┊\u001b[39m GC \u001b[90m(\u001b[39mmin … max\u001b[90m): \u001b[39m 0.00% … 95.95%\n",
       " Time  \u001b[90m(\u001b[39m\u001b[34m\u001b[1mmedian\u001b[22m\u001b[39m\u001b[90m):     \u001b[39m\u001b[34m\u001b[1m21.000 μs              \u001b[22m\u001b[39m\u001b[90m┊\u001b[39m GC \u001b[90m(\u001b[39mmedian\u001b[90m):    \u001b[39m 0.00%\n",
       " Time  \u001b[90m(\u001b[39m\u001b[32m\u001b[1mmean\u001b[22m\u001b[39m ± \u001b[32mσ\u001b[39m\u001b[90m):   \u001b[39m\u001b[32m\u001b[1m29.022 μs\u001b[22m\u001b[39m ± \u001b[32m91.706 μs\u001b[39m  \u001b[90m┊\u001b[39m GC \u001b[90m(\u001b[39mmean ± σ\u001b[90m):  \u001b[39m17.05% ±  5.36%\n",
       "\n",
       "  \u001b[39m▂\u001b[39m▄\u001b[39m▅\u001b[39m▇\u001b[34m█\u001b[39m\u001b[39m▆\u001b[39m▂\u001b[39m▁\u001b[39m \u001b[39m \u001b[39m \u001b[39m \u001b[32m \u001b[39m\u001b[39m \u001b[39m \u001b[39m \u001b[39m \u001b[39m \u001b[39m \u001b[39m \u001b[39m \u001b[39m \u001b[39m \u001b[39m \u001b[39m \u001b[39m \u001b[39m \u001b[39m \u001b[39m \u001b[39m \u001b[39m \u001b[39m \u001b[39m \u001b[39m \u001b[39m \u001b[39m \u001b[39m \u001b[39m \u001b[39m \u001b[39m \u001b[39m \u001b[39m \u001b[39m \u001b[39m \u001b[39m \u001b[39m \u001b[39m \u001b[39m \u001b[39m \u001b[39m \u001b[39m \u001b[39m▂\u001b[39m▂\u001b[39m▁\u001b[39m \u001b[39m \u001b[39m \u001b[39m \u001b[39m \u001b[39m \u001b[39m▂\n",
       "  \u001b[39m█\u001b[39m█\u001b[39m█\u001b[39m█\u001b[34m█\u001b[39m\u001b[39m█\u001b[39m█\u001b[39m█\u001b[39m▇\u001b[39m▇\u001b[39m▇\u001b[39m▆\u001b[32m▇\u001b[39m\u001b[39m▅\u001b[39m▄\u001b[39m▄\u001b[39m▄\u001b[39m▅\u001b[39m▃\u001b[39m▃\u001b[39m▄\u001b[39m▄\u001b[39m▁\u001b[39m▄\u001b[39m▁\u001b[39m▃\u001b[39m▃\u001b[39m▄\u001b[39m▁\u001b[39m▃\u001b[39m▁\u001b[39m▄\u001b[39m▁\u001b[39m▁\u001b[39m▃\u001b[39m▄\u001b[39m▄\u001b[39m▄\u001b[39m▃\u001b[39m▃\u001b[39m▁\u001b[39m▃\u001b[39m▁\u001b[39m▁\u001b[39m▁\u001b[39m▁\u001b[39m▁\u001b[39m▁\u001b[39m▁\u001b[39m▅\u001b[39m█\u001b[39m█\u001b[39m█\u001b[39m█\u001b[39m█\u001b[39m▇\u001b[39m▇\u001b[39m▆\u001b[39m▅\u001b[39m \u001b[39m█\n",
       "  16.4 μs\u001b[90m      \u001b[39m\u001b[90mHistogram: \u001b[39m\u001b[90m\u001b[1mlog(\u001b[22m\u001b[39m\u001b[90mfrequency\u001b[39m\u001b[90m\u001b[1m)\u001b[22m\u001b[39m\u001b[90m by time\u001b[39m      78.4 μs \u001b[0m\u001b[1m<\u001b[22m\n",
       "\n",
       " Memory estimate\u001b[90m: \u001b[39m\u001b[33m145.69 KiB\u001b[39m, allocs estimate\u001b[90m: \u001b[39m\u001b[33m6\u001b[39m."
      ]
     },
     "execution_count": 256,
     "metadata": {},
     "output_type": "execute_result"
    }
   ],
   "source": [
    "t_func = @benchmark test4(a,a1)"
   ]
  },
  {
   "cell_type": "code",
   "execution_count": 257,
   "id": "97fd6ad1-9799-4cc6-b290-8e1c33196ceb",
   "metadata": {},
   "outputs": [
    {
     "data": {
      "text/plain": [
       "BenchmarkTools.Trial: 10000 samples with 1 evaluation.\n",
       " Range \u001b[90m(\u001b[39m\u001b[36m\u001b[1mmin\u001b[22m\u001b[39m … \u001b[35mmax\u001b[39m\u001b[90m):  \u001b[39m\u001b[36m\u001b[1m53.500 μs\u001b[22m\u001b[39m … \u001b[35m  4.848 ms\u001b[39m  \u001b[90m┊\u001b[39m GC \u001b[90m(\u001b[39mmin … max\u001b[90m): \u001b[39m 0.00% … 95.49%\n",
       " Time  \u001b[90m(\u001b[39m\u001b[34m\u001b[1mmedian\u001b[22m\u001b[39m\u001b[90m):     \u001b[39m\u001b[34m\u001b[1m65.700 μs               \u001b[22m\u001b[39m\u001b[90m┊\u001b[39m GC \u001b[90m(\u001b[39mmedian\u001b[90m):    \u001b[39m 0.00%\n",
       " Time  \u001b[90m(\u001b[39m\u001b[32m\u001b[1mmean\u001b[22m\u001b[39m ± \u001b[32mσ\u001b[39m\u001b[90m):   \u001b[39m\u001b[32m\u001b[1m90.128 μs\u001b[22m\u001b[39m ± \u001b[32m188.491 μs\u001b[39m  \u001b[90m┊\u001b[39m GC \u001b[90m(\u001b[39mmean ± σ\u001b[90m):  \u001b[39m18.82% ±  8.82%\n",
       "\n",
       "  \u001b[39m▄\u001b[39m▇\u001b[34m█\u001b[39m\u001b[39m▃\u001b[39m▁\u001b[39m \u001b[39m \u001b[32m▁\u001b[39m\u001b[39m \u001b[39m \u001b[39m \u001b[39m \u001b[39m \u001b[39m \u001b[39m \u001b[39m \u001b[39m \u001b[39m \u001b[39m \u001b[39m \u001b[39m \u001b[39m \u001b[39m \u001b[39m \u001b[39m \u001b[39m \u001b[39m \u001b[39m \u001b[39m \u001b[39m▁\u001b[39m▂\u001b[39m▁\u001b[39m \u001b[39m \u001b[39m \u001b[39m \u001b[39m \u001b[39m \u001b[39m \u001b[39m \u001b[39m \u001b[39m \u001b[39m \u001b[39m \u001b[39m \u001b[39m \u001b[39m \u001b[39m \u001b[39m \u001b[39m \u001b[39m \u001b[39m \u001b[39m \u001b[39m \u001b[39m \u001b[39m \u001b[39m \u001b[39m \u001b[39m \u001b[39m \u001b[39m \u001b[39m▁\n",
       "  \u001b[39m█\u001b[39m█\u001b[34m█\u001b[39m\u001b[39m█\u001b[39m█\u001b[39m█\u001b[39m█\u001b[32m█\u001b[39m\u001b[39m▇\u001b[39m▅\u001b[39m▅\u001b[39m▄\u001b[39m▄\u001b[39m▅\u001b[39m▅\u001b[39m▄\u001b[39m▃\u001b[39m▅\u001b[39m▆\u001b[39m▅\u001b[39m▄\u001b[39m▃\u001b[39m▅\u001b[39m▅\u001b[39m▁\u001b[39m▁\u001b[39m▃\u001b[39m▁\u001b[39m▅\u001b[39m█\u001b[39m█\u001b[39m█\u001b[39m▇\u001b[39m▆\u001b[39m▅\u001b[39m▃\u001b[39m▅\u001b[39m▄\u001b[39m▄\u001b[39m▃\u001b[39m▅\u001b[39m▃\u001b[39m▃\u001b[39m▁\u001b[39m▄\u001b[39m▃\u001b[39m▃\u001b[39m▁\u001b[39m▁\u001b[39m▃\u001b[39m▄\u001b[39m▃\u001b[39m▄\u001b[39m▄\u001b[39m▄\u001b[39m▃\u001b[39m▃\u001b[39m▄\u001b[39m▁\u001b[39m▃\u001b[39m \u001b[39m█\n",
       "  53.5 μs\u001b[90m       \u001b[39m\u001b[90mHistogram: \u001b[39m\u001b[90m\u001b[1mlog(\u001b[22m\u001b[39m\u001b[90mfrequency\u001b[39m\u001b[90m\u001b[1m)\u001b[22m\u001b[39m\u001b[90m by time\u001b[39m       377 μs \u001b[0m\u001b[1m<\u001b[22m\n",
       "\n",
       " Memory estimate\u001b[90m: \u001b[39m\u001b[33m438.69 KiB\u001b[39m, allocs estimate\u001b[90m: \u001b[39m\u001b[33m47\u001b[39m."
      ]
     },
     "execution_count": 257,
     "metadata": {},
     "output_type": "execute_result"
    }
   ],
   "source": [
    "t_funcgrad = @benchmark withgradient(x->test4(x, a1), a)"
   ]
  },
  {
   "cell_type": "code",
   "execution_count": 258,
   "id": "d9ae3755-c305-4867-acb4-53ff9d4c2e4b",
   "metadata": {},
   "outputs": [
    {
     "data": {
      "text/plain": [
       "3.1285714285714286"
      ]
     },
     "execution_count": 258,
     "metadata": {},
     "output_type": "execute_result"
    }
   ],
   "source": [
    "median(t_funcgrad).time/median(t_func).time"
   ]
  },
  {
   "cell_type": "code",
   "execution_count": 227,
   "id": "bf4df623-e808-42b5-b490-deeedc2778da",
   "metadata": {},
   "outputs": [
    {
     "data": {
      "text/plain": [
       "test4 (generic function with 1 method)"
      ]
     },
     "execution_count": 227,
     "metadata": {},
     "output_type": "execute_result"
    }
   ],
   "source": [
    "function test4(alm1::Alm{ComplexF64, Vector{ComplexF64}}, alm2::Alm{ComplexF64, Vector{ComplexF64}})\n",
    "    a = alm_prod(alm1,alm2)\n",
    "    s = imag(sum(a))\n",
    "    return s\n",
    "end"
   ]
  },
  {
   "cell_type": "code",
   "execution_count": 228,
   "id": "7c2090e4-f018-4c9e-82c1-ac462ccf876b",
   "metadata": {},
   "outputs": [
    {
     "data": {
      "text/plain": [
       "(val = -0.5308668593862856, grad = (Alm{ComplexF64, Vector{ComplexF64}}(ComplexF64[0.0 + 0.0im, 0.0 + 0.0im, -0.0 + 0.0im, 0.0 + 0.0im, -0.0 + 0.0im, -0.0 + 0.0im, 0.0 + 0.0im, -0.0 + 0.0im, -0.0 + 0.0im, -0.0 + 0.0im  …  0.5425603263892964 + 0.27241303524784194im, 0.1113988265577519 + 0.09344786273200449im, 0.06330875141086517 + 0.19681254928603478im, -0.021986949382922828 + 0.1314894754536127im, -0.09397268380503732 + 0.04247727022571366im, 0.39081218601224915 + 0.11506692290177446im, 0.1255210924225785 + 0.05817487292315588im, -0.18060994738235994 - 0.1944199088724708im, -0.2795205990535535 - 0.25288479537133746im, -0.3304277135509716 - 0.013340527413356605im], 95, 95, 191),))"
      ]
     },
     "execution_count": 228,
     "metadata": {},
     "output_type": "execute_result"
    }
   ],
   "source": [
    "f, df = withgradient(x->test4(a, x), a1)"
   ]
  },
  {
   "cell_type": "code",
   "execution_count": 229,
   "id": "99bcb720-783e-475d-a80d-1a79d930d663",
   "metadata": {},
   "outputs": [
    {
     "data": {
      "text/plain": [
       "-0.0 + 0.0im"
      ]
     },
     "execution_count": 229,
     "metadata": {},
     "output_type": "execute_result"
    }
   ],
   "source": [
    "df[1].alm[10]"
   ]
  },
  {
   "cell_type": "code",
   "execution_count": 230,
   "id": "13ea801d-1e34-480c-98b9-c160bdbfff64",
   "metadata": {},
   "outputs": [
    {
     "data": {
      "text/plain": [
       "0.0"
      ]
     },
     "execution_count": 230,
     "metadata": {},
     "output_type": "execute_result"
    }
   ],
   "source": [
    "(test4(a,a_up1)-test4(a,a_down1))/0.02"
   ]
  },
  {
   "cell_type": "markdown",
   "id": "bb506dec-c954-4411-96fe-a23825d788fc",
   "metadata": {
    "jp-MarkdownHeadingCollapsed": true
   },
   "source": [
    "## 1.6 - alm2map(alm::Alm{ComplexF64, Vector{ComplexF64}}, nside::Integer)"
   ]
  },
  {
   "cell_type": "code",
   "execution_count": 14,
   "id": "3e2f2e6f-01d6-4e27-bde5-67ff90f4b0ee",
   "metadata": {},
   "outputs": [
    {
     "data": {
      "text/plain": [
       "test5 (generic function with 1 method)"
      ]
     },
     "execution_count": 14,
     "metadata": {},
     "output_type": "execute_result"
    }
   ],
   "source": [
    "function test5(alm::Alm{ComplexF64, Vector{ComplexF64}}, nside::Integer)\n",
    "    m = alm2map(alm, nside)\n",
    "    s = sum(m)\n",
    "    return s\n",
    "end"
   ]
  },
  {
   "cell_type": "code",
   "execution_count": 15,
   "id": "6a5b3672-945b-4b2d-a6bd-9f3dec7ef972",
   "metadata": {},
   "outputs": [
    {
     "data": {
      "text/plain": [
       "(val = 291.9329604788829, grad = (Alm{ComplexF64, Vector{ComplexF64}}(ComplexF64[3466.3808013174157 + 0.0im, 3.829412739647291e-15 + 0.0im, -0.35050351685367787 + 0.0im, -8.77428687333097e-15 + 0.0im, -0.8059313632047633 + 0.0im, 1.3748938363971676e-14 + 0.0im, -0.690103660549994 + 0.0im, -1.8731184499464162e-14 + 0.0im, -0.5300925273127177 + 0.0im, 2.3716409200848677e-14 + 0.0im  …  -2.758022265874035e-21 - 1.392938795939659e-29im, 0.0 + 0.0im, -2.499462592840128e-19 - 8.663609192724006e-28im, 0.0 + 0.0im, 3.633691577486515e-32 - 4.565484393116853e-32im, 0.0 + 0.0im, 2.6884149992965502e-30 - 3.378459903899197e-30im, 7.63040463546246e-29 - 7.409374029955763e-30im, 0.0 + 0.0im, -6.413674679094654e-29 + 1.3025071565759694e-29im], 95, 95, 191),))"
      ]
     },
     "execution_count": 15,
     "metadata": {},
     "output_type": "execute_result"
    }
   ],
   "source": [
    "f, df = withgradient(x->test5(x, 32), a)"
   ]
  },
  {
   "cell_type": "code",
   "execution_count": 16,
   "id": "61c2bde0-e50a-4039-ad2c-47dde95c2918",
   "metadata": {},
   "outputs": [
    {
     "data": {
      "text/plain": [
       "-0.9082590450875614 + 0.0im"
      ]
     },
     "execution_count": 16,
     "metadata": {},
     "output_type": "execute_result"
    }
   ],
   "source": [
    "df[1].alm[11]"
   ]
  },
  {
   "cell_type": "code",
   "execution_count": 17,
   "id": "8094bb9a-42d9-4e6e-8a73-d37788a729ea",
   "metadata": {},
   "outputs": [
    {
     "data": {
      "text/plain": [
       "-0.9082590450020689"
      ]
     },
     "execution_count": 17,
     "metadata": {},
     "output_type": "execute_result"
    }
   ],
   "source": [
    "(test5(a_up, 32)-test5(a_down, 32))/0.02"
   ]
  },
  {
   "cell_type": "code",
   "execution_count": 51,
   "id": "a1b573c5-906f-48f8-ba77-6fbe2eb2a5df",
   "metadata": {},
   "outputs": [
    {
     "data": {
      "text/plain": [
       "Alm{ComplexF64, Vector{ComplexF64}}(ComplexF64[0.38668945779979985 + 0.0im, -0.27781396624029336 + 0.0im, -0.29053432593162176 + 0.0im, -0.02278182645080117 + 0.0im, -0.5813474252070974 + 0.0im, 0.6493415249691663 + 0.0im, -0.2675548315408978 + 0.0im, -0.23455593193402108 + 0.0im, 0.11661585514242741 + 0.0im, -0.5251072849365288 + 0.0im  …  -0.15188189583723125 + 0.19869801517391092im, -0.04821749802786917 + 0.13667890952207884im, 0.09717862325360682 - 0.31610595271911474im, 0.010196603471206322 + 0.6401330574869057im, -0.02613026839800301 + 0.0972650517992572im, -0.005015196888905475 + 0.06049196413651737im, -0.33397608184891814 - 0.15325919012132497im, 0.15451453427508904 - 0.0878122419309535im, 0.17603110397745164 + 0.3093460810010402im, -0.03725437911217752 - 0.09532828066424262im], 95, 95, 191)"
      ]
     },
     "execution_count": 51,
     "metadata": {},
     "output_type": "execute_result"
    }
   ],
   "source": [
    "eps = zeros(length(a.alm))\n",
    "eps[113]+=0.01\n",
    "a_up = Alm{ComplexF64, Array{ComplexF64, 1}}(a.lmax, a.mmax, a.alm + eps)\n",
    "a_down = Alm{ComplexF64, Array{ComplexF64, 1}}(a.lmax, a.mmax, a.alm - eps)"
   ]
  },
  {
   "cell_type": "code",
   "execution_count": 52,
   "id": "43a7b558-31c2-4e66-8bc7-da655ef66190",
   "metadata": {},
   "outputs": [
    {
     "data": {
      "text/plain": [
       "1.7053025658242404e-10"
      ]
     },
     "execution_count": 52,
     "metadata": {},
     "output_type": "execute_result"
    }
   ],
   "source": [
    "(test5(a_up, 32)-test5(a_down, 32))/0.02"
   ]
  },
  {
   "cell_type": "code",
   "execution_count": 250,
   "id": "db3b6239-7216-40a5-b4a4-980f81a18c18",
   "metadata": {},
   "outputs": [
    {
     "data": {
      "text/plain": [
       "BenchmarkTools.Trial: 7663 samples with 1 evaluation.\n",
       " Range \u001b[90m(\u001b[39m\u001b[36m\u001b[1mmin\u001b[22m\u001b[39m … \u001b[35mmax\u001b[39m\u001b[90m):  \u001b[39m\u001b[36m\u001b[1m538.800 μs\u001b[22m\u001b[39m … \u001b[35m  2.645 ms\u001b[39m  \u001b[90m┊\u001b[39m GC \u001b[90m(\u001b[39mmin … max\u001b[90m): \u001b[39m0.00% … 61.26%\n",
       " Time  \u001b[90m(\u001b[39m\u001b[34m\u001b[1mmedian\u001b[22m\u001b[39m\u001b[90m):     \u001b[39m\u001b[34m\u001b[1m606.900 μs               \u001b[22m\u001b[39m\u001b[90m┊\u001b[39m GC \u001b[90m(\u001b[39mmedian\u001b[90m):    \u001b[39m0.00%\n",
       " Time  \u001b[90m(\u001b[39m\u001b[32m\u001b[1mmean\u001b[22m\u001b[39m ± \u001b[32mσ\u001b[39m\u001b[90m):   \u001b[39m\u001b[32m\u001b[1m645.689 μs\u001b[22m\u001b[39m ± \u001b[32m137.200 μs\u001b[39m  \u001b[90m┊\u001b[39m GC \u001b[90m(\u001b[39mmean ± σ\u001b[90m):  \u001b[39m0.99% ±  4.11%\n",
       "\n",
       "  \u001b[39m \u001b[39m \u001b[39m \u001b[39m \u001b[39m▄\u001b[39m▆\u001b[39m█\u001b[39m▆\u001b[39m▃\u001b[39m▁\u001b[39m \u001b[39m \u001b[39m \u001b[39m \u001b[39m \u001b[39m \u001b[34m \u001b[39m\u001b[39m \u001b[39m \u001b[39m \u001b[39m \u001b[39m \u001b[39m \u001b[39m \u001b[39m \u001b[32m \u001b[39m\u001b[39m \u001b[39m \u001b[39m \u001b[39m \u001b[39m \u001b[39m \u001b[39m \u001b[39m \u001b[39m \u001b[39m \u001b[39m \u001b[39m \u001b[39m▁\u001b[39m▁\u001b[39m▁\u001b[39m▂\u001b[39m \u001b[39m \u001b[39m \u001b[39m \u001b[39m \u001b[39m \u001b[39m \u001b[39m \u001b[39m \u001b[39m \u001b[39m \u001b[39m \u001b[39m \u001b[39m \u001b[39m \u001b[39m \u001b[39m \u001b[39m \u001b[39m \u001b[39m \u001b[39m \n",
       "  \u001b[39m▁\u001b[39m▂\u001b[39m▄\u001b[39m▇\u001b[39m█\u001b[39m█\u001b[39m█\u001b[39m█\u001b[39m█\u001b[39m█\u001b[39m▇\u001b[39m▅\u001b[39m▃\u001b[39m▃\u001b[39m▂\u001b[39m▂\u001b[34m▂\u001b[39m\u001b[39m▂\u001b[39m▂\u001b[39m▂\u001b[39m▂\u001b[39m▂\u001b[39m▂\u001b[39m▂\u001b[39m▂\u001b[32m▂\u001b[39m\u001b[39m▂\u001b[39m▂\u001b[39m▂\u001b[39m▂\u001b[39m▂\u001b[39m▂\u001b[39m▂\u001b[39m▂\u001b[39m▃\u001b[39m▄\u001b[39m▅\u001b[39m▆\u001b[39m█\u001b[39m█\u001b[39m█\u001b[39m█\u001b[39m█\u001b[39m▇\u001b[39m▆\u001b[39m▅\u001b[39m▄\u001b[39m▃\u001b[39m▂\u001b[39m▂\u001b[39m▂\u001b[39m▂\u001b[39m▁\u001b[39m▂\u001b[39m▁\u001b[39m▁\u001b[39m▁\u001b[39m▁\u001b[39m▁\u001b[39m▁\u001b[39m▁\u001b[39m \u001b[39m▃\n",
       "  539 μs\u001b[90m           Histogram: frequency by time\u001b[39m          800 μs \u001b[0m\u001b[1m<\u001b[22m\n",
       "\n",
       " Memory estimate\u001b[90m: \u001b[39m\u001b[33m192.47 KiB\u001b[39m, allocs estimate\u001b[90m: \u001b[39m\u001b[33m11\u001b[39m."
      ]
     },
     "execution_count": 250,
     "metadata": {},
     "output_type": "execute_result"
    }
   ],
   "source": [
    "t_func = @benchmark test5(a, 32)"
   ]
  },
  {
   "cell_type": "code",
   "execution_count": 251,
   "id": "2ffd6bdb-698d-4b3a-a0a7-2d92c18543a5",
   "metadata": {},
   "outputs": [
    {
     "data": {
      "text/plain": [
       "BenchmarkTools.Trial: 3465 samples with 1 evaluation.\n",
       " Range \u001b[90m(\u001b[39m\u001b[36m\u001b[1mmin\u001b[22m\u001b[39m … \u001b[35mmax\u001b[39m\u001b[90m):  \u001b[39m\u001b[36m\u001b[1m1.104 ms\u001b[22m\u001b[39m … \u001b[35m  8.467 ms\u001b[39m  \u001b[90m┊\u001b[39m GC \u001b[90m(\u001b[39mmin … max\u001b[90m): \u001b[39m0.00% … 75.63%\n",
       " Time  \u001b[90m(\u001b[39m\u001b[34m\u001b[1mmedian\u001b[22m\u001b[39m\u001b[90m):     \u001b[39m\u001b[34m\u001b[1m1.427 ms               \u001b[22m\u001b[39m\u001b[90m┊\u001b[39m GC \u001b[90m(\u001b[39mmedian\u001b[90m):    \u001b[39m0.00%\n",
       " Time  \u001b[90m(\u001b[39m\u001b[32m\u001b[1mmean\u001b[22m\u001b[39m ± \u001b[32mσ\u001b[39m\u001b[90m):   \u001b[39m\u001b[32m\u001b[1m1.435 ms\u001b[22m\u001b[39m ± \u001b[32m243.262 μs\u001b[39m  \u001b[90m┊\u001b[39m GC \u001b[90m(\u001b[39mmean ± σ\u001b[90m):  \u001b[39m1.16% ±  4.87%\n",
       "\n",
       "  \u001b[39m \u001b[39m \u001b[39m \u001b[39m \u001b[39m \u001b[39m \u001b[39m \u001b[39m \u001b[39m \u001b[39m \u001b[39m \u001b[39m \u001b[39m \u001b[39m \u001b[39m \u001b[39m▄\u001b[34m█\u001b[39m\u001b[32m▃\u001b[39m\u001b[39m \u001b[39m \u001b[39m \u001b[39m \u001b[39m \u001b[39m \u001b[39m \u001b[39m \u001b[39m \u001b[39m \u001b[39m \u001b[39m \u001b[39m \u001b[39m \u001b[39m \u001b[39m \u001b[39m \u001b[39m \u001b[39m \u001b[39m \u001b[39m \u001b[39m \u001b[39m \u001b[39m \u001b[39m \u001b[39m \u001b[39m \u001b[39m \u001b[39m \u001b[39m \u001b[39m \u001b[39m \u001b[39m \u001b[39m \u001b[39m \u001b[39m \u001b[39m \u001b[39m \u001b[39m \u001b[39m \u001b[39m \u001b[39m \u001b[39m \n",
       "  \u001b[39m▃\u001b[39m▄\u001b[39m▄\u001b[39m▃\u001b[39m▃\u001b[39m▂\u001b[39m▃\u001b[39m▃\u001b[39m▂\u001b[39m▃\u001b[39m▃\u001b[39m▃\u001b[39m▄\u001b[39m▆\u001b[39m█\u001b[39m█\u001b[34m█\u001b[39m\u001b[32m█\u001b[39m\u001b[39m▆\u001b[39m▅\u001b[39m▅\u001b[39m▅\u001b[39m▄\u001b[39m▃\u001b[39m▃\u001b[39m▃\u001b[39m▃\u001b[39m▂\u001b[39m▂\u001b[39m▂\u001b[39m▂\u001b[39m▂\u001b[39m▂\u001b[39m▂\u001b[39m▂\u001b[39m▁\u001b[39m▁\u001b[39m▁\u001b[39m▂\u001b[39m▁\u001b[39m▁\u001b[39m▂\u001b[39m▁\u001b[39m▁\u001b[39m▁\u001b[39m▁\u001b[39m▁\u001b[39m▁\u001b[39m▂\u001b[39m▁\u001b[39m▁\u001b[39m▁\u001b[39m▁\u001b[39m▁\u001b[39m▁\u001b[39m▁\u001b[39m▂\u001b[39m▁\u001b[39m▂\u001b[39m \u001b[39m▃\n",
       "  1.1 ms\u001b[90m          Histogram: frequency by time\u001b[39m        2.27 ms \u001b[0m\u001b[1m<\u001b[22m\n",
       "\n",
       " Memory estimate\u001b[90m: \u001b[39m\u001b[33m435.05 KiB\u001b[39m, allocs estimate\u001b[90m: \u001b[39m\u001b[33m44\u001b[39m."
      ]
     },
     "execution_count": 251,
     "metadata": {},
     "output_type": "execute_result"
    }
   ],
   "source": [
    "t_funcgrad = @benchmark withgradient(x->test5(x, 32), a)"
   ]
  },
  {
   "cell_type": "code",
   "execution_count": 252,
   "id": "4b0661cc-4157-477f-8981-fa65b9ffd373",
   "metadata": {},
   "outputs": [
    {
     "data": {
      "text/plain": [
       "2.3512934585598946"
      ]
     },
     "execution_count": 252,
     "metadata": {},
     "output_type": "execute_result"
    }
   ],
   "source": [
    "median(t_funcgrad).time/median(t_func).time"
   ]
  },
  {
   "cell_type": "markdown",
   "id": "2a245cfd-2332-445e-af92-e45f534c4598",
   "metadata": {
    "jp-MarkdownHeadingCollapsed": true
   },
   "source": [
    "## 1.7 - map2alm(map::HealpixMap{T,O,AA})"
   ]
  },
  {
   "cell_type": "code",
   "execution_count": 18,
   "id": "6361cadb-0c97-4484-b156-b8606b79f02c",
   "metadata": {},
   "outputs": [
    {
     "data": {
      "text/plain": [
       "test6_truegrad (generic function with 1 method)"
      ]
     },
     "execution_count": 18,
     "metadata": {},
     "output_type": "execute_result"
    }
   ],
   "source": [
    "function test6(map::HealpixMap{T,O,AA}) where{T, O <:Order, AA<:AbstractArray{T,1}}\n",
    "    a = map2alm(map)\n",
    "    s = real(sum(a))\n",
    "    return s\n",
    "end\n",
    "\n",
    "function test6_truegrad(map::HealpixMap{T,O,AA}) where{T, O <:Order, AA<:AbstractArray{T,1}}\n",
    "    a = map2alm(map)\n",
    "    a₁ = Alm(a.lmax, a.mmax, ones(numberOfAlms(a.lmax)))\n",
    "    return conj(adjoint_map2alm(a₁, map.resolution.nside))\n",
    "end"
   ]
  },
  {
   "cell_type": "code",
   "execution_count": 19,
   "id": "e197fb6b-3609-4b6b-88d8-8df7bb861b4f",
   "metadata": {},
   "outputs": [
    {
     "data": {
      "text/plain": [
       "(val = -1.4319394493171096, grad = ([-0.02692023030367345, 0.258392210542296, 0.25839221054229605, -0.02692023030367345, -0.03179509732433193, -0.05716981788125061, -0.16460786430164276, 0.2241705199020596, 0.22417051990205966, -0.1646078643016428  …  -0.0006017396164057321, -0.00046751495885258873, -0.0004675149588525886, -0.0006017396164057322, 0.0015007481043165407, 0.001820785408758422, -0.00040828713773921393, 0.0012085365526582409, 0.0012085365526582409, -0.0004082871377392134],))"
      ]
     },
     "execution_count": 19,
     "metadata": {},
     "output_type": "execute_result"
    }
   ],
   "source": [
    "f, df = withgradient(x->test6(x), m)"
   ]
  },
  {
   "cell_type": "code",
   "execution_count": 20,
   "id": "df7614a8-895c-4885-b2cc-3411bef9d274",
   "metadata": {},
   "outputs": [],
   "source": [
    "df_true = test6_truegrad(m);"
   ]
  },
  {
   "cell_type": "code",
   "execution_count": 21,
   "id": "cf106fa5-8bc3-4976-a646-f9f468d9b41b",
   "metadata": {},
   "outputs": [
    {
     "data": {
      "text/plain": [
       "-0.1646078643016428"
      ]
     },
     "execution_count": 21,
     "metadata": {},
     "output_type": "execute_result"
    }
   ],
   "source": [
    "df[1][10]"
   ]
  },
  {
   "cell_type": "code",
   "execution_count": 22,
   "id": "3869c002-ff51-4096-94fe-b42c8b413a09",
   "metadata": {},
   "outputs": [
    {
     "data": {
      "text/plain": [
       "-0.1646078643016428"
      ]
     },
     "execution_count": 22,
     "metadata": {},
     "output_type": "execute_result"
    }
   ],
   "source": [
    "df_true[10]"
   ]
  },
  {
   "cell_type": "code",
   "execution_count": 277,
   "id": "61b5a44c-094a-4ac7-ae61-a6dff78cf28d",
   "metadata": {},
   "outputs": [
    {
     "data": {
      "text/plain": [
       "-0.13627852625077708"
      ]
     },
     "execution_count": 277,
     "metadata": {},
     "output_type": "execute_result"
    }
   ],
   "source": [
    "(test6(m_up)-test6(m_down))/0.02"
   ]
  },
  {
   "cell_type": "code",
   "execution_count": 265,
   "id": "15e6243a-0f06-43c9-9ffa-ddd6575289a4",
   "metadata": {},
   "outputs": [],
   "source": [
    "eps = zeros(length(m))\n",
    "eps[25]+=0.01\n",
    "m_up = HealpixMap{Float64, RingOrder}(m + eps)\n",
    "m_down = HealpixMap{Float64, RingOrder}(m - eps);"
   ]
  },
  {
   "cell_type": "code",
   "execution_count": 125,
   "id": "d5ce8374-7832-4a29-b296-f906b9b9e03e",
   "metadata": {},
   "outputs": [
    {
     "data": {
      "text/plain": [
       "-0.00020413183667855606"
      ]
     },
     "execution_count": 125,
     "metadata": {},
     "output_type": "execute_result"
    }
   ],
   "source": [
    "(test6(m_up)-test6(m_down))/0.02"
   ]
  },
  {
   "cell_type": "code",
   "execution_count": null,
   "id": "c2a708b8-27bb-4c02-a563-57bbdf70f75b",
   "metadata": {},
   "outputs": [],
   "source": [
    "median(t_funcgrad).time/median(t_func).time"
   ]
  },
  {
   "cell_type": "markdown",
   "id": "373eb18f-4d9e-42db-8107-606b0f36649e",
   "metadata": {
    "jp-MarkdownHeadingCollapsed": true
   },
   "source": [
    "## 1.8 - from_alm_to_healpix_alm(alm, l_max, nbin)"
   ]
  },
  {
   "cell_type": "code",
   "execution_count": 7,
   "id": "b68077d1-c21e-401b-ad6c-ab00a4da15e1",
   "metadata": {},
   "outputs": [],
   "source": [
    "alms = from_healpix_alm_to_alm([a,a1], 2047, 1);"
   ]
  },
  {
   "cell_type": "code",
   "execution_count": 8,
   "id": "d5e5fc34-c48d-441a-b330-00eaa742cd1d",
   "metadata": {},
   "outputs": [
    {
     "data": {
      "text/plain": [
       "test7 (generic function with 1 method)"
      ]
     },
     "execution_count": 8,
     "metadata": {},
     "output_type": "execute_result"
    }
   ],
   "source": [
    "function test7(alms, lmax, nbin)\n",
    "    hpix_alms = from_alm_to_healpix_alm(alms, lmax, nbin)\n",
    "    s=0.\n",
    "    for i in 1:2*nbin\n",
    "        s += real(sum(hpix_alms[i]))\n",
    "    end\n",
    "    return s\n",
    "end"
   ]
  },
  {
   "cell_type": "code",
   "execution_count": 9,
   "id": "706c7c9b-bf96-430d-bde4-711e1703f8ce",
   "metadata": {},
   "outputs": [
    {
     "data": {
      "text/plain": [
       "(val = 7.431646906538221, grad = ([[1.0; 1.0;;], [1.0 1.0 0.0; 1.0 1.0 0.0], [1.0 1.0 … 1.0 0.0; 1.0 1.0 … 1.0 0.0], [1.0 1.0 … 1.0 0.0; 1.0 1.0 … 1.0 0.0], [1.0 1.0 … 1.0 0.0; 1.0 1.0 … 1.0 0.0], [1.0 1.0 … 1.0 0.0; 1.0 1.0 … 1.0 0.0], [1.0 1.0 … 1.0 0.0; 1.0 1.0 … 1.0 0.0], [1.0 1.0 … 1.0 0.0; 1.0 1.0 … 1.0 0.0], [1.0 1.0 … 1.0 0.0; 1.0 1.0 … 1.0 0.0], [1.0 1.0 … 1.0 0.0; 1.0 1.0 … 1.0 0.0]  …  [1.0 1.0 … 1.0 0.0; 1.0 1.0 … 1.0 0.0], [1.0 1.0 … 1.0 0.0; 1.0 1.0 … 1.0 0.0], [1.0 1.0 … 1.0 0.0; 1.0 1.0 … 1.0 0.0], [1.0 1.0 … 1.0 0.0; 1.0 1.0 … 1.0 0.0], [1.0 1.0 … 1.0 0.0; 1.0 1.0 … 1.0 0.0], [1.0 1.0 … 1.0 0.0; 1.0 1.0 … 1.0 0.0], [1.0 1.0 … 1.0 0.0; 1.0 1.0 … 1.0 0.0], [1.0 1.0 … 1.0 0.0; 1.0 1.0 … 1.0 0.0], [1.0 1.0 … 1.0 0.0; 1.0 1.0 … 1.0 0.0], [1.0 1.0 … 1.0 0.0; 1.0 1.0 … 1.0 0.0]],))"
      ]
     },
     "execution_count": 9,
     "metadata": {},
     "output_type": "execute_result"
    }
   ],
   "source": [
    "f, df = withgradient(x->test7(x, 2047, 1), alms)"
   ]
  },
  {
   "cell_type": "code",
   "execution_count": 10,
   "id": "e979db58-f79f-42bc-88c9-481a0e11e055",
   "metadata": {},
   "outputs": [],
   "source": [
    "hpix_df = from_alm_to_healpix_alm(df[1],2047,1);"
   ]
  },
  {
   "cell_type": "code",
   "execution_count": 11,
   "id": "482c0253-1d47-4976-aa35-49a11f24cfb3",
   "metadata": {},
   "outputs": [
    {
     "data": {
      "text/plain": [
       "1.0 + 0.0im"
      ]
     },
     "execution_count": 11,
     "metadata": {},
     "output_type": "execute_result"
    }
   ],
   "source": [
    "hpix_df[1].alm[11]"
   ]
  },
  {
   "cell_type": "code",
   "execution_count": 12,
   "id": "2b2f8bc5-ec64-44b1-b0b1-7f94ec77646a",
   "metadata": {},
   "outputs": [],
   "source": [
    "alms1_up = from_healpix_alm_to_alm([a_up,a1], 2047, 1)\n",
    "alms1_down = from_healpix_alm_to_alm([a_down,a1], 2047, 1);"
   ]
  },
  {
   "cell_type": "code",
   "execution_count": 13,
   "id": "fe410329-8133-4370-8553-bdfa9ff73f89",
   "metadata": {},
   "outputs": [
    {
     "data": {
      "text/plain": [
       "0.9999999999999787"
      ]
     },
     "execution_count": 13,
     "metadata": {},
     "output_type": "execute_result"
    }
   ],
   "source": [
    "(test7(alms1_up,2047,1)-test7(alms1_down,2047,1))/0.02"
   ]
  },
  {
   "cell_type": "code",
   "execution_count": 76,
   "id": "4da48a47-89c6-4f34-af58-86c513258b27",
   "metadata": {},
   "outputs": [
    {
     "data": {
      "text/plain": [
       "BenchmarkTools.Trial: 5 samples with 1 evaluation.\n",
       " Range \u001b[90m(\u001b[39m\u001b[36m\u001b[1mmin\u001b[22m\u001b[39m … \u001b[35mmax\u001b[39m\u001b[90m):  \u001b[39m\u001b[36m\u001b[1m1.065 s\u001b[22m\u001b[39m … \u001b[35m  1.185 s\u001b[39m  \u001b[90m┊\u001b[39m GC \u001b[90m(\u001b[39mmin … max\u001b[90m): \u001b[39m 0.00% … 11.79%\n",
       " Time  \u001b[90m(\u001b[39m\u001b[34m\u001b[1mmedian\u001b[22m\u001b[39m\u001b[90m):     \u001b[39m\u001b[34m\u001b[1m1.175 s              \u001b[22m\u001b[39m\u001b[90m┊\u001b[39m GC \u001b[90m(\u001b[39mmedian\u001b[90m):    \u001b[39m10.89%\n",
       " Time  \u001b[90m(\u001b[39m\u001b[32m\u001b[1mmean\u001b[22m\u001b[39m ± \u001b[32mσ\u001b[39m\u001b[90m):   \u001b[39m\u001b[32m\u001b[1m1.155 s\u001b[22m\u001b[39m ± \u001b[32m50.035 ms\u001b[39m  \u001b[90m┊\u001b[39m GC \u001b[90m(\u001b[39mmean ± σ\u001b[90m):  \u001b[39m 9.20% ±  5.06%\n",
       "\n",
       "  \u001b[39m█\u001b[39m \u001b[39m \u001b[39m \u001b[39m \u001b[39m \u001b[39m \u001b[39m \u001b[39m \u001b[39m \u001b[39m \u001b[39m \u001b[39m \u001b[39m \u001b[39m \u001b[39m \u001b[39m \u001b[39m \u001b[39m \u001b[39m \u001b[39m \u001b[39m \u001b[39m \u001b[39m \u001b[39m \u001b[39m \u001b[39m \u001b[39m \u001b[39m \u001b[39m \u001b[39m \u001b[39m \u001b[39m \u001b[39m \u001b[39m \u001b[39m \u001b[39m \u001b[39m \u001b[39m \u001b[39m \u001b[39m \u001b[39m \u001b[39m \u001b[32m \u001b[39m\u001b[39m \u001b[39m \u001b[39m \u001b[39m \u001b[39m \u001b[39m \u001b[34m█\u001b[39m\u001b[39m \u001b[39m█\u001b[39m█\u001b[39m \u001b[39m \u001b[39m█\u001b[39m \u001b[39m \n",
       "  \u001b[39m█\u001b[39m▁\u001b[39m▁\u001b[39m▁\u001b[39m▁\u001b[39m▁\u001b[39m▁\u001b[39m▁\u001b[39m▁\u001b[39m▁\u001b[39m▁\u001b[39m▁\u001b[39m▁\u001b[39m▁\u001b[39m▁\u001b[39m▁\u001b[39m▁\u001b[39m▁\u001b[39m▁\u001b[39m▁\u001b[39m▁\u001b[39m▁\u001b[39m▁\u001b[39m▁\u001b[39m▁\u001b[39m▁\u001b[39m▁\u001b[39m▁\u001b[39m▁\u001b[39m▁\u001b[39m▁\u001b[39m▁\u001b[39m▁\u001b[39m▁\u001b[39m▁\u001b[39m▁\u001b[39m▁\u001b[39m▁\u001b[39m▁\u001b[39m▁\u001b[39m▁\u001b[39m▁\u001b[39m▁\u001b[32m▁\u001b[39m\u001b[39m▁\u001b[39m▁\u001b[39m▁\u001b[39m▁\u001b[39m▁\u001b[39m▁\u001b[34m█\u001b[39m\u001b[39m▁\u001b[39m█\u001b[39m█\u001b[39m▁\u001b[39m▁\u001b[39m█\u001b[39m \u001b[39m▁\n",
       "  1.07 s\u001b[90m         Histogram: frequency by time\u001b[39m        1.18 s \u001b[0m\u001b[1m<\u001b[22m\n",
       "\n",
       " Memory estimate\u001b[90m: \u001b[39m\u001b[33m609.98 MiB\u001b[39m, allocs estimate\u001b[90m: \u001b[39m\u001b[33m27394576\u001b[39m."
      ]
     },
     "execution_count": 76,
     "metadata": {},
     "output_type": "execute_result"
    }
   ],
   "source": [
    "t_func = @benchmark test7(alms, 2047, 1)"
   ]
  },
  {
   "cell_type": "code",
   "execution_count": 77,
   "id": "895642ed-c251-4929-a334-f3e49e415492",
   "metadata": {},
   "outputs": [
    {
     "data": {
      "text/plain": [
       "BenchmarkTools.Trial: 4 samples with 1 evaluation.\n",
       " Range \u001b[90m(\u001b[39m\u001b[36m\u001b[1mmin\u001b[22m\u001b[39m … \u001b[35mmax\u001b[39m\u001b[90m):  \u001b[39m\u001b[36m\u001b[1m1.273 s\u001b[22m\u001b[39m … \u001b[35m   1.557 s\u001b[39m  \u001b[90m┊\u001b[39m GC \u001b[90m(\u001b[39mmin … max\u001b[90m): \u001b[39m 8.75% … 8.86%\n",
       " Time  \u001b[90m(\u001b[39m\u001b[34m\u001b[1mmedian\u001b[22m\u001b[39m\u001b[90m):     \u001b[39m\u001b[34m\u001b[1m1.433 s               \u001b[22m\u001b[39m\u001b[90m┊\u001b[39m GC \u001b[90m(\u001b[39mmedian\u001b[90m):    \u001b[39m 8.70%\n",
       " Time  \u001b[90m(\u001b[39m\u001b[32m\u001b[1mmean\u001b[22m\u001b[39m ± \u001b[32mσ\u001b[39m\u001b[90m):   \u001b[39m\u001b[32m\u001b[1m1.424 s\u001b[22m\u001b[39m ± \u001b[32m150.113 ms\u001b[39m  \u001b[90m┊\u001b[39m GC \u001b[90m(\u001b[39mmean ± σ\u001b[90m):  \u001b[39m10.90% ± 4.12%\n",
       "\n",
       "  \u001b[39m█\u001b[39m \u001b[39m \u001b[39m \u001b[39m \u001b[39m \u001b[39m \u001b[39m \u001b[39m \u001b[34m█\u001b[39m\u001b[39m \u001b[39m \u001b[39m \u001b[39m \u001b[39m \u001b[39m \u001b[39m \u001b[39m \u001b[39m \u001b[39m \u001b[39m \u001b[39m \u001b[39m \u001b[39m \u001b[39m \u001b[39m \u001b[39m \u001b[39m \u001b[39m \u001b[39m \u001b[39m \u001b[32m \u001b[39m\u001b[39m \u001b[39m \u001b[39m \u001b[39m \u001b[39m \u001b[39m \u001b[39m \u001b[39m \u001b[39m \u001b[39m \u001b[39m \u001b[39m \u001b[39m \u001b[39m \u001b[39m \u001b[39m \u001b[39m \u001b[39m \u001b[39m \u001b[39m \u001b[39m \u001b[39m \u001b[39m \u001b[39m \u001b[39m█\u001b[39m█\u001b[39m \u001b[39m \n",
       "  \u001b[39m█\u001b[39m▁\u001b[39m▁\u001b[39m▁\u001b[39m▁\u001b[39m▁\u001b[39m▁\u001b[39m▁\u001b[39m▁\u001b[34m█\u001b[39m\u001b[39m▁\u001b[39m▁\u001b[39m▁\u001b[39m▁\u001b[39m▁\u001b[39m▁\u001b[39m▁\u001b[39m▁\u001b[39m▁\u001b[39m▁\u001b[39m▁\u001b[39m▁\u001b[39m▁\u001b[39m▁\u001b[39m▁\u001b[39m▁\u001b[39m▁\u001b[39m▁\u001b[39m▁\u001b[39m▁\u001b[39m▁\u001b[32m▁\u001b[39m\u001b[39m▁\u001b[39m▁\u001b[39m▁\u001b[39m▁\u001b[39m▁\u001b[39m▁\u001b[39m▁\u001b[39m▁\u001b[39m▁\u001b[39m▁\u001b[39m▁\u001b[39m▁\u001b[39m▁\u001b[39m▁\u001b[39m▁\u001b[39m▁\u001b[39m▁\u001b[39m▁\u001b[39m▁\u001b[39m▁\u001b[39m▁\u001b[39m▁\u001b[39m▁\u001b[39m▁\u001b[39m█\u001b[39m█\u001b[39m \u001b[39m▁\n",
       "  1.27 s\u001b[90m         Histogram: frequency by time\u001b[39m         1.56 s \u001b[0m\u001b[1m<\u001b[22m\n",
       "\n",
       " Memory estimate\u001b[90m: \u001b[39m\u001b[33m876.33 MiB\u001b[39m, allocs estimate\u001b[90m: \u001b[39m\u001b[33m27418241\u001b[39m."
      ]
     },
     "execution_count": 77,
     "metadata": {},
     "output_type": "execute_result"
    }
   ],
   "source": [
    "t_funcgrad = @benchmark withgradient(x->test7(x, 2047, 1), alms)"
   ]
  },
  {
   "cell_type": "code",
   "execution_count": 78,
   "id": "3d39a197-bf9b-449c-9cb8-6722b8d241eb",
   "metadata": {},
   "outputs": [
    {
     "data": {
      "text/plain": [
       "1.2198515989409893"
      ]
     },
     "execution_count": 78,
     "metadata": {},
     "output_type": "execute_result"
    }
   ],
   "source": [
    "median(t_funcgrad).time/median(t_func).time"
   ]
  },
  {
   "cell_type": "markdown",
   "id": "57e4d560-53a4-4005-82d2-e77ccc4afb0e",
   "metadata": {
    "jp-MarkdownHeadingCollapsed": true
   },
   "source": [
    "## 1.9 - x_vec2vecmat(vec_x::Vector{Float64}, lmax::Int64, nbin::Int64)"
   ]
  },
  {
   "cell_type": "code",
   "execution_count": 14,
   "id": "f4e390a0-778e-463a-bee2-a285d980a91a",
   "metadata": {},
   "outputs": [],
   "source": [
    "vec_alms = x_vecmat2vec(alms, 2047, 1);"
   ]
  },
  {
   "cell_type": "code",
   "execution_count": 15,
   "id": "44b96eb1-b2f5-4b20-a794-f340cf8a7512",
   "metadata": {},
   "outputs": [
    {
     "data": {
      "text/plain": [
       "test8 (generic function with 1 method)"
      ]
     },
     "execution_count": 15,
     "metadata": {},
     "output_type": "execute_result"
    }
   ],
   "source": [
    "function test8(vec_x::Vector{Float64}, lmax::Int64, nbin::Int64)\n",
    "    x = x_vec2vecmat(vec_x, lmax, nbin)\n",
    "    return test7(x, lmax, nbin)\n",
    "end"
   ]
  },
  {
   "cell_type": "code",
   "execution_count": 16,
   "id": "317d89d9-7421-4408-8706-02ea4f1906ac",
   "metadata": {},
   "outputs": [
    {
     "data": {
      "text/plain": [
       "(val = 7.431646906538221, grad = ([1.0, 1.0, 1.0, 1.0, 1.0, 1.0, 0.0, 0.0, 1.0, 1.0  …  0.0, 0.0, 1.0, 1.0, 0.0, 0.0, 1.0, 1.0, 0.0, 0.0],))"
      ]
     },
     "execution_count": 16,
     "metadata": {},
     "output_type": "execute_result"
    }
   ],
   "source": [
    "f, df = withgradient(x->test8(x, 2047, 1), vec_alms)"
   ]
  },
  {
   "cell_type": "code",
   "execution_count": 17,
   "id": "08882068-2787-4605-b492-5b233b8b8982",
   "metadata": {},
   "outputs": [
    {
     "data": {
      "text/plain": [
       "2-element Vector{Any}:\n",
       " Alm{ComplexF64, Vector{ComplexF64}}(ComplexF64[1.0 + 0.0im, 1.0 + 0.0im, 1.0 + 0.0im, 1.0 + 0.0im, 1.0 + 0.0im, 1.0 + 0.0im, 1.0 + 0.0im, 1.0 + 0.0im, 1.0 + 0.0im, 1.0 + 0.0im  …  1.0 + 0.0im, 1.0 + 0.0im, 1.0 + 0.0im, 1.0 + 0.0im, 1.0 + 0.0im, 1.0 + 0.0im, 1.0 + 0.0im, 1.0 + 0.0im, 1.0 + 0.0im, 1.0 + 0.0im], 2047, 2047, 4095)\n",
       " Alm{ComplexF64, Vector{ComplexF64}}(ComplexF64[1.0 + 0.0im, 1.0 + 0.0im, 1.0 + 0.0im, 1.0 + 0.0im, 1.0 + 0.0im, 1.0 + 0.0im, 1.0 + 0.0im, 1.0 + 0.0im, 1.0 + 0.0im, 1.0 + 0.0im  …  1.0 + 0.0im, 1.0 + 0.0im, 1.0 + 0.0im, 1.0 + 0.0im, 1.0 + 0.0im, 1.0 + 0.0im, 1.0 + 0.0im, 1.0 + 0.0im, 1.0 + 0.0im, 1.0 + 0.0im], 2047, 2047, 4095)"
      ]
     },
     "execution_count": 17,
     "metadata": {},
     "output_type": "execute_result"
    }
   ],
   "source": [
    "hpix_df = from_alm_to_healpix_alm(x_vec2vecmat(df[1], 2047, 1), 2047, 1)"
   ]
  },
  {
   "cell_type": "code",
   "execution_count": 18,
   "id": "9473cde0-b060-4e09-a8e3-15aa9f411d4b",
   "metadata": {},
   "outputs": [
    {
     "data": {
      "text/plain": [
       "1.0 + 0.0im"
      ]
     },
     "execution_count": 18,
     "metadata": {},
     "output_type": "execute_result"
    }
   ],
   "source": [
    "hpix_df[1].alm[11]"
   ]
  },
  {
   "cell_type": "code",
   "execution_count": 19,
   "id": "8d39c073-a44f-4520-9437-cfc924f0c159",
   "metadata": {},
   "outputs": [],
   "source": [
    "alms1_up = x_vecmat2vec(from_healpix_alm_to_alm([a_up,a1], 2047, 1), 2047, 1)\n",
    "alms1_down = x_vecmat2vec(from_healpix_alm_to_alm([a_down,a1], 2047, 1), 2047, 1);"
   ]
  },
  {
   "cell_type": "code",
   "execution_count": 20,
   "id": "8b57aa54-5d97-4e29-ad19-1958774ce222",
   "metadata": {},
   "outputs": [
    {
     "data": {
      "text/plain": [
       "0.9999999999999787"
      ]
     },
     "execution_count": 20,
     "metadata": {},
     "output_type": "execute_result"
    }
   ],
   "source": [
    "(test8(alms1_up,2047,1)-test8(alms1_down,2047,1))/0.02"
   ]
  },
  {
   "cell_type": "code",
   "execution_count": 183,
   "id": "bb223e51-b5d1-478c-84a2-c734e19c16e8",
   "metadata": {},
   "outputs": [
    {
     "data": {
      "text/plain": [
       "BenchmarkTools.Trial: 46 samples with 1 evaluation.\n",
       " Range \u001b[90m(\u001b[39m\u001b[36m\u001b[1mmin\u001b[22m\u001b[39m … \u001b[35mmax\u001b[39m\u001b[90m):  \u001b[39m\u001b[36m\u001b[1m 66.675 ms\u001b[22m\u001b[39m … \u001b[35m317.861 ms\u001b[39m  \u001b[90m┊\u001b[39m GC \u001b[90m(\u001b[39mmin … max\u001b[90m): \u001b[39m 0.00% … 68.64%\n",
       " Time  \u001b[90m(\u001b[39m\u001b[34m\u001b[1mmedian\u001b[22m\u001b[39m\u001b[90m):     \u001b[39m\u001b[34m\u001b[1m 88.751 ms               \u001b[22m\u001b[39m\u001b[90m┊\u001b[39m GC \u001b[90m(\u001b[39mmedian\u001b[90m):    \u001b[39m 0.00%\n",
       " Time  \u001b[90m(\u001b[39m\u001b[32m\u001b[1mmean\u001b[22m\u001b[39m ± \u001b[32mσ\u001b[39m\u001b[90m):   \u001b[39m\u001b[32m\u001b[1m109.099 ms\u001b[22m\u001b[39m ± \u001b[32m 61.292 ms\u001b[39m  \u001b[90m┊\u001b[39m GC \u001b[90m(\u001b[39mmean ± σ\u001b[90m):  \u001b[39m21.92% ± 22.30%\n",
       "\n",
       "  \u001b[39m▁\u001b[39m█\u001b[39m▄\u001b[39m▁\u001b[39m \u001b[34m█\u001b[39m\u001b[39m \u001b[39m \u001b[39m▁\u001b[39m \u001b[32m \u001b[39m\u001b[39m \u001b[39m \u001b[39m \u001b[39m \u001b[39m \u001b[39m \u001b[39m \u001b[39m \u001b[39m \u001b[39m \u001b[39m \u001b[39m \u001b[39m \u001b[39m \u001b[39m \u001b[39m \u001b[39m \u001b[39m \u001b[39m \u001b[39m \u001b[39m \u001b[39m \u001b[39m \u001b[39m \u001b[39m \u001b[39m \u001b[39m \u001b[39m \u001b[39m \u001b[39m \u001b[39m \u001b[39m \u001b[39m \u001b[39m \u001b[39m \u001b[39m \u001b[39m \u001b[39m \u001b[39m \u001b[39m \u001b[39m \u001b[39m \u001b[39m \u001b[39m \u001b[39m \u001b[39m \u001b[39m \u001b[39m \u001b[39m \u001b[39m \u001b[39m \u001b[39m \n",
       "  \u001b[39m█\u001b[39m█\u001b[39m█\u001b[39m█\u001b[39m▁\u001b[34m█\u001b[39m\u001b[39m▇\u001b[39m▁\u001b[39m█\u001b[39m▄\u001b[32m▁\u001b[39m\u001b[39m▁\u001b[39m▁\u001b[39m▁\u001b[39m▁\u001b[39m▁\u001b[39m▁\u001b[39m▁\u001b[39m▁\u001b[39m▁\u001b[39m▁\u001b[39m▁\u001b[39m▁\u001b[39m▁\u001b[39m▁\u001b[39m▁\u001b[39m▄\u001b[39m▁\u001b[39m▁\u001b[39m▁\u001b[39m▁\u001b[39m▁\u001b[39m▄\u001b[39m▄\u001b[39m▄\u001b[39m▁\u001b[39m▁\u001b[39m▁\u001b[39m▁\u001b[39m▁\u001b[39m▁\u001b[39m▁\u001b[39m▄\u001b[39m▁\u001b[39m▁\u001b[39m▁\u001b[39m▁\u001b[39m▆\u001b[39m▁\u001b[39m▁\u001b[39m▁\u001b[39m▁\u001b[39m▁\u001b[39m▁\u001b[39m▁\u001b[39m▁\u001b[39m▁\u001b[39m▁\u001b[39m▁\u001b[39m▁\u001b[39m▄\u001b[39m \u001b[39m▁\n",
       "  66.7 ms\u001b[90m          Histogram: frequency by time\u001b[39m          318 ms \u001b[0m\u001b[1m<\u001b[22m\n",
       "\n",
       " Memory estimate\u001b[90m: \u001b[39m\u001b[33m128.24 MiB\u001b[39m, allocs estimate\u001b[90m: \u001b[39m\u001b[33m3601\u001b[39m."
      ]
     },
     "execution_count": 183,
     "metadata": {},
     "output_type": "execute_result"
    }
   ],
   "source": [
    "t_func = @benchmark test8(vec_alms, 2047, 1)"
   ]
  },
  {
   "cell_type": "code",
   "execution_count": 184,
   "id": "788047b5-074f-4205-bfea-989ec2a888d5",
   "metadata": {},
   "outputs": [
    {
     "data": {
      "text/plain": [
       "BenchmarkTools.Trial: 14 samples with 1 evaluation.\n",
       " Range \u001b[90m(\u001b[39m\u001b[36m\u001b[1mmin\u001b[22m\u001b[39m … \u001b[35mmax\u001b[39m\u001b[90m):  \u001b[39m\u001b[36m\u001b[1m193.109 ms\u001b[22m\u001b[39m … \u001b[35m577.337 ms\u001b[39m  \u001b[90m┊\u001b[39m GC \u001b[90m(\u001b[39mmin … max\u001b[90m): \u001b[39m 0.00% … 54.22%\n",
       " Time  \u001b[90m(\u001b[39m\u001b[34m\u001b[1mmedian\u001b[22m\u001b[39m\u001b[90m):     \u001b[39m\u001b[34m\u001b[1m376.712 ms               \u001b[22m\u001b[39m\u001b[90m┊\u001b[39m GC \u001b[90m(\u001b[39mmedian\u001b[90m):    \u001b[39m36.53%\n",
       " Time  \u001b[90m(\u001b[39m\u001b[32m\u001b[1mmean\u001b[22m\u001b[39m ± \u001b[32mσ\u001b[39m\u001b[90m):   \u001b[39m\u001b[32m\u001b[1m359.261 ms\u001b[22m\u001b[39m ± \u001b[32m119.538 ms\u001b[39m  \u001b[90m┊\u001b[39m GC \u001b[90m(\u001b[39mmean ± σ\u001b[90m):  \u001b[39m33.00% ± 22.48%\n",
       "\n",
       "  \u001b[39m▁\u001b[39m \u001b[39m▁\u001b[39m \u001b[39m \u001b[39m▁\u001b[39m \u001b[39m▁\u001b[39m \u001b[39m \u001b[39m \u001b[39m \u001b[39m \u001b[39m \u001b[39m▁\u001b[39m \u001b[39m \u001b[39m \u001b[39m \u001b[39m \u001b[39m \u001b[39m \u001b[39m \u001b[39m▁\u001b[39m \u001b[39m▁\u001b[34m \u001b[39m\u001b[39m \u001b[39m \u001b[39m \u001b[39m \u001b[39m \u001b[39m▁\u001b[39m█\u001b[39m▁\u001b[39m \u001b[39m \u001b[39m \u001b[39m \u001b[39m \u001b[39m \u001b[39m▁\u001b[39m \u001b[39m \u001b[39m \u001b[39m \u001b[39m \u001b[39m \u001b[39m \u001b[39m \u001b[39m \u001b[39m \u001b[39m \u001b[39m \u001b[39m▁\u001b[39m \u001b[39m \u001b[39m \u001b[39m \u001b[39m \u001b[39m▁\u001b[39m \u001b[39m \n",
       "  \u001b[39m█\u001b[39m▁\u001b[39m█\u001b[39m▁\u001b[39m▁\u001b[39m█\u001b[39m▁\u001b[39m█\u001b[39m▁\u001b[39m▁\u001b[39m▁\u001b[39m▁\u001b[39m▁\u001b[39m▁\u001b[39m█\u001b[39m▁\u001b[39m▁\u001b[39m▁\u001b[39m▁\u001b[39m▁\u001b[39m▁\u001b[39m▁\u001b[39m▁\u001b[39m█\u001b[39m▁\u001b[39m█\u001b[34m▁\u001b[39m\u001b[39m▁\u001b[39m▁\u001b[39m▁\u001b[39m▁\u001b[39m▁\u001b[39m█\u001b[39m█\u001b[39m█\u001b[39m▁\u001b[39m▁\u001b[39m▁\u001b[39m▁\u001b[39m▁\u001b[39m▁\u001b[39m█\u001b[39m▁\u001b[39m▁\u001b[39m▁\u001b[39m▁\u001b[39m▁\u001b[39m▁\u001b[39m▁\u001b[39m▁\u001b[39m▁\u001b[39m▁\u001b[39m▁\u001b[39m▁\u001b[39m█\u001b[39m▁\u001b[39m▁\u001b[39m▁\u001b[39m▁\u001b[39m▁\u001b[39m█\u001b[39m \u001b[39m▁\n",
       "  193 ms\u001b[90m           Histogram: frequency by time\u001b[39m          577 ms \u001b[0m\u001b[1m<\u001b[22m\n",
       "\n",
       " Memory estimate\u001b[90m: \u001b[39m\u001b[33m458.49 MiB\u001b[39m, allocs estimate\u001b[90m: \u001b[39m\u001b[33m25199\u001b[39m."
      ]
     },
     "execution_count": 184,
     "metadata": {},
     "output_type": "execute_result"
    }
   ],
   "source": [
    "t_funcgrad = @benchmark withgradient(x->test8(x, 2047, 1), vec_alms)"
   ]
  },
  {
   "cell_type": "code",
   "execution_count": 185,
   "id": "fedd7882-2e17-4d50-b802-b3d156ecf0a2",
   "metadata": {},
   "outputs": [
    {
     "data": {
      "text/plain": [
       "4.244593575952469"
      ]
     },
     "execution_count": 185,
     "metadata": {},
     "output_type": "execute_result"
    }
   ],
   "source": [
    "median(t_funcgrad).time/median(t_func).time"
   ]
  },
  {
   "cell_type": "markdown",
   "id": "accbaeff-b831-4091-88f9-5dcab5f5a896",
   "metadata": {
    "jp-MarkdownHeadingCollapsed": true
   },
   "source": [
    "## 1.10 - L_vec2vecmat(vec_L::Vector{Float64}, lmax::Int64, nbin::Int64)"
   ]
  },
  {
   "cell_type": "code",
   "execution_count": 35,
   "id": "4142b63c-0e50-45e3-8650-0921833f2bf4",
   "metadata": {},
   "outputs": [
    {
     "ename": "LoadError",
     "evalue": "UndefVarError: `lmax` not defined",
     "output_type": "error",
     "traceback": [
      "UndefVarError: `lmax` not defined",
      "",
      "Stacktrace:",
      " [1] top-level scope",
      "   @ In[35]:1"
     ]
    }
   ],
   "source": [
    "vec_L = L_vecmat2vec([Matrix(gen_L[i].L) for i in 1:lmax+1], lmax, nbin);"
   ]
  },
  {
   "cell_type": "code",
   "execution_count": 36,
   "id": "9e445ded-5d5e-4221-ab2f-4ef944ea5682",
   "metadata": {},
   "outputs": [
    {
     "data": {
      "text/plain": [
       "test9 (generic function with 1 method)"
      ]
     },
     "execution_count": 36,
     "metadata": {},
     "output_type": "execute_result"
    }
   ],
   "source": [
    "function test9(vec_L::Vector{Float64}, lmax::Int64, nbin::Int64)\n",
    "    L = L_vec2vecmat(vec_L, lmax, nbin)\n",
    "    return sum(sum(L))\n",
    "end"
   ]
  },
  {
   "cell_type": "code",
   "execution_count": 312,
   "id": "baf2a50b-e6d2-477f-9805-2dbff3bcd65e",
   "metadata": {},
   "outputs": [
    {
     "data": {
      "text/plain": [
       "(val = 57.079849470479104, grad = ([1.0, 1.0, 1.0, 1.0, 1.0, 1.0, 1.0, 1.0, 1.0, 1.0  …  1.0, 1.0, 1.0, 1.0, 1.0, 1.0, 1.0, 1.0, 1.0, 1.0],))"
      ]
     },
     "execution_count": 312,
     "metadata": {},
     "output_type": "execute_result"
    }
   ],
   "source": [
    "f, df = withgradient(l->test9(l, lmax, nbin), vec_L)"
   ]
  },
  {
   "cell_type": "code",
   "execution_count": 316,
   "id": "124d9ac9-0deb-42ca-b24f-6f0930937bdd",
   "metadata": {},
   "outputs": [
    {
     "data": {
      "text/plain": [
       "BenchmarkTools.Trial: 10000 samples with 7 evaluations.\n",
       " Range \u001b[90m(\u001b[39m\u001b[36m\u001b[1mmin\u001b[22m\u001b[39m … \u001b[35mmax\u001b[39m\u001b[90m):  \u001b[39m\u001b[36m\u001b[1m4.400 μs\u001b[22m\u001b[39m … \u001b[35m489.829 μs\u001b[39m  \u001b[90m┊\u001b[39m GC \u001b[90m(\u001b[39mmin … max\u001b[90m): \u001b[39m 0.00% … 98.22%\n",
       " Time  \u001b[90m(\u001b[39m\u001b[34m\u001b[1mmedian\u001b[22m\u001b[39m\u001b[90m):     \u001b[39m\u001b[34m\u001b[1m4.543 μs               \u001b[22m\u001b[39m\u001b[90m┊\u001b[39m GC \u001b[90m(\u001b[39mmedian\u001b[90m):    \u001b[39m 0.00%\n",
       " Time  \u001b[90m(\u001b[39m\u001b[32m\u001b[1mmean\u001b[22m\u001b[39m ± \u001b[32mσ\u001b[39m\u001b[90m):   \u001b[39m\u001b[32m\u001b[1m5.409 μs\u001b[22m\u001b[39m ± \u001b[32m 17.198 μs\u001b[39m  \u001b[90m┊\u001b[39m GC \u001b[90m(\u001b[39mmean ± σ\u001b[90m):  \u001b[39m11.77% ±  3.67%\n",
       "\n",
       "  \u001b[39m▄\u001b[39m█\u001b[34m█\u001b[39m\u001b[39m▆\u001b[39m▄\u001b[39m▂\u001b[39m▁\u001b[39m \u001b[39m \u001b[39m \u001b[39m \u001b[39m \u001b[39m \u001b[39m \u001b[39m \u001b[39m \u001b[39m \u001b[39m \u001b[32m \u001b[39m\u001b[39m \u001b[39m \u001b[39m \u001b[39m \u001b[39m \u001b[39m \u001b[39m \u001b[39m \u001b[39m \u001b[39m \u001b[39m \u001b[39m \u001b[39m \u001b[39m \u001b[39m \u001b[39m \u001b[39m \u001b[39m \u001b[39m \u001b[39m \u001b[39m \u001b[39m \u001b[39m \u001b[39m \u001b[39m \u001b[39m \u001b[39m \u001b[39m▁\u001b[39m▁\u001b[39m \u001b[39m \u001b[39m▁\u001b[39m▁\u001b[39m▁\u001b[39m \u001b[39m▁\u001b[39m▁\u001b[39m \u001b[39m \u001b[39m \u001b[39m \u001b[39m▂\n",
       "  \u001b[39m█\u001b[39m█\u001b[34m█\u001b[39m\u001b[39m█\u001b[39m█\u001b[39m█\u001b[39m█\u001b[39m█\u001b[39m▆\u001b[39m▇\u001b[39m▅\u001b[39m▅\u001b[39m▅\u001b[39m▅\u001b[39m▁\u001b[39m▄\u001b[39m▅\u001b[39m▄\u001b[32m▅\u001b[39m\u001b[39m▄\u001b[39m▄\u001b[39m▃\u001b[39m▃\u001b[39m▁\u001b[39m▆\u001b[39m█\u001b[39m█\u001b[39m▇\u001b[39m▄\u001b[39m▅\u001b[39m▄\u001b[39m▃\u001b[39m▁\u001b[39m▃\u001b[39m▃\u001b[39m▄\u001b[39m▁\u001b[39m▅\u001b[39m▄\u001b[39m▄\u001b[39m▁\u001b[39m▄\u001b[39m▃\u001b[39m▁\u001b[39m▃\u001b[39m▇\u001b[39m█\u001b[39m█\u001b[39m█\u001b[39m█\u001b[39m█\u001b[39m█\u001b[39m█\u001b[39m█\u001b[39m█\u001b[39m█\u001b[39m█\u001b[39m▇\u001b[39m▇\u001b[39m \u001b[39m█\n",
       "  4.4 μs\u001b[90m       \u001b[39m\u001b[90mHistogram: \u001b[39m\u001b[90m\u001b[1mlog(\u001b[22m\u001b[39m\u001b[90mfrequency\u001b[39m\u001b[90m\u001b[1m)\u001b[22m\u001b[39m\u001b[90m by time\u001b[39m      7.79 μs \u001b[0m\u001b[1m<\u001b[22m\n",
       "\n",
       " Memory estimate\u001b[90m: \u001b[39m\u001b[33m9.20 KiB\u001b[39m, allocs estimate\u001b[90m: \u001b[39m\u001b[33m128\u001b[39m."
      ]
     },
     "execution_count": 316,
     "metadata": {},
     "output_type": "execute_result"
    }
   ],
   "source": [
    "t_func = @benchmark test9(vec_L, lmax, nbin)"
   ]
  },
  {
   "cell_type": "code",
   "execution_count": 317,
   "id": "0c615ee5-a24f-4162-b6de-fb8f992558cb",
   "metadata": {},
   "outputs": [
    {
     "data": {
      "text/plain": [
       "BenchmarkTools.Trial: 10000 samples with 1 evaluation.\n",
       " Range \u001b[90m(\u001b[39m\u001b[36m\u001b[1mmin\u001b[22m\u001b[39m … \u001b[35mmax\u001b[39m\u001b[90m):  \u001b[39m\u001b[36m\u001b[1m12.900 μs\u001b[22m\u001b[39m … \u001b[35m 3.534 ms\u001b[39m  \u001b[90m┊\u001b[39m GC \u001b[90m(\u001b[39mmin … max\u001b[90m): \u001b[39m 0.00% … 98.63%\n",
       " Time  \u001b[90m(\u001b[39m\u001b[34m\u001b[1mmedian\u001b[22m\u001b[39m\u001b[90m):     \u001b[39m\u001b[34m\u001b[1m13.900 μs              \u001b[22m\u001b[39m\u001b[90m┊\u001b[39m GC \u001b[90m(\u001b[39mmedian\u001b[90m):    \u001b[39m 0.00%\n",
       " Time  \u001b[90m(\u001b[39m\u001b[32m\u001b[1mmean\u001b[22m\u001b[39m ± \u001b[32mσ\u001b[39m\u001b[90m):   \u001b[39m\u001b[32m\u001b[1m17.647 μs\u001b[22m\u001b[39m ± \u001b[32m88.231 μs\u001b[39m  \u001b[90m┊\u001b[39m GC \u001b[90m(\u001b[39mmean ± σ\u001b[90m):  \u001b[39m13.08% ±  2.61%\n",
       "\n",
       "  \u001b[39m▃\u001b[39m▇\u001b[39m█\u001b[34m█\u001b[39m\u001b[39m▅\u001b[39m▃\u001b[39m▁\u001b[39m \u001b[39m \u001b[39m \u001b[39m \u001b[39m \u001b[39m \u001b[39m \u001b[32m \u001b[39m\u001b[39m \u001b[39m \u001b[39m \u001b[39m \u001b[39m \u001b[39m \u001b[39m \u001b[39m \u001b[39m \u001b[39m \u001b[39m \u001b[39m \u001b[39m \u001b[39m \u001b[39m \u001b[39m \u001b[39m▁\u001b[39m▁\u001b[39m \u001b[39m \u001b[39m \u001b[39m \u001b[39m \u001b[39m \u001b[39m \u001b[39m \u001b[39m \u001b[39m \u001b[39m \u001b[39m \u001b[39m \u001b[39m \u001b[39m \u001b[39m \u001b[39m \u001b[39m \u001b[39m \u001b[39m \u001b[39m \u001b[39m \u001b[39m \u001b[39m \u001b[39m \u001b[39m \u001b[39m \u001b[39m▂\n",
       "  \u001b[39m█\u001b[39m█\u001b[39m█\u001b[34m█\u001b[39m\u001b[39m█\u001b[39m█\u001b[39m█\u001b[39m▇\u001b[39m▆\u001b[39m▆\u001b[39m▆\u001b[39m▅\u001b[39m▄\u001b[39m▆\u001b[32m▆\u001b[39m\u001b[39m▆\u001b[39m▆\u001b[39m▆\u001b[39m▆\u001b[39m▇\u001b[39m▇\u001b[39m▇\u001b[39m▇\u001b[39m▇\u001b[39m█\u001b[39m█\u001b[39m█\u001b[39m█\u001b[39m█\u001b[39m█\u001b[39m▇\u001b[39m█\u001b[39m█\u001b[39m█\u001b[39m▇\u001b[39m▇\u001b[39m█\u001b[39m▇\u001b[39m▇\u001b[39m█\u001b[39m█\u001b[39m█\u001b[39m█\u001b[39m▆\u001b[39m▇\u001b[39m█\u001b[39m█\u001b[39m▇\u001b[39m▆\u001b[39m▇\u001b[39m▆\u001b[39m▆\u001b[39m▆\u001b[39m▇\u001b[39m▆\u001b[39m▆\u001b[39m▅\u001b[39m▅\u001b[39m▄\u001b[39m \u001b[39m█\n",
       "  12.9 μs\u001b[90m      \u001b[39m\u001b[90mHistogram: \u001b[39m\u001b[90m\u001b[1mlog(\u001b[22m\u001b[39m\u001b[90mfrequency\u001b[39m\u001b[90m\u001b[1m)\u001b[22m\u001b[39m\u001b[90m by time\u001b[39m      32.4 μs \u001b[0m\u001b[1m<\u001b[22m\n",
       "\n",
       " Memory estimate\u001b[90m: \u001b[39m\u001b[33m33.89 KiB\u001b[39m, allocs estimate\u001b[90m: \u001b[39m\u001b[33m278\u001b[39m."
      ]
     },
     "execution_count": 317,
     "metadata": {},
     "output_type": "execute_result"
    }
   ],
   "source": [
    "t_funcgrad = @benchmark withgradient(l->test9(l, lmax, nbin), vec_L)"
   ]
  },
  {
   "cell_type": "code",
   "execution_count": 318,
   "id": "1cfd92c4-1812-46bd-8c34-16d2eaa7cfb9",
   "metadata": {},
   "outputs": [
    {
     "data": {
      "text/plain": [
       "3.0597484276729556"
      ]
     },
     "execution_count": 318,
     "metadata": {},
     "output_type": "execute_result"
    }
   ],
   "source": [
    "median(t_funcgrad).time/median(t_func).time"
   ]
  },
  {
   "cell_type": "markdown",
   "id": "4b4b5ab9-f5c7-4e78-b6b0-8b6e381937e7",
   "metadata": {
    "jp-MarkdownHeadingCollapsed": true
   },
   "source": [
    "## 1.11 - vectorK_vec2vecmat"
   ]
  },
  {
   "cell_type": "code",
   "execution_count": 21,
   "id": "c18865b1-4028-4f58-a5c0-d5eb934a49a2",
   "metadata": {},
   "outputs": [],
   "source": [
    "n_free_params = 9\n",
    "nbin = 2\n",
    "lmax = 2047\n",
    "vec_K = randn(n_free_params*(lmax+1));"
   ]
  },
  {
   "cell_type": "code",
   "execution_count": 22,
   "id": "9de8ac16-ce5c-48f2-a9de-8d0d76e59739",
   "metadata": {},
   "outputs": [
    {
     "data": {
      "text/plain": [
       "test10 (generic function with 1 method)"
      ]
     },
     "execution_count": 22,
     "metadata": {},
     "output_type": "execute_result"
    }
   ],
   "source": [
    "function test10(all_k, nbin, lmax, freeparam_n)\n",
    "    K = vectorK_vec2vecmat(all_k, nbin, lmax, freeparam_n)\n",
    "    return sum(sum(K))\n",
    "end"
   ]
  },
  {
   "cell_type": "code",
   "execution_count": 23,
   "id": "3f20b542-36af-4b21-82ed-052c555ce69f",
   "metadata": {},
   "outputs": [
    {
     "data": {
      "text/plain": [
       "(val = 143.5718169815428, grad = ([1.0, 1.0, 1.0, 1.0, 1.0, 1.0, 1.0, 1.0, 1.0, 1.0  …  1.0, 1.0, 1.0, 1.0, 1.0, 1.0, 1.0, 1.0, 1.0, 1.0],))"
      ]
     },
     "execution_count": 23,
     "metadata": {},
     "output_type": "execute_result"
    }
   ],
   "source": [
    "f, df = withgradient(x->test10(x, nbin, lmax, n_free_params), vec_K)"
   ]
  },
  {
   "cell_type": "code",
   "execution_count": 24,
   "id": "6acd0ed9-62e0-4f00-99ee-75fb66d388fe",
   "metadata": {},
   "outputs": [
    {
     "data": {
      "text/plain": [
       "1.0"
      ]
     },
     "execution_count": 24,
     "metadata": {},
     "output_type": "execute_result"
    }
   ],
   "source": [
    "df[1][5]"
   ]
  },
  {
   "cell_type": "code",
   "execution_count": 25,
   "id": "3a085403-d88e-4025-b84a-1ef54839f834",
   "metadata": {},
   "outputs": [
    {
     "data": {
      "text/plain": [
       "1.0000000000005116"
      ]
     },
     "execution_count": 25,
     "metadata": {},
     "output_type": "execute_result"
    }
   ],
   "source": [
    "ϵ = zeros(length(vec_K))\n",
    "ϵ[5] += 0.01\n",
    "k_plus = deepcopy(vec_K) + ϵ\n",
    "k_min = deepcopy(vec_K) -ϵ;\n",
    "\n",
    "(test10(k_plus, nbin, lmax, n_free_params)-test10(k_min, nbin, lmax, n_free_params))/0.02"
   ]
  },
  {
   "cell_type": "code",
   "execution_count": 51,
   "id": "55d4013b-3ecb-4543-96a7-dfbc2d9ba541",
   "metadata": {},
   "outputs": [
    {
     "data": {
      "text/plain": [
       "BenchmarkTools.Trial: 10000 samples with 1 evaluation.\n",
       " Range \u001b[90m(\u001b[39m\u001b[36m\u001b[1mmin\u001b[22m\u001b[39m … \u001b[35mmax\u001b[39m\u001b[90m):  \u001b[39m\u001b[36m\u001b[1m422.900 μs\u001b[22m\u001b[39m … \u001b[35m  1.335 ms\u001b[39m  \u001b[90m┊\u001b[39m GC \u001b[90m(\u001b[39mmin … max\u001b[90m): \u001b[39m0.00% … 52.47%\n",
       " Time  \u001b[90m(\u001b[39m\u001b[34m\u001b[1mmedian\u001b[22m\u001b[39m\u001b[90m):     \u001b[39m\u001b[34m\u001b[1m430.200 μs               \u001b[22m\u001b[39m\u001b[90m┊\u001b[39m GC \u001b[90m(\u001b[39mmedian\u001b[90m):    \u001b[39m0.00%\n",
       " Time  \u001b[90m(\u001b[39m\u001b[32m\u001b[1mmean\u001b[22m\u001b[39m ± \u001b[32mσ\u001b[39m\u001b[90m):   \u001b[39m\u001b[32m\u001b[1m450.224 μs\u001b[22m\u001b[39m ± \u001b[32m100.774 μs\u001b[39m  \u001b[90m┊\u001b[39m GC \u001b[90m(\u001b[39mmean ± σ\u001b[90m):  \u001b[39m3.03% ±  8.38%\n",
       "\n",
       "  \u001b[39m█\u001b[34m▅\u001b[39m\u001b[39m▂\u001b[32m▂\u001b[39m\u001b[39m \u001b[39m \u001b[39m \u001b[39m \u001b[39m \u001b[39m \u001b[39m▁\u001b[39m \u001b[39m \u001b[39m \u001b[39m \u001b[39m \u001b[39m \u001b[39m \u001b[39m \u001b[39m \u001b[39m \u001b[39m \u001b[39m \u001b[39m \u001b[39m \u001b[39m \u001b[39m \u001b[39m \u001b[39m \u001b[39m \u001b[39m \u001b[39m \u001b[39m \u001b[39m \u001b[39m \u001b[39m \u001b[39m \u001b[39m \u001b[39m \u001b[39m \u001b[39m \u001b[39m \u001b[39m \u001b[39m \u001b[39m \u001b[39m \u001b[39m \u001b[39m \u001b[39m \u001b[39m \u001b[39m \u001b[39m \u001b[39m \u001b[39m \u001b[39m \u001b[39m \u001b[39m \u001b[39m \u001b[39m \u001b[39m \u001b[39m \u001b[39m \u001b[39m▁\n",
       "  \u001b[39m█\u001b[34m█\u001b[39m\u001b[39m█\u001b[32m█\u001b[39m\u001b[39m█\u001b[39m▇\u001b[39m▇\u001b[39m▆\u001b[39m▆\u001b[39m█\u001b[39m█\u001b[39m▆\u001b[39m▅\u001b[39m▅\u001b[39m▄\u001b[39m▃\u001b[39m▁\u001b[39m▄\u001b[39m▁\u001b[39m▃\u001b[39m▁\u001b[39m▁\u001b[39m▁\u001b[39m▃\u001b[39m▄\u001b[39m▁\u001b[39m▃\u001b[39m▄\u001b[39m▁\u001b[39m▁\u001b[39m▁\u001b[39m▃\u001b[39m▃\u001b[39m▁\u001b[39m▁\u001b[39m▁\u001b[39m▁\u001b[39m▃\u001b[39m▁\u001b[39m▁\u001b[39m▁\u001b[39m▁\u001b[39m▁\u001b[39m▁\u001b[39m▃\u001b[39m▆\u001b[39m▆\u001b[39m▄\u001b[39m▄\u001b[39m▃\u001b[39m▃\u001b[39m▄\u001b[39m▃\u001b[39m▄\u001b[39m▄\u001b[39m▆\u001b[39m▆\u001b[39m▆\u001b[39m▇\u001b[39m▇\u001b[39m█\u001b[39m \u001b[39m█\n",
       "  423 μs\u001b[90m        \u001b[39m\u001b[90mHistogram: \u001b[39m\u001b[90m\u001b[1mlog(\u001b[22m\u001b[39m\u001b[90mfrequency\u001b[39m\u001b[90m\u001b[1m)\u001b[22m\u001b[39m\u001b[90m by time\u001b[39m       1.06 ms \u001b[0m\u001b[1m<\u001b[22m\n",
       "\n",
       " Memory estimate\u001b[90m: \u001b[39m\u001b[33m1.02 MiB\u001b[39m, allocs estimate\u001b[90m: \u001b[39m\u001b[33m6145\u001b[39m."
      ]
     },
     "execution_count": 51,
     "metadata": {},
     "output_type": "execute_result"
    }
   ],
   "source": [
    "t_func = @benchmark test10(vec_K, nbin, lmax, n_free_params)"
   ]
  },
  {
   "cell_type": "code",
   "execution_count": 52,
   "id": "06533fb1-5ada-4f08-8aab-24b7d5c99b19",
   "metadata": {},
   "outputs": [
    {
     "data": {
      "text/plain": [
       "BenchmarkTools.Trial: 1881 samples with 1 evaluation.\n",
       " Range \u001b[90m(\u001b[39m\u001b[36m\u001b[1mmin\u001b[22m\u001b[39m … \u001b[35mmax\u001b[39m\u001b[90m):  \u001b[39m\u001b[36m\u001b[1m2.239 ms\u001b[22m\u001b[39m … \u001b[35m61.874 ms\u001b[39m  \u001b[90m┊\u001b[39m GC \u001b[90m(\u001b[39mmin … max\u001b[90m): \u001b[39m0.00% …  0.00%\n",
       " Time  \u001b[90m(\u001b[39m\u001b[34m\u001b[1mmedian\u001b[22m\u001b[39m\u001b[90m):     \u001b[39m\u001b[34m\u001b[1m2.303 ms              \u001b[22m\u001b[39m\u001b[90m┊\u001b[39m GC \u001b[90m(\u001b[39mmedian\u001b[90m):    \u001b[39m0.00%\n",
       " Time  \u001b[90m(\u001b[39m\u001b[32m\u001b[1mmean\u001b[22m\u001b[39m ± \u001b[32mσ\u001b[39m\u001b[90m):   \u001b[39m\u001b[32m\u001b[1m2.653 ms\u001b[22m\u001b[39m ± \u001b[32m 1.564 ms\u001b[39m  \u001b[90m┊\u001b[39m GC \u001b[90m(\u001b[39mmean ± σ\u001b[90m):  \u001b[39m5.59% ± 11.73%\n",
       "\n",
       "  \u001b[39m█\u001b[34m▇\u001b[39m\u001b[39m▃\u001b[39m▃\u001b[39m▃\u001b[39m▁\u001b[39m \u001b[39m \u001b[32m \u001b[39m\u001b[39m \u001b[39m \u001b[39m \u001b[39m \u001b[39m \u001b[39m \u001b[39m \u001b[39m \u001b[39m \u001b[39m \u001b[39m \u001b[39m \u001b[39m▁\u001b[39m▁\u001b[39m \u001b[39m \u001b[39m \u001b[39m \u001b[39m \u001b[39m \u001b[39m \u001b[39m \u001b[39m \u001b[39m \u001b[39m \u001b[39m \u001b[39m \u001b[39m \u001b[39m \u001b[39m \u001b[39m \u001b[39m \u001b[39m \u001b[39m \u001b[39m \u001b[39m \u001b[39m \u001b[39m \u001b[39m \u001b[39m \u001b[39m \u001b[39m \u001b[39m \u001b[39m \u001b[39m \u001b[39m \u001b[39m \u001b[39m \u001b[39m \u001b[39m \u001b[39m \n",
       "  \u001b[39m█\u001b[34m█\u001b[39m\u001b[39m█\u001b[39m█\u001b[39m█\u001b[39m█\u001b[39m█\u001b[39m█\u001b[32m█\u001b[39m\u001b[39m▇\u001b[39m▆\u001b[39m▇\u001b[39m▇\u001b[39m▅\u001b[39m▆\u001b[39m▅\u001b[39m▆\u001b[39m▅\u001b[39m▆\u001b[39m▇\u001b[39m▆\u001b[39m█\u001b[39m█\u001b[39m█\u001b[39m▇\u001b[39m▇\u001b[39m▄\u001b[39m▇\u001b[39m▆\u001b[39m▅\u001b[39m▆\u001b[39m▇\u001b[39m▆\u001b[39m▄\u001b[39m▅\u001b[39m▃\u001b[39m▅\u001b[39m▇\u001b[39m█\u001b[39m▇\u001b[39m▆\u001b[39m▇\u001b[39m▅\u001b[39m▆\u001b[39m▆\u001b[39m▆\u001b[39m▇\u001b[39m▅\u001b[39m▆\u001b[39m▅\u001b[39m▃\u001b[39m▁\u001b[39m▄\u001b[39m▃\u001b[39m▃\u001b[39m▄\u001b[39m▁\u001b[39m▃\u001b[39m \u001b[39m█\n",
       "  2.24 ms\u001b[90m      \u001b[39m\u001b[90mHistogram: \u001b[39m\u001b[90m\u001b[1mlog(\u001b[22m\u001b[39m\u001b[90mfrequency\u001b[39m\u001b[90m\u001b[1m)\u001b[22m\u001b[39m\u001b[90m by time\u001b[39m     5.42 ms \u001b[0m\u001b[1m<\u001b[22m\n",
       "\n",
       " Memory estimate\u001b[90m: \u001b[39m\u001b[33m2.88 MiB\u001b[39m, allocs estimate\u001b[90m: \u001b[39m\u001b[33m79916\u001b[39m."
      ]
     },
     "execution_count": 52,
     "metadata": {},
     "output_type": "execute_result"
    }
   ],
   "source": [
    "t_funcgrad = @benchmark withgradient(x->test10(x, nbin, lmax, n_free_params), vec_K)"
   ]
  },
  {
   "cell_type": "code",
   "execution_count": 53,
   "id": "db1037c4-6b88-4e12-8570-2027d5a920b3",
   "metadata": {},
   "outputs": [
    {
     "data": {
      "text/plain": [
       "5.353324035332403"
      ]
     },
     "execution_count": 53,
     "metadata": {},
     "output_type": "execute_result"
    }
   ],
   "source": [
    "median(t_funcgrad).time / median(t_func).time"
   ]
  },
  {
   "cell_type": "markdown",
   "id": "8ca7755b-bab6-49b3-8cbe-ebc2345d2bb2",
   "metadata": {
    "jp-MarkdownHeadingCollapsed": true
   },
   "source": [
    "## 1.12 - vector_from_k_to_L"
   ]
  },
  {
   "cell_type": "code",
   "execution_count": 26,
   "id": "9b9d1c3b-512b-4967-9146-2ee9b21c7d84",
   "metadata": {},
   "outputs": [
    {
     "data": {
      "text/plain": [
       "test11 (generic function with 1 method)"
      ]
     },
     "execution_count": 26,
     "metadata": {},
     "output_type": "execute_result"
    }
   ],
   "source": [
    "function test11(all_k, nbin, lmax, freeparam_n)\n",
    "    L = vector_from_k_to_L(all_k, nbin, lmax, freeparam_n)\n",
    "    return sum(sum(L))\n",
    "end"
   ]
  },
  {
   "cell_type": "code",
   "execution_count": 27,
   "id": "e6b2e45e-b191-4644-96aa-b32fb151103a",
   "metadata": {},
   "outputs": [
    {
     "data": {
      "text/plain": [
       "(val = 12429.04930899319, grad = ([0.8795170614959338, 0.6666399989334546, 3.8282519263415624, 1.0, 1.0, 1.0, 1.0, 1.0, 1.0, 1.4851751932018507  …  1.0, 0.8854953857095382, 0.6276909989373958, 1.4199991294151255, 1.0, 1.0, 1.0, 1.0, 1.0, 1.0],))"
      ]
     },
     "execution_count": 27,
     "metadata": {},
     "output_type": "execute_result"
    }
   ],
   "source": [
    "f, df = withgradient(x->test11(x, nbin, lmax, n_free_params), vec_K)"
   ]
  },
  {
   "cell_type": "code",
   "execution_count": 28,
   "id": "ca1ea053-dc78-4d25-a237-823500e54aff",
   "metadata": {},
   "outputs": [
    {
     "data": {
      "text/plain": [
       "0.6666511097137118"
      ]
     },
     "execution_count": 28,
     "metadata": {},
     "output_type": "execute_result"
    }
   ],
   "source": [
    "ϵ = zeros(length(vec_K))\n",
    "ϵ[2] += 0.01\n",
    "k_plus = deepcopy(vec_K) + ϵ\n",
    "k_min = deepcopy(vec_K) -ϵ;\n",
    "\n",
    "(test11(k_plus, nbin, lmax, n_free_params)-test11(k_min, nbin, lmax, n_free_params))/0.02"
   ]
  },
  {
   "cell_type": "code",
   "execution_count": 112,
   "id": "648a2a86-ff45-4259-bede-30254736845d",
   "metadata": {},
   "outputs": [
    {
     "data": {
      "text/plain": [
       "BenchmarkTools.Trial: 9966 samples with 1 evaluation.\n",
       " Range \u001b[90m(\u001b[39m\u001b[36m\u001b[1mmin\u001b[22m\u001b[39m … \u001b[35mmax\u001b[39m\u001b[90m):  \u001b[39m\u001b[36m\u001b[1m465.400 μs\u001b[22m\u001b[39m … \u001b[35m  1.750 ms\u001b[39m  \u001b[90m┊\u001b[39m GC \u001b[90m(\u001b[39mmin … max\u001b[90m): \u001b[39m0.00% … 0.00%\n",
       " Time  \u001b[90m(\u001b[39m\u001b[34m\u001b[1mmedian\u001b[22m\u001b[39m\u001b[90m):     \u001b[39m\u001b[34m\u001b[1m474.200 μs               \u001b[22m\u001b[39m\u001b[90m┊\u001b[39m GC \u001b[90m(\u001b[39mmedian\u001b[90m):    \u001b[39m0.00%\n",
       " Time  \u001b[90m(\u001b[39m\u001b[32m\u001b[1mmean\u001b[22m\u001b[39m ± \u001b[32mσ\u001b[39m\u001b[90m):   \u001b[39m\u001b[32m\u001b[1m498.644 μs\u001b[22m\u001b[39m ± \u001b[32m117.807 μs\u001b[39m  \u001b[90m┊\u001b[39m GC \u001b[90m(\u001b[39mmean ± σ\u001b[90m):  \u001b[39m3.07% ± 8.49%\n",
       "\n",
       "  \u001b[39m█\u001b[34m▅\u001b[39m\u001b[39m▂\u001b[32m▂\u001b[39m\u001b[39m \u001b[39m \u001b[39m \u001b[39m \u001b[39m \u001b[39m \u001b[39m \u001b[39m \u001b[39m \u001b[39m▁\u001b[39m \u001b[39m \u001b[39m \u001b[39m \u001b[39m \u001b[39m \u001b[39m \u001b[39m \u001b[39m \u001b[39m \u001b[39m \u001b[39m \u001b[39m \u001b[39m \u001b[39m \u001b[39m \u001b[39m \u001b[39m \u001b[39m \u001b[39m \u001b[39m \u001b[39m \u001b[39m \u001b[39m \u001b[39m \u001b[39m \u001b[39m \u001b[39m \u001b[39m \u001b[39m \u001b[39m \u001b[39m \u001b[39m \u001b[39m \u001b[39m \u001b[39m \u001b[39m \u001b[39m \u001b[39m \u001b[39m \u001b[39m \u001b[39m \u001b[39m \u001b[39m \u001b[39m \u001b[39m \u001b[39m \u001b[39m \u001b[39m▁\n",
       "  \u001b[39m█\u001b[34m█\u001b[39m\u001b[39m█\u001b[32m█\u001b[39m\u001b[39m█\u001b[39m▇\u001b[39m▇\u001b[39m▆\u001b[39m▆\u001b[39m▅\u001b[39m▅\u001b[39m▅\u001b[39m▇\u001b[39m█\u001b[39m▆\u001b[39m▅\u001b[39m▄\u001b[39m▃\u001b[39m▅\u001b[39m▁\u001b[39m▃\u001b[39m▃\u001b[39m▄\u001b[39m▁\u001b[39m▃\u001b[39m▁\u001b[39m▄\u001b[39m▃\u001b[39m▃\u001b[39m▃\u001b[39m▃\u001b[39m▄\u001b[39m▃\u001b[39m▁\u001b[39m▁\u001b[39m▄\u001b[39m▄\u001b[39m▁\u001b[39m▁\u001b[39m▄\u001b[39m▇\u001b[39m▆\u001b[39m▃\u001b[39m▅\u001b[39m▄\u001b[39m▁\u001b[39m▃\u001b[39m▃\u001b[39m▁\u001b[39m▅\u001b[39m▁\u001b[39m▁\u001b[39m▃\u001b[39m▃\u001b[39m▁\u001b[39m▄\u001b[39m▇\u001b[39m▇\u001b[39m▆\u001b[39m▇\u001b[39m█\u001b[39m \u001b[39m█\n",
       "  465 μs\u001b[90m        \u001b[39m\u001b[90mHistogram: \u001b[39m\u001b[90m\u001b[1mlog(\u001b[22m\u001b[39m\u001b[90mfrequency\u001b[39m\u001b[90m\u001b[1m)\u001b[22m\u001b[39m\u001b[90m by time\u001b[39m       1.18 ms \u001b[0m\u001b[1m<\u001b[22m\n",
       "\n",
       " Memory estimate\u001b[90m: \u001b[39m\u001b[33m1.02 MiB\u001b[39m, allocs estimate\u001b[90m: \u001b[39m\u001b[33m6145\u001b[39m."
      ]
     },
     "execution_count": 112,
     "metadata": {},
     "output_type": "execute_result"
    }
   ],
   "source": [
    "t_func = @benchmark test11(vec_K, nbin, lmax, n_free_params)"
   ]
  },
  {
   "cell_type": "code",
   "execution_count": 113,
   "id": "c24c81f3-2c90-4f50-93ad-48d61c0fed10",
   "metadata": {},
   "outputs": [
    {
     "data": {
      "text/plain": [
       "BenchmarkTools.Trial: 1857 samples with 1 evaluation.\n",
       " Range \u001b[90m(\u001b[39m\u001b[36m\u001b[1mmin\u001b[22m\u001b[39m … \u001b[35mmax\u001b[39m\u001b[90m):  \u001b[39m\u001b[36m\u001b[1m2.475 ms\u001b[22m\u001b[39m … \u001b[35m  5.469 ms\u001b[39m  \u001b[90m┊\u001b[39m GC \u001b[90m(\u001b[39mmin … max\u001b[90m): \u001b[39m0.00% … 33.43%\n",
       " Time  \u001b[90m(\u001b[39m\u001b[34m\u001b[1mmedian\u001b[22m\u001b[39m\u001b[90m):     \u001b[39m\u001b[34m\u001b[1m2.513 ms               \u001b[22m\u001b[39m\u001b[90m┊\u001b[39m GC \u001b[90m(\u001b[39mmedian\u001b[90m):    \u001b[39m0.00%\n",
       " Time  \u001b[90m(\u001b[39m\u001b[32m\u001b[1mmean\u001b[22m\u001b[39m ± \u001b[32mσ\u001b[39m\u001b[90m):   \u001b[39m\u001b[32m\u001b[1m2.688 ms\u001b[22m\u001b[39m ± \u001b[32m530.989 μs\u001b[39m  \u001b[90m┊\u001b[39m GC \u001b[90m(\u001b[39mmean ± σ\u001b[90m):  \u001b[39m4.79% ± 10.71%\n",
       "\n",
       "  \u001b[39m█\u001b[34m▇\u001b[39m\u001b[39m▃\u001b[39m▁\u001b[39m \u001b[39m \u001b[32m \u001b[39m\u001b[39m \u001b[39m \u001b[39m \u001b[39m \u001b[39m \u001b[39m \u001b[39m \u001b[39m \u001b[39m \u001b[39m \u001b[39m \u001b[39m \u001b[39m \u001b[39m \u001b[39m \u001b[39m \u001b[39m \u001b[39m \u001b[39m \u001b[39m \u001b[39m \u001b[39m \u001b[39m \u001b[39m \u001b[39m \u001b[39m \u001b[39m \u001b[39m \u001b[39m \u001b[39m \u001b[39m \u001b[39m \u001b[39m \u001b[39m \u001b[39m \u001b[39m \u001b[39m \u001b[39m \u001b[39m \u001b[39m \u001b[39m \u001b[39m▁\u001b[39m \u001b[39m \u001b[39m \u001b[39m \u001b[39m \u001b[39m \u001b[39m \u001b[39m \u001b[39m▁\u001b[39m \u001b[39m \u001b[39m \n",
       "  \u001b[39m█\u001b[34m█\u001b[39m\u001b[39m█\u001b[39m█\u001b[39m▆\u001b[39m▆\u001b[32m▆\u001b[39m\u001b[39m▅\u001b[39m▅\u001b[39m▄\u001b[39m▇\u001b[39m▆\u001b[39m▅\u001b[39m▃\u001b[39m▅\u001b[39m▄\u001b[39m▁\u001b[39m▅\u001b[39m▃\u001b[39m▁\u001b[39m▁\u001b[39m▃\u001b[39m▁\u001b[39m▆\u001b[39m▅\u001b[39m▄\u001b[39m▃\u001b[39m▄\u001b[39m▁\u001b[39m▅\u001b[39m▁\u001b[39m▃\u001b[39m▃\u001b[39m▃\u001b[39m█\u001b[39m▃\u001b[39m▃\u001b[39m▁\u001b[39m▁\u001b[39m▁\u001b[39m▃\u001b[39m▁\u001b[39m▃\u001b[39m▁\u001b[39m▁\u001b[39m▁\u001b[39m▃\u001b[39m█\u001b[39m█\u001b[39m▆\u001b[39m▅\u001b[39m▁\u001b[39m▄\u001b[39m▆\u001b[39m▆\u001b[39m▄\u001b[39m▄\u001b[39m█\u001b[39m▇\u001b[39m \u001b[39m█\n",
       "  2.48 ms\u001b[90m      \u001b[39m\u001b[90mHistogram: \u001b[39m\u001b[90m\u001b[1mlog(\u001b[22m\u001b[39m\u001b[90mfrequency\u001b[39m\u001b[90m\u001b[1m)\u001b[22m\u001b[39m\u001b[90m by time\u001b[39m      4.73 ms \u001b[0m\u001b[1m<\u001b[22m\n",
       "\n",
       " Memory estimate\u001b[90m: \u001b[39m\u001b[33m2.88 MiB\u001b[39m, allocs estimate\u001b[90m: \u001b[39m\u001b[33m79916\u001b[39m."
      ]
     },
     "execution_count": 113,
     "metadata": {},
     "output_type": "execute_result"
    }
   ],
   "source": [
    "t_funcgrad = @benchmark withgradient(x->test11(x, nbin, lmax, n_free_params), vec_K)"
   ]
  },
  {
   "cell_type": "code",
   "execution_count": 114,
   "id": "f16c2c05-c1fb-49f4-b02e-1d0a7730c915",
   "metadata": {},
   "outputs": [
    {
     "data": {
      "text/plain": [
       "5.298397300716997"
      ]
     },
     "execution_count": 114,
     "metadata": {},
     "output_type": "execute_result"
    }
   ],
   "source": [
    "median(t_funcgrad).time / median(t_func).time"
   ]
  },
  {
   "cell_type": "markdown",
   "id": "f55ee166-cb88-41e3-bc9e-b5a1f6aed85a",
   "metadata": {
    "jp-MarkdownHeadingCollapsed": true
   },
   "source": [
    "# 2 - INFERENCE FUNCTIONS TESTS"
   ]
  },
  {
   "cell_type": "markdown",
   "id": "f91e76cc-5ba6-453c-9510-aa6f422c12bf",
   "metadata": {},
   "source": [
    "## 2.1 - Generate fictional data"
   ]
  },
  {
   "cell_type": "code",
   "execution_count": 2,
   "id": "eaa9cba1-1b1a-49ef-a00d-8608729df395",
   "metadata": {},
   "outputs": [],
   "source": [
    "nbin = 1\n",
    "lmax = 127\n",
    "q = 0#-0.5*(2*nbin+1)\n",
    "nside = 64\n",
    "npix = nside2npix(nside)\n",
    "ε = 0.27/sqrt(2*3)  #(0.3/sqrt(36))\n",
    "N_noise = ε * I\n",
    "inv_N_noise = inv(N_noise);"
   ]
  },
  {
   "cell_type": "code",
   "execution_count": 3,
   "id": "c4fc0b66-e27f-46c2-a148-e735303c23b9",
   "metadata": {
    "scrolled": true
   },
   "outputs": [
    {
     "data": {
      "text/plain": [
       "data_generator (generic function with 2 methods)"
      ]
     },
     "execution_count": 3,
     "metadata": {},
     "output_type": "execute_result"
    }
   ],
   "source": [
    "@model function data_generator(l_max, n_tomo)\n",
    "    L = Vector{Matrix{Float64}}(undef, l_max+1)# a vector of l_max+1 matrices, each of them will 2n_tomo x 2n_tomo elements\n",
    "    x = Vector{Matrix{Float64}}(undef, l_max+1)# a vector of l_max+1 matrices, the i-th matrix has (2ntomo x i) elements\n",
    "    \n",
    "    for i in 1:l_max+1\n",
    "        L[i] ~ LKJCholesky(2*n_tomo, 1)\n",
    "        x[i] ~ arraydist([MvNormal(zeros(2*n_tomo), Matrix{Float64}(I,2*n_tomo,2*n_tomo)) for p in -(i-1):(i-1)])\n",
    "    end\n",
    "end"
   ]
  },
  {
   "cell_type": "markdown",
   "id": "33d67f87-3f3e-4258-876e-732155eb0885",
   "metadata": {
    "jp-MarkdownHeadingCollapsed": true
   },
   "source": [
    "### 2.1.1 - Fictional measured data"
   ]
  },
  {
   "cell_type": "code",
   "execution_count": 4,
   "id": "d37b2943-48ec-41ec-8147-6a1d585dede2",
   "metadata": {},
   "outputs": [],
   "source": [
    "# x matrices\n",
    "gen_data = rand(data_generator(lmax, nbin))\n",
    "gen_L = collect(gen_data[i] for i in 1:2:2*(lmax+1));\n",
    "vec_x = x_vecmat2vec(collect(gen_data[i] for i in 2:2:2*(lmax+1)), lmax, nbin)\n",
    "\n",
    "# K and L matrices\n",
    "free_param_n = (2*nbin - 1)*(nbin + 1)\n",
    "vec_K = rand(Uniform(-1,1),(lmax+1)*free_param_n);\n",
    "#L = vector_from_k_to_L(vec_K, nbin, lmax, free_param_n);"
   ]
  },
  {
   "cell_type": "code",
   "execution_count": 5,
   "id": "1174bd33-721b-4741-acad-d4eaabcf148d",
   "metadata": {},
   "outputs": [],
   "source": [
    "#gen_C, gen_a = global_from_Cholesky(Cholesky.(LowerTriangular.(L)), collect(gen_data[i] for i in 2:2:2*(lmax+1)))\n",
    "gen_C, gen_a = global_from_Cholesky(gen_L, collect(gen_data[i] for i in 2:2:2*(lmax+1)))\n",
    "hpix_gen_alms = from_alm_to_healpix_alm(gen_a, lmax, nbin)\n",
    "gen_maps = Array{HealpixMap}(undef, 2*nbin)\n",
    "for i in 1:2*nbin\n",
    "    gen_maps[i] = alm2map(hpix_gen_alms[i], nside)\n",
    "end"
   ]
  },
  {
   "cell_type": "markdown",
   "id": "d69a7932-f7c8-40f2-8581-23034738b8aa",
   "metadata": {
    "jp-MarkdownHeadingCollapsed": true
   },
   "source": [
    "### 2.1.2 - Initial condition"
   ]
  },
  {
   "cell_type": "code",
   "execution_count": 6,
   "id": "d4465224-ccf2-41a2-b298-acca843aabca",
   "metadata": {},
   "outputs": [],
   "source": [
    "θₜ = vcat(vec_x, vec_K);"
   ]
  },
  {
   "cell_type": "code",
   "execution_count": 7,
   "id": "0bfce3f0-8e55-4fab-be8a-6521277d138b",
   "metadata": {},
   "outputs": [
    {
     "data": {
      "text/plain": [
       "0"
      ]
     },
     "execution_count": 7,
     "metadata": {},
     "output_type": "execute_result"
    }
   ],
   "source": [
    "vec_x = 0\n",
    "gen_C = 0\n",
    "gen_a = 0\n",
    "hpix_gen_alms = 0"
   ]
  },
  {
   "cell_type": "code",
   "execution_count": 8,
   "id": "4c7851c7-89eb-4fb6-abce-1fea1354bcca",
   "metadata": {},
   "outputs": [],
   "source": [
    "#θ₀ = rand(MvNormal(θₜ, Matrix(I, length(θₜ), length(θₜ))));\n",
    "θ₀=θₜ;"
   ]
  },
  {
   "cell_type": "code",
   "execution_count": 9,
   "id": "0dd3069e-5256-402a-8223-85b558fa93a0",
   "metadata": {},
   "outputs": [],
   "source": [
    "K₀ = vectorK_vec2vecmat(θ₀[2*nbin*(2*numberOfAlms(lmax)-(lmax+1))+1:end], nbin, lmax, free_param_n)\n",
    "x₀ = x_vec2vecmat(θ₀[1:2*nbin*(2*numberOfAlms(lmax)-(lmax+1))], lmax, nbin)\n",
    "L₀ = vector_from_k_to_L(θ₀[2*nbin*(2*numberOfAlms(lmax)-(lmax+1))+1:end], nbin, lmax, free_param_n);"
   ]
  },
  {
   "cell_type": "markdown",
   "id": "3d54af32-d9eb-421d-93da-2840b3c44680",
   "metadata": {
    "jp-MarkdownHeadingCollapsed": true
   },
   "source": [
    "## 2.2 - Negloglikelihood\n",
    "\n",
    "$$-\\log{(\\mathcal{L}(\\mathrm{L},\\mathbf{x}))} = \\sum_{i=1}^{2n_{bins}} \\left[ \\frac{1}{2}(\\mathbf{d}-\\mathrm{Y}\\mathrm{L} \\mathbf{x})^{\\mathrm{T}}\\mathrm{N}^{-1}(\\mathbf{d}-\\mathrm{Y}\\mathrm{L} \\mathbf{x}) \\right]$$"
   ]
  },
  {
   "cell_type": "code",
   "execution_count": 10,
   "id": "9551684d-9137-48b5-a96c-fd0200c71934",
   "metadata": {},
   "outputs": [
    {
     "data": {
      "text/plain": [
       "negloglikelihood (generic function with 1 method)"
      ]
     },
     "execution_count": 10,
     "metadata": {},
     "output_type": "execute_result"
    }
   ],
   "source": [
    "function negloglikelihood(L::Vector{Matrix{Float64}}, x::Vector{Matrix{Float64}})\n",
    "    loglike = 0.\n",
    "    a = Chol_Lx2a(x, L)\n",
    "    alms = from_alm_to_healpix_alm(a, lmax, nbin)\n",
    "    for i in 1:2*nbin\n",
    "        d̃ = alm2map(alms[i], nside)\n",
    "        loglike += 0.5*transpose(gen_maps[i]-d̃)*inv_N_noise*(gen_maps[i]-d̃)\n",
    "    end\n",
    "    return loglike\n",
    "end"
   ]
  },
  {
   "cell_type": "markdown",
   "id": "2a16643c-4225-45b7-a084-b9743f113206",
   "metadata": {},
   "source": [
    "### 2.2.1 -  $L$ variables test"
   ]
  },
  {
   "cell_type": "code",
   "execution_count": 21,
   "id": "eb91ddad-d65c-43fd-96a6-647d59a2d301",
   "metadata": {},
   "outputs": [],
   "source": [
    "ℒ, dℒ_dL = withgradient(ℓ->negloglikelihood(ℓ, x₀), L₀);"
   ]
  },
  {
   "cell_type": "code",
   "execution_count": 22,
   "id": "1410d13d-72cd-4d73-af95-ace67a14526e",
   "metadata": {},
   "outputs": [
    {
     "data": {
      "text/plain": [
       "2×2 Matrix{Float64}:\n",
       "    -2.13288      0.100295\n",
       " 61622.9      -2897.73"
      ]
     },
     "execution_count": 22,
     "metadata": {},
     "output_type": "execute_result"
    }
   ],
   "source": [
    "dℒ_dL[1][1]"
   ]
  },
  {
   "cell_type": "code",
   "execution_count": 23,
   "id": "4ef2bd08-f109-4df5-8819-20de1948a5e6",
   "metadata": {},
   "outputs": [
    {
     "data": {
      "text/plain": [
       "0.10029971599578857"
      ]
     },
     "execution_count": 23,
     "metadata": {},
     "output_type": "execute_result"
    }
   ],
   "source": [
    "L₊ = deepcopy(L₀)\n",
    "L₋ = deepcopy(L₀)\n",
    "L₊[1][1,2] += 0.01\n",
    "L₋[1][1,2] -= 0.01\n",
    "(negloglikelihood(L₊, x₀) - negloglikelihood(L₋, x₀))/0.02"
   ]
  },
  {
   "cell_type": "code",
   "execution_count": 24,
   "id": "2ae037c5-b5ab-4b3d-a887-8d91b9062b71",
   "metadata": {},
   "outputs": [
    {
     "data": {
      "text/plain": [
       "2×2 Matrix{Float64}:\n",
       " -1.96355e5  -12408.9\n",
       " -2.38297e5      -3.60509e5"
      ]
     },
     "execution_count": 24,
     "metadata": {},
     "output_type": "execute_result"
    }
   ],
   "source": [
    "dℒ_dL[1][10]"
   ]
  },
  {
   "cell_type": "code",
   "execution_count": 25,
   "id": "0eebba24-ca5d-4633-94eb-f2d53cdcb46c",
   "metadata": {},
   "outputs": [
    {
     "data": {
      "text/plain": [
       "-360508.7184369564"
      ]
     },
     "execution_count": 25,
     "metadata": {},
     "output_type": "execute_result"
    }
   ],
   "source": [
    "L₊ = deepcopy(L₀)\n",
    "L₋ = deepcopy(L₀)\n",
    "L₊[10][2,2] += 0.01\n",
    "L₋[10][2,2] -= 0.01\n",
    "(negloglikelihood(L₊, x₀) - negloglikelihood(L₋, x₀))/0.02"
   ]
  },
  {
   "cell_type": "markdown",
   "id": "6582358c-2538-426a-bfd7-6a93eae96be9",
   "metadata": {},
   "source": [
    "#### Benchmarks"
   ]
  },
  {
   "cell_type": "code",
   "execution_count": 27,
   "id": "3289cbee-04bd-48aa-a01e-af6a10ea3c11",
   "metadata": {},
   "outputs": [
    {
     "data": {
      "text/plain": [
       "BenchmarkTools.Trial: 1356 samples with 1 evaluation.\n",
       " Range \u001b[90m(\u001b[39m\u001b[36m\u001b[1mmin\u001b[22m\u001b[39m … \u001b[35mmax\u001b[39m\u001b[90m):  \u001b[39m\u001b[36m\u001b[1m2.846 ms\u001b[22m\u001b[39m … \u001b[35m 10.479 ms\u001b[39m  \u001b[90m┊\u001b[39m GC \u001b[90m(\u001b[39mmin … max\u001b[90m): \u001b[39m0.00% … 42.61%\n",
       " Time  \u001b[90m(\u001b[39m\u001b[34m\u001b[1mmedian\u001b[22m\u001b[39m\u001b[90m):     \u001b[39m\u001b[34m\u001b[1m3.372 ms               \u001b[22m\u001b[39m\u001b[90m┊\u001b[39m GC \u001b[90m(\u001b[39mmedian\u001b[90m):    \u001b[39m0.00%\n",
       " Time  \u001b[90m(\u001b[39m\u001b[32m\u001b[1mmean\u001b[22m\u001b[39m ± \u001b[32mσ\u001b[39m\u001b[90m):   \u001b[39m\u001b[32m\u001b[1m3.672 ms\u001b[22m\u001b[39m ± \u001b[32m780.283 μs\u001b[39m  \u001b[90m┊\u001b[39m GC \u001b[90m(\u001b[39mmean ± σ\u001b[90m):  \u001b[39m3.86% ±  7.82%\n",
       "\n",
       "  \u001b[39m \u001b[39m \u001b[39m \u001b[39m▃\u001b[39m▇\u001b[39m█\u001b[39m▄\u001b[39m▄\u001b[39m▃\u001b[34m \u001b[39m\u001b[39m \u001b[39m \u001b[39m \u001b[39m \u001b[39m \u001b[32m \u001b[39m\u001b[39m \u001b[39m \u001b[39m \u001b[39m \u001b[39m \u001b[39m \u001b[39m \u001b[39m \u001b[39m \u001b[39m \u001b[39m \u001b[39m \u001b[39m \u001b[39m \u001b[39m \u001b[39m \u001b[39m \u001b[39m \u001b[39m \u001b[39m \u001b[39m \u001b[39m \u001b[39m \u001b[39m \u001b[39m \u001b[39m \u001b[39m \u001b[39m \u001b[39m \u001b[39m \u001b[39m \u001b[39m \u001b[39m \u001b[39m \u001b[39m \u001b[39m \u001b[39m \u001b[39m \u001b[39m \u001b[39m \u001b[39m \u001b[39m \u001b[39m \u001b[39m \u001b[39m \n",
       "  \u001b[39m▃\u001b[39m▆\u001b[39m▆\u001b[39m█\u001b[39m█\u001b[39m█\u001b[39m█\u001b[39m█\u001b[39m█\u001b[34m█\u001b[39m\u001b[39m█\u001b[39m▇\u001b[39m▆\u001b[39m▅\u001b[39m▆\u001b[32m▅\u001b[39m\u001b[39m▅\u001b[39m▄\u001b[39m▅\u001b[39m▅\u001b[39m▄\u001b[39m▄\u001b[39m▄\u001b[39m▅\u001b[39m▄\u001b[39m▄\u001b[39m▃\u001b[39m▄\u001b[39m▄\u001b[39m▃\u001b[39m▄\u001b[39m▄\u001b[39m▃\u001b[39m▃\u001b[39m▃\u001b[39m▃\u001b[39m▃\u001b[39m▃\u001b[39m▃\u001b[39m▃\u001b[39m▂\u001b[39m▃\u001b[39m▃\u001b[39m▃\u001b[39m▂\u001b[39m▂\u001b[39m▂\u001b[39m▂\u001b[39m▂\u001b[39m▁\u001b[39m▂\u001b[39m▃\u001b[39m▂\u001b[39m▂\u001b[39m▂\u001b[39m▂\u001b[39m▂\u001b[39m▂\u001b[39m▂\u001b[39m \u001b[39m▃\n",
       "  2.85 ms\u001b[90m         Histogram: frequency by time\u001b[39m        6.17 ms \u001b[0m\u001b[1m<\u001b[22m\n",
       "\n",
       " Memory estimate\u001b[90m: \u001b[39m\u001b[33m5.55 MiB\u001b[39m, allocs estimate\u001b[90m: \u001b[39m\u001b[33m444\u001b[39m."
      ]
     },
     "execution_count": 27,
     "metadata": {},
     "output_type": "execute_result"
    }
   ],
   "source": [
    "t_func = @benchmark negloglikelihood(L₀, x₀)"
   ]
  },
  {
   "cell_type": "code",
   "execution_count": 28,
   "id": "289a6358-e561-46ec-afb3-4dc8b7fda7a1",
   "metadata": {},
   "outputs": [
    {
     "data": {
      "text/plain": [
       "BenchmarkTools.Trial: 516 samples with 1 evaluation.\n",
       " Range \u001b[90m(\u001b[39m\u001b[36m\u001b[1mmin\u001b[22m\u001b[39m … \u001b[35mmax\u001b[39m\u001b[90m):  \u001b[39m\u001b[36m\u001b[1m7.020 ms\u001b[22m\u001b[39m … \u001b[35m33.668 ms\u001b[39m  \u001b[90m┊\u001b[39m GC \u001b[90m(\u001b[39mmin … max\u001b[90m): \u001b[39m0.00% … 0.00%\n",
       " Time  \u001b[90m(\u001b[39m\u001b[34m\u001b[1mmedian\u001b[22m\u001b[39m\u001b[90m):     \u001b[39m\u001b[34m\u001b[1m9.492 ms              \u001b[22m\u001b[39m\u001b[90m┊\u001b[39m GC \u001b[90m(\u001b[39mmedian\u001b[90m):    \u001b[39m0.00%\n",
       " Time  \u001b[90m(\u001b[39m\u001b[32m\u001b[1mmean\u001b[22m\u001b[39m ± \u001b[32mσ\u001b[39m\u001b[90m):   \u001b[39m\u001b[32m\u001b[1m9.683 ms\u001b[22m\u001b[39m ± \u001b[32m 1.877 ms\u001b[39m  \u001b[90m┊\u001b[39m GC \u001b[90m(\u001b[39mmean ± σ\u001b[90m):  \u001b[39m3.86% ± 5.47%\n",
       "\n",
       "  \u001b[39m \u001b[39m \u001b[39m \u001b[39m \u001b[39m \u001b[39m \u001b[39m \u001b[39m \u001b[39m \u001b[39m \u001b[39m \u001b[39m \u001b[39m \u001b[39m \u001b[39m▄\u001b[34m█\u001b[39m\u001b[32m▁\u001b[39m\u001b[39m \u001b[39m \u001b[39m \u001b[39m \u001b[39m \u001b[39m \u001b[39m \u001b[39m \u001b[39m \u001b[39m \u001b[39m \u001b[39m \u001b[39m \u001b[39m \u001b[39m \u001b[39m \u001b[39m \u001b[39m \u001b[39m \u001b[39m \u001b[39m \u001b[39m \u001b[39m \u001b[39m \u001b[39m \u001b[39m \u001b[39m \u001b[39m \u001b[39m \u001b[39m \u001b[39m \u001b[39m \u001b[39m \u001b[39m \u001b[39m \u001b[39m \u001b[39m \u001b[39m \u001b[39m \u001b[39m \u001b[39m \u001b[39m \u001b[39m \n",
       "  \u001b[39m▃\u001b[39m▄\u001b[39m▃\u001b[39m▄\u001b[39m▃\u001b[39m▃\u001b[39m▄\u001b[39m▆\u001b[39m▅\u001b[39m▇\u001b[39m█\u001b[39m▆\u001b[39m▅\u001b[39m▆\u001b[39m█\u001b[34m█\u001b[39m\u001b[32m█\u001b[39m\u001b[39m▅\u001b[39m▄\u001b[39m▄\u001b[39m▅\u001b[39m▆\u001b[39m▅\u001b[39m▅\u001b[39m▄\u001b[39m▄\u001b[39m▃\u001b[39m▂\u001b[39m▃\u001b[39m▂\u001b[39m▃\u001b[39m▂\u001b[39m▁\u001b[39m▁\u001b[39m▃\u001b[39m▂\u001b[39m▂\u001b[39m▁\u001b[39m▂\u001b[39m▂\u001b[39m▂\u001b[39m▁\u001b[39m▂\u001b[39m▂\u001b[39m▂\u001b[39m▁\u001b[39m▁\u001b[39m▁\u001b[39m▂\u001b[39m▁\u001b[39m▁\u001b[39m▁\u001b[39m▂\u001b[39m▁\u001b[39m▂\u001b[39m▁\u001b[39m▁\u001b[39m▂\u001b[39m \u001b[39m▃\n",
       "  7.02 ms\u001b[90m        Histogram: frequency by time\u001b[39m        16.5 ms \u001b[0m\u001b[1m<\u001b[22m\n",
       "\n",
       " Memory estimate\u001b[90m: \u001b[39m\u001b[33m14.50 MiB\u001b[39m, allocs estimate\u001b[90m: \u001b[39m\u001b[33m3130\u001b[39m."
      ]
     },
     "execution_count": 28,
     "metadata": {},
     "output_type": "execute_result"
    }
   ],
   "source": [
    "t_funcgrad = @benchmark withgradient(ℓ->negloglikelihood(ℓ, x₀), L₀)"
   ]
  },
  {
   "cell_type": "code",
   "execution_count": 29,
   "id": "1cc5922c-2f22-4de1-b0ce-44ee2880ca7d",
   "metadata": {},
   "outputs": [
    {
     "data": {
      "text/plain": [
       "2.814759348773761"
      ]
     },
     "execution_count": 29,
     "metadata": {},
     "output_type": "execute_result"
    }
   ],
   "source": [
    "median(t_funcgrad).time/median(t_func).time"
   ]
  },
  {
   "cell_type": "markdown",
   "id": "c4e7d674-ec63-4c11-bc1b-594ae827e5bd",
   "metadata": {},
   "source": [
    "### 2.2.2 -  $x$ variables test"
   ]
  },
  {
   "cell_type": "code",
   "execution_count": 84,
   "id": "c33ad767-3294-43ed-9e56-01a7b6c77bab",
   "metadata": {},
   "outputs": [],
   "source": [
    "ℒ, dℒ_dx = withgradient(x->negloglikelihood(L₀, x), x₀);"
   ]
  },
  {
   "cell_type": "code",
   "execution_count": 85,
   "id": "e80b4aa3-4d7f-4932-8a12-2863049cc681",
   "metadata": {},
   "outputs": [
    {
     "data": {
      "text/plain": [
       "2×5 Matrix{Float64}:\n",
       " -314.636  -13573.9   -41116.1   40789.2  -41972.6\n",
       "  387.26     3835.83   14904.9  -24721.0   18052.4"
      ]
     },
     "execution_count": 85,
     "metadata": {},
     "output_type": "execute_result"
    }
   ],
   "source": [
    "dℒ_dx[1][3]"
   ]
  },
  {
   "cell_type": "code",
   "execution_count": 86,
   "id": "848f9b51-4257-4c5d-b558-0920c7fd2828",
   "metadata": {},
   "outputs": [
    {
     "data": {
      "text/plain": [
       "387.2601270675659"
      ]
     },
     "execution_count": 86,
     "metadata": {},
     "output_type": "execute_result"
    }
   ],
   "source": [
    "x₊ = deepcopy(x₀)\n",
    "x₋ = deepcopy(x₀)\n",
    "x₊[3][2,1] += 0.01\n",
    "x₋[3][2,1] -= 0.01\n",
    "(negloglikelihood(L₀, x₊) - negloglikelihood(L₀, x₋))/0.02"
   ]
  },
  {
   "cell_type": "code",
   "execution_count": 87,
   "id": "509dabe3-8b18-4d41-97f0-07d37e3d1ef7",
   "metadata": {},
   "outputs": [
    {
     "data": {
      "text/plain": [
       "2×9 Matrix{Float64}:\n",
       " -531.421  -14487.9    -13069.5   -53905.9  …  -4043.03  19840.0   12476.2\n",
       " -606.7      -743.016   -9025.31  -20528.6     -5409.59   5992.68   3473.65"
      ]
     },
     "execution_count": 87,
     "metadata": {},
     "output_type": "execute_result"
    }
   ],
   "source": [
    "dℒ_dx[1][5]"
   ]
  },
  {
   "cell_type": "code",
   "execution_count": 88,
   "id": "17f735d5-400e-4713-b012-2b3259ca212e",
   "metadata": {},
   "outputs": [
    {
     "data": {
      "text/plain": [
       "-5409.5940083265305"
      ]
     },
     "execution_count": 88,
     "metadata": {},
     "output_type": "execute_result"
    }
   ],
   "source": [
    "x₊ = deepcopy(x₀)\n",
    "x₋ = deepcopy(x₀)\n",
    "x₊[5][2,7] += 0.01\n",
    "x₋[5][2,7] -= 0.01\n",
    "(negloglikelihood(L₀, x₊) - negloglikelihood(L₀, x₋))/0.02"
   ]
  },
  {
   "cell_type": "code",
   "execution_count": 89,
   "id": "e5175cfa-dca7-41ed-b3e0-fb2c74773e2f",
   "metadata": {},
   "outputs": [
    {
     "data": {
      "text/plain": [
       "5992.684578895569"
      ]
     },
     "execution_count": 89,
     "metadata": {},
     "output_type": "execute_result"
    }
   ],
   "source": [
    "x₊ = deepcopy(x₀)\n",
    "x₋ = deepcopy(x₀)\n",
    "x₊[5][2,8] += 0.01\n",
    "x₋[5][2,8] -= 0.01\n",
    "(negloglikelihood(L₀, x₊) - negloglikelihood(L₀, x₋))/0.02"
   ]
  },
  {
   "cell_type": "markdown",
   "id": "121ef5fc-94c9-4ba6-a769-235c5e78cb25",
   "metadata": {},
   "source": [
    "#### Benchmarks"
   ]
  },
  {
   "cell_type": "code",
   "execution_count": 90,
   "id": "273ac1d9-7c03-4f07-9931-27f2968bd30e",
   "metadata": {},
   "outputs": [
    {
     "data": {
      "text/plain": [
       "BenchmarkTools.Trial: 515 samples with 1 evaluation.\n",
       " Range \u001b[90m(\u001b[39m\u001b[36m\u001b[1mmin\u001b[22m\u001b[39m … \u001b[35mmax\u001b[39m\u001b[90m):  \u001b[39m\u001b[36m\u001b[1m8.135 ms\u001b[22m\u001b[39m … \u001b[35m17.712 ms\u001b[39m  \u001b[90m┊\u001b[39m GC \u001b[90m(\u001b[39mmin … max\u001b[90m): \u001b[39m0.00% … 23.35%\n",
       " Time  \u001b[90m(\u001b[39m\u001b[34m\u001b[1mmedian\u001b[22m\u001b[39m\u001b[90m):     \u001b[39m\u001b[34m\u001b[1m9.229 ms              \u001b[22m\u001b[39m\u001b[90m┊\u001b[39m GC \u001b[90m(\u001b[39mmedian\u001b[90m):    \u001b[39m0.00%\n",
       " Time  \u001b[90m(\u001b[39m\u001b[32m\u001b[1mmean\u001b[22m\u001b[39m ± \u001b[32mσ\u001b[39m\u001b[90m):   \u001b[39m\u001b[32m\u001b[1m9.708 ms\u001b[22m\u001b[39m ± \u001b[32m 1.366 ms\u001b[39m  \u001b[90m┊\u001b[39m GC \u001b[90m(\u001b[39mmean ± σ\u001b[90m):  \u001b[39m4.28% ±  5.80%\n",
       "\n",
       "  \u001b[39m \u001b[39m \u001b[39m \u001b[39m \u001b[39m▄\u001b[39m█\u001b[39m▆\u001b[39m \u001b[39m \u001b[34m \u001b[39m\u001b[39m \u001b[39m \u001b[32m \u001b[39m\u001b[39m \u001b[39m▂\u001b[39m▃\u001b[39m \u001b[39m \u001b[39m \u001b[39m \u001b[39m \u001b[39m \u001b[39m \u001b[39m \u001b[39m \u001b[39m \u001b[39m \u001b[39m \u001b[39m \u001b[39m \u001b[39m \u001b[39m \u001b[39m \u001b[39m \u001b[39m \u001b[39m \u001b[39m \u001b[39m \u001b[39m \u001b[39m \u001b[39m \u001b[39m \u001b[39m \u001b[39m \u001b[39m \u001b[39m \u001b[39m \u001b[39m \u001b[39m \u001b[39m \u001b[39m \u001b[39m \u001b[39m \u001b[39m \u001b[39m \u001b[39m \u001b[39m \u001b[39m \u001b[39m \u001b[39m \n",
       "  \u001b[39m▄\u001b[39m▅\u001b[39m▃\u001b[39m▄\u001b[39m█\u001b[39m█\u001b[39m█\u001b[39m█\u001b[39m▅\u001b[34m▂\u001b[39m\u001b[39m▃\u001b[39m▃\u001b[32m▆\u001b[39m\u001b[39m█\u001b[39m█\u001b[39m█\u001b[39m▆\u001b[39m▅\u001b[39m▃\u001b[39m▃\u001b[39m▃\u001b[39m▃\u001b[39m▃\u001b[39m▄\u001b[39m▃\u001b[39m▄\u001b[39m▂\u001b[39m▂\u001b[39m▂\u001b[39m▁\u001b[39m▁\u001b[39m▂\u001b[39m▁\u001b[39m▁\u001b[39m▂\u001b[39m▂\u001b[39m▁\u001b[39m▂\u001b[39m▂\u001b[39m▂\u001b[39m▃\u001b[39m▂\u001b[39m▃\u001b[39m▂\u001b[39m▁\u001b[39m▁\u001b[39m▁\u001b[39m▁\u001b[39m▁\u001b[39m▃\u001b[39m▁\u001b[39m▁\u001b[39m▂\u001b[39m▁\u001b[39m▁\u001b[39m▂\u001b[39m▂\u001b[39m▂\u001b[39m \u001b[39m▃\n",
       "  8.14 ms\u001b[90m        Histogram: frequency by time\u001b[39m        15.4 ms \u001b[0m\u001b[1m<\u001b[22m\n",
       "\n",
       " Memory estimate\u001b[90m: \u001b[39m\u001b[33m14.50 MiB\u001b[39m, allocs estimate\u001b[90m: \u001b[39m\u001b[33m3105\u001b[39m."
      ]
     },
     "execution_count": 90,
     "metadata": {},
     "output_type": "execute_result"
    }
   ],
   "source": [
    "t_funcgrad = @benchmark withgradient(x->negloglikelihood(L₀, x), x₀)"
   ]
  },
  {
   "cell_type": "code",
   "execution_count": 91,
   "id": "61825386-1f2c-4793-b985-b2cfe6890537",
   "metadata": {},
   "outputs": [
    {
     "data": {
      "text/plain": [
       "2.7827594524513057"
      ]
     },
     "execution_count": 91,
     "metadata": {},
     "output_type": "execute_result"
    }
   ],
   "source": [
    "median(t_funcgrad).time/median(t_func).time"
   ]
  },
  {
   "cell_type": "markdown",
   "id": "026569b4-0794-4a2a-ac0a-04c26e87cb1e",
   "metadata": {
    "jp-MarkdownHeadingCollapsed": true
   },
   "source": [
    "## 2.3 - Neglogprior1\n",
    "\n",
    "$$-\\log{(\\mathcal{P}_1(\\mathbf{x}))} = \\sum_{i=1}^{2n_{bins}} \\left[ \\frac{1}{2}\\sum_{\\ell}\\sum_{m}\\mathbf{x}_{\\ell m}^{\\mathrm{T}}\\mathbf{x}_{\\ell m} \\right] $$"
   ]
  },
  {
   "cell_type": "markdown",
   "id": "22cfa9f3-4a70-43cc-95ff-bed913b8e8c7",
   "metadata": {},
   "source": [
    "function neglogprior1(x::Vector{Matrix{Float64}})\n",
    "    logprior = 0.\n",
    "    hlpix_x = from_alm_to_healpix_alm(x, lmax, nbin)\n",
    "    for i in 1:2*nbin\n",
    "        logprior += 0.5*sum(alm_prod(hlpix_x[i],hlpix_x[i]))\n",
    "    end\n",
    "    return real(logprior)\n",
    "end"
   ]
  },
  {
   "cell_type": "code",
   "execution_count": 14,
   "id": "463f874b-b269-4b3b-adf5-83d261eae606",
   "metadata": {},
   "outputs": [],
   "source": [
    "function neglogprior1(x::Vector{Float64})\n",
    "    logprior =  0.5*sum(x .* x)\n",
    "    return logprior\n",
    "end\n",
    "\n",
    "@adjoint function neglogprior1(x::Vector{Float64})\n",
    "    y = neglogprior1(x)\n",
    "    function neglogprior1_pullback(ȳ)\n",
    "        x̄ = deepcopy(x) .* ȳ\n",
    "        return (x̄,)\n",
    "    end\n",
    "    return y, neglogprior1_pullback\n",
    "end"
   ]
  },
  {
   "cell_type": "code",
   "execution_count": 15,
   "id": "06cea2b9-bfae-4599-8bd3-b290cda9a501",
   "metadata": {},
   "outputs": [
    {
     "data": {
      "text/plain": [
       "4.1948779658138e6"
      ]
     },
     "execution_count": 15,
     "metadata": {},
     "output_type": "execute_result"
    }
   ],
   "source": [
    "neglogprior1(vec_x)"
   ]
  },
  {
   "cell_type": "code",
   "execution_count": 16,
   "id": "0536742f-c132-4faf-b75d-0d45c4480f9e",
   "metadata": {
    "scrolled": true
   },
   "outputs": [
    {
     "data": {
      "text/plain": [
       "(val = 4.1948779658138e6, grad = ([-1.2754964526766959, -1.1556866267577786, -1.0802775118673145, -0.9293493753605436, 0.6163653072876508, -0.3231044218214436, -1.1587214028308848, 0.567926042054044, -0.41019532806641984, 0.2616371697452952  …  -0.9939237672753833, -0.12913656753819422, -0.7899582912390452, -0.028665993274613073, -0.12277288516835984, -0.15797805785254357, -0.25911525730528434, -0.5850703669815005, 0.4093646904478641, -1.617692738395248],))"
      ]
     },
     "execution_count": 16,
     "metadata": {},
     "output_type": "execute_result"
    }
   ],
   "source": [
    "𝒫₁, d𝒫₁ = withgradient(x->neglogprior1(x), vec_x)"
   ]
  },
  {
   "cell_type": "code",
   "execution_count": 19,
   "id": "9dfb308b-3587-4401-a852-9f1187378396",
   "metadata": {},
   "outputs": [
    {
     "data": {
      "text/plain": [
       "-1.5159221480935425"
      ]
     },
     "execution_count": 19,
     "metadata": {},
     "output_type": "execute_result"
    }
   ],
   "source": [
    "d𝒫₁[1][33]"
   ]
  },
  {
   "cell_type": "code",
   "execution_count": 20,
   "id": "51bc16c9-35bc-4ab1-8bcd-4c5e6deec0bd",
   "metadata": {},
   "outputs": [
    {
     "data": {
      "text/plain": [
       "-1.5159221831709146"
      ]
     },
     "execution_count": 20,
     "metadata": {},
     "output_type": "execute_result"
    }
   ],
   "source": [
    "x₊ = deepcopy(vec_x)\n",
    "x₋ = deepcopy(vec_x)\n",
    "x₊[33] += 0.01\n",
    "x₋[33] -= 0.01\n",
    "(neglogprior1(x₊) - neglogprior1(x₋))/0.02"
   ]
  },
  {
   "cell_type": "code",
   "execution_count": 21,
   "id": "e7deec44-ed0f-4d5f-afb2-b6a2c45628d1",
   "metadata": {},
   "outputs": [
    {
     "data": {
      "text/plain": [
       "-0.3231044218214436"
      ]
     },
     "execution_count": 21,
     "metadata": {},
     "output_type": "execute_result"
    }
   ],
   "source": [
    "d𝒫₁[1][6]"
   ]
  },
  {
   "cell_type": "code",
   "execution_count": 23,
   "id": "870745e2-e7ba-46b7-999d-43b32bacaf6b",
   "metadata": {},
   "outputs": [
    {
     "data": {
      "text/plain": [
       "-0.3231044393032789"
      ]
     },
     "execution_count": 23,
     "metadata": {},
     "output_type": "execute_result"
    }
   ],
   "source": [
    "x₊ = deepcopy(vec_x)\n",
    "x₋ = deepcopy(vec_x)\n",
    "x₊[6] += 0.01\n",
    "x₋[6] -= 0.01\n",
    "(neglogprior1(x₊) - neglogprior1(x₋))/0.02"
   ]
  },
  {
   "cell_type": "markdown",
   "id": "4332b139-0b60-42ad-a73b-c67898719325",
   "metadata": {},
   "source": [
    "#### Benchmarks"
   ]
  },
  {
   "cell_type": "code",
   "execution_count": 301,
   "id": "1cbce865-fd17-4d29-bcd2-2a5f1a715689",
   "metadata": {},
   "outputs": [
    {
     "data": {
      "text/plain": [
       "BenchmarkTools.Trial: 10000 samples with 1 evaluation.\n",
       " Range \u001b[90m(\u001b[39m\u001b[36m\u001b[1mmin\u001b[22m\u001b[39m … \u001b[35mmax\u001b[39m\u001b[90m):  \u001b[39m\u001b[36m\u001b[1m28.900 μs\u001b[22m\u001b[39m … \u001b[35m 3.198 ms\u001b[39m  \u001b[90m┊\u001b[39m GC \u001b[90m(\u001b[39mmin … max\u001b[90m): \u001b[39m0.00% … 97.92%\n",
       " Time  \u001b[90m(\u001b[39m\u001b[34m\u001b[1mmedian\u001b[22m\u001b[39m\u001b[90m):     \u001b[39m\u001b[34m\u001b[1m29.800 μs              \u001b[22m\u001b[39m\u001b[90m┊\u001b[39m GC \u001b[90m(\u001b[39mmedian\u001b[90m):    \u001b[39m0.00%\n",
       " Time  \u001b[90m(\u001b[39m\u001b[32m\u001b[1mmean\u001b[22m\u001b[39m ± \u001b[32mσ\u001b[39m\u001b[90m):   \u001b[39m\u001b[32m\u001b[1m32.918 μs\u001b[22m\u001b[39m ± \u001b[32m61.521 μs\u001b[39m  \u001b[90m┊\u001b[39m GC \u001b[90m(\u001b[39mmean ± σ\u001b[90m):  \u001b[39m3.68% ±  1.96%\n",
       "\n",
       "  \u001b[39m▄\u001b[39m▇\u001b[39m█\u001b[34m▇\u001b[39m\u001b[39m▄\u001b[39m▁\u001b[39m▁\u001b[39m▁\u001b[39m \u001b[39m \u001b[39m \u001b[39m▁\u001b[32m▁\u001b[39m\u001b[39m▁\u001b[39m▁\u001b[39m▁\u001b[39m▁\u001b[39m \u001b[39m \u001b[39m▁\u001b[39m▁\u001b[39m \u001b[39m▁\u001b[39m▂\u001b[39m▁\u001b[39m \u001b[39m▁\u001b[39m▂\u001b[39m▁\u001b[39m \u001b[39m \u001b[39m▁\u001b[39m▁\u001b[39m▁\u001b[39m \u001b[39m \u001b[39m \u001b[39m \u001b[39m \u001b[39m▁\u001b[39m \u001b[39m \u001b[39m \u001b[39m \u001b[39m \u001b[39m \u001b[39m \u001b[39m \u001b[39m \u001b[39m \u001b[39m \u001b[39m \u001b[39m \u001b[39m \u001b[39m \u001b[39m \u001b[39m \u001b[39m \u001b[39m \u001b[39m \u001b[39m▂\n",
       "  \u001b[39m█\u001b[39m█\u001b[39m█\u001b[34m█\u001b[39m\u001b[39m█\u001b[39m█\u001b[39m█\u001b[39m█\u001b[39m█\u001b[39m█\u001b[39m▇\u001b[39m█\u001b[32m█\u001b[39m\u001b[39m█\u001b[39m█\u001b[39m█\u001b[39m█\u001b[39m█\u001b[39m█\u001b[39m█\u001b[39m█\u001b[39m█\u001b[39m█\u001b[39m█\u001b[39m█\u001b[39m█\u001b[39m█\u001b[39m█\u001b[39m█\u001b[39m█\u001b[39m█\u001b[39m█\u001b[39m█\u001b[39m█\u001b[39m█\u001b[39m█\u001b[39m█\u001b[39m█\u001b[39m█\u001b[39m█\u001b[39m▇\u001b[39m▆\u001b[39m▇\u001b[39m█\u001b[39m▇\u001b[39m▅\u001b[39m▆\u001b[39m▇\u001b[39m▇\u001b[39m▆\u001b[39m▇\u001b[39m▇\u001b[39m▅\u001b[39m▆\u001b[39m▅\u001b[39m▆\u001b[39m▃\u001b[39m▅\u001b[39m▄\u001b[39m \u001b[39m█\n",
       "  28.9 μs\u001b[90m      \u001b[39m\u001b[90mHistogram: \u001b[39m\u001b[90m\u001b[1mlog(\u001b[22m\u001b[39m\u001b[90mfrequency\u001b[39m\u001b[90m\u001b[1m)\u001b[22m\u001b[39m\u001b[90m by time\u001b[39m      48.1 μs \u001b[0m\u001b[1m<\u001b[22m\n",
       "\n",
       " Memory estimate\u001b[90m: \u001b[39m\u001b[33m23.12 KiB\u001b[39m, allocs estimate\u001b[90m: \u001b[39m\u001b[33m225\u001b[39m."
      ]
     },
     "execution_count": 301,
     "metadata": {},
     "output_type": "execute_result"
    }
   ],
   "source": [
    "t_func = @benchmark neglogprior1(x₀)"
   ]
  },
  {
   "cell_type": "code",
   "execution_count": 302,
   "id": "761cc8f4-33db-490a-b54d-c62b244b199b",
   "metadata": {},
   "outputs": [
    {
     "data": {
      "text/plain": [
       "BenchmarkTools.Trial: 10000 samples with 1 evaluation.\n",
       " Range \u001b[90m(\u001b[39m\u001b[36m\u001b[1mmin\u001b[22m\u001b[39m … \u001b[35mmax\u001b[39m\u001b[90m):  \u001b[39m\u001b[36m\u001b[1m43.300 μs\u001b[22m\u001b[39m … \u001b[35m 2.470 ms\u001b[39m  \u001b[90m┊\u001b[39m GC \u001b[90m(\u001b[39mmin … max\u001b[90m): \u001b[39m0.00% … 95.65%\n",
       " Time  \u001b[90m(\u001b[39m\u001b[34m\u001b[1mmedian\u001b[22m\u001b[39m\u001b[90m):     \u001b[39m\u001b[34m\u001b[1m44.950 μs              \u001b[22m\u001b[39m\u001b[90m┊\u001b[39m GC \u001b[90m(\u001b[39mmedian\u001b[90m):    \u001b[39m0.00%\n",
       " Time  \u001b[90m(\u001b[39m\u001b[32m\u001b[1mmean\u001b[22m\u001b[39m ± \u001b[32mσ\u001b[39m\u001b[90m):   \u001b[39m\u001b[32m\u001b[1m50.924 μs\u001b[22m\u001b[39m ± \u001b[32m82.507 μs\u001b[39m  \u001b[90m┊\u001b[39m GC \u001b[90m(\u001b[39mmean ± σ\u001b[90m):  \u001b[39m5.65% ±  3.45%\n",
       "\n",
       "  \u001b[39m▇\u001b[34m█\u001b[39m\u001b[39m▄\u001b[39m▂\u001b[39m▂\u001b[32m \u001b[39m\u001b[39m \u001b[39m \u001b[39m \u001b[39m \u001b[39m \u001b[39m \u001b[39m \u001b[39m▁\u001b[39m▁\u001b[39m \u001b[39m▁\u001b[39m \u001b[39m▁\u001b[39m▁\u001b[39m \u001b[39m▁\u001b[39m▁\u001b[39m \u001b[39m \u001b[39m \u001b[39m \u001b[39m \u001b[39m \u001b[39m \u001b[39m \u001b[39m \u001b[39m \u001b[39m \u001b[39m \u001b[39m \u001b[39m \u001b[39m \u001b[39m \u001b[39m \u001b[39m \u001b[39m \u001b[39m \u001b[39m \u001b[39m \u001b[39m \u001b[39m \u001b[39m \u001b[39m \u001b[39m \u001b[39m \u001b[39m \u001b[39m \u001b[39m \u001b[39m \u001b[39m \u001b[39m \u001b[39m \u001b[39m \u001b[39m \u001b[39m▂\n",
       "  \u001b[39m█\u001b[34m█\u001b[39m\u001b[39m█\u001b[39m█\u001b[39m█\u001b[32m█\u001b[39m\u001b[39m▇\u001b[39m▆\u001b[39m▅\u001b[39m▄\u001b[39m▅\u001b[39m▅\u001b[39m▆\u001b[39m█\u001b[39m█\u001b[39m█\u001b[39m█\u001b[39m█\u001b[39m█\u001b[39m█\u001b[39m█\u001b[39m█\u001b[39m█\u001b[39m█\u001b[39m█\u001b[39m▇\u001b[39m▆\u001b[39m▆\u001b[39m▆\u001b[39m▅\u001b[39m▅\u001b[39m▅\u001b[39m▄\u001b[39m▄\u001b[39m▃\u001b[39m▆\u001b[39m▄\u001b[39m▄\u001b[39m▅\u001b[39m▅\u001b[39m▃\u001b[39m▃\u001b[39m▄\u001b[39m▃\u001b[39m▃\u001b[39m▅\u001b[39m▁\u001b[39m▁\u001b[39m▁\u001b[39m▄\u001b[39m▃\u001b[39m▃\u001b[39m▁\u001b[39m▃\u001b[39m▁\u001b[39m▃\u001b[39m▁\u001b[39m▃\u001b[39m▄\u001b[39m \u001b[39m█\n",
       "  43.3 μs\u001b[90m      \u001b[39m\u001b[90mHistogram: \u001b[39m\u001b[90m\u001b[1mlog(\u001b[22m\u001b[39m\u001b[90mfrequency\u001b[39m\u001b[90m\u001b[1m)\u001b[22m\u001b[39m\u001b[90m by time\u001b[39m       126 μs \u001b[0m\u001b[1m<\u001b[22m\n",
       "\n",
       " Memory estimate\u001b[90m: \u001b[39m\u001b[33m64.25 KiB\u001b[39m, allocs estimate\u001b[90m: \u001b[39m\u001b[33m320\u001b[39m."
      ]
     },
     "execution_count": 302,
     "metadata": {},
     "output_type": "execute_result"
    }
   ],
   "source": [
    "t_funcgrad = @benchmark withgradient(x->neglogprior1(x), x₀)"
   ]
  },
  {
   "cell_type": "code",
   "execution_count": 303,
   "id": "649875a3-fafe-4fd8-99d9-bce77ce61047",
   "metadata": {},
   "outputs": [
    {
     "data": {
      "text/plain": [
       "1.5083892617449663"
      ]
     },
     "execution_count": 303,
     "metadata": {},
     "output_type": "execute_result"
    }
   ],
   "source": [
    "median(t_funcgrad).time/median(t_func).time"
   ]
  },
  {
   "cell_type": "markdown",
   "id": "7eb169e2-9c3b-446b-9dac-79572533d1d2",
   "metadata": {
    "jp-MarkdownHeadingCollapsed": true
   },
   "source": [
    "## 2.4 - Neglogprior2\n",
    "\n",
    "$$-\\log{(\\mathcal{P}_2(K))} = \\sum_{j=1}^{2n_{bins}} \\left[ \\sum_{\\ell}\\sum_{i=1}^{n}(i-2-n-2q){\\mathrm{K}_{\\ell , ii}} \\right] $$"
   ]
  },
  {
   "cell_type": "code",
   "execution_count": 14,
   "id": "d994c851-5480-4472-8e3c-8651fb4879f3",
   "metadata": {},
   "outputs": [],
   "source": [
    "function neglogprior2(K::Vector{Matrix{Float64}})\n",
    "    c = 2 + (2*nbin) + (2*q)\n",
    "    logprior = 0.\n",
    "    for i in 2:2*nbin\n",
    "        cons = i-c\n",
    "        for l in 1:lmax+1\n",
    "            logprior += cons*K[l][i,i]\n",
    "        end\n",
    "    end\n",
    "    return logprior\n",
    "end\n",
    "\n",
    "@adjoint function neglogprior2(K::Vector{Matrix{Float64}})\n",
    "    y = neglogprior2(K)\n",
    "    function neglogprior2_pullback(ȳ)\n",
    "        c = 2 + (2*nbin) + (2*q)\n",
    "        single_K̄ = diagm([i-c for i in 1:2*nbin])\n",
    "        single_K̄[1,1] = 0.0\n",
    "        K̄ = [single_K̄ for i in 1:lmax+1]\n",
    "        return (K̄,)\n",
    "    end\n",
    "    return y, neglogprior2_pullback\n",
    "end"
   ]
  },
  {
   "cell_type": "code",
   "execution_count": 237,
   "id": "6da9feb4-4442-428f-ac57-21f1fa3f6ffc",
   "metadata": {},
   "outputs": [
    {
     "data": {
      "text/plain": [
       "(val = -6.303722096016132, grad = ([[0.0 0.0; 0.0 -2.0], [0.0 0.0; 0.0 -2.0], [0.0 0.0; 0.0 -2.0], [0.0 0.0; 0.0 -2.0], [0.0 0.0; 0.0 -2.0], [0.0 0.0; 0.0 -2.0], [0.0 0.0; 0.0 -2.0], [0.0 0.0; 0.0 -2.0], [0.0 0.0; 0.0 -2.0], [0.0 0.0; 0.0 -2.0]  …  [0.0 0.0; 0.0 -2.0], [0.0 0.0; 0.0 -2.0], [0.0 0.0; 0.0 -2.0], [0.0 0.0; 0.0 -2.0], [0.0 0.0; 0.0 -2.0], [0.0 0.0; 0.0 -2.0], [0.0 0.0; 0.0 -2.0], [0.0 0.0; 0.0 -2.0], [0.0 0.0; 0.0 -2.0], [0.0 0.0; 0.0 -2.0]],))"
      ]
     },
     "execution_count": 237,
     "metadata": {},
     "output_type": "execute_result"
    }
   ],
   "source": [
    "𝒫₂, d𝒫₂ = withgradient(K->neglogprior2(K), K₀)"
   ]
  },
  {
   "cell_type": "code",
   "execution_count": 238,
   "id": "042b9b15-757f-4383-aade-f2ab329b6c28",
   "metadata": {},
   "outputs": [
    {
     "data": {
      "text/plain": [
       "2×2 Matrix{Float64}:\n",
       " 0.0   0.0\n",
       " 0.0  -2.0"
      ]
     },
     "execution_count": 238,
     "metadata": {},
     "output_type": "execute_result"
    }
   ],
   "source": [
    "d𝒫₂[1][6]"
   ]
  },
  {
   "cell_type": "code",
   "execution_count": 239,
   "id": "f219aa08-ddd2-4f90-9464-da322542a566",
   "metadata": {},
   "outputs": [
    {
     "data": {
      "text/plain": [
       "0.0"
      ]
     },
     "execution_count": 239,
     "metadata": {},
     "output_type": "execute_result"
    }
   ],
   "source": [
    "L₊ = deepcopy(L₀)\n",
    "L₋ = deepcopy(L₀)\n",
    "L₊[6][1,2] += 0.01\n",
    "L₋[6][1,2] -= 0.01\n",
    "(neglogprior2(L₊) - neglogprior2(L₋))/0.02"
   ]
  },
  {
   "cell_type": "code",
   "execution_count": 240,
   "id": "ce57455a-cda9-4ec1-a324-e331b5e98599",
   "metadata": {},
   "outputs": [
    {
     "data": {
      "text/plain": [
       "2×2 Matrix{Float64}:\n",
       " 0.0   0.0\n",
       " 0.0  -2.0"
      ]
     },
     "execution_count": 240,
     "metadata": {},
     "output_type": "execute_result"
    }
   ],
   "source": [
    "d𝒫₂[1][4]"
   ]
  },
  {
   "cell_type": "code",
   "execution_count": 241,
   "id": "4690ce70-a660-4607-9fae-e40a1ece5069",
   "metadata": {},
   "outputs": [
    {
     "data": {
      "text/plain": [
       "-2.000000000001023"
      ]
     },
     "execution_count": 241,
     "metadata": {},
     "output_type": "execute_result"
    }
   ],
   "source": [
    "L₊ = deepcopy(L₀)\n",
    "L₋ = deepcopy(L₀)\n",
    "L₊[4][2,2] += 0.01\n",
    "L₋[4][2,2] -= 0.01\n",
    "(neglogprior2(L₊) - neglogprior2(L₋))/0.02"
   ]
  },
  {
   "cell_type": "markdown",
   "id": "c7256cc8-9bf8-4f5e-8750-c778c4db5ef5",
   "metadata": {},
   "source": [
    "#### Benchmark"
   ]
  },
  {
   "cell_type": "code",
   "execution_count": 15,
   "id": "28a63c6e-8511-49d6-9990-4ec79127aa58",
   "metadata": {},
   "outputs": [
    {
     "data": {
      "text/plain": [
       "BenchmarkTools.Trial: 3434 samples with 1 evaluation.\n",
       " Range \u001b[90m(\u001b[39m\u001b[36m\u001b[1mmin\u001b[22m\u001b[39m … \u001b[35mmax\u001b[39m\u001b[90m):  \u001b[39m\u001b[36m\u001b[1m316.800 μs\u001b[22m\u001b[39m … \u001b[35m247.055 ms\u001b[39m  \u001b[90m┊\u001b[39m GC \u001b[90m(\u001b[39mmin … max\u001b[90m): \u001b[39m 0.00% … 99.72%\n",
       " Time  \u001b[90m(\u001b[39m\u001b[34m\u001b[1mmedian\u001b[22m\u001b[39m\u001b[90m):     \u001b[39m\u001b[34m\u001b[1m393.900 μs               \u001b[22m\u001b[39m\u001b[90m┊\u001b[39m GC \u001b[90m(\u001b[39mmedian\u001b[90m):    \u001b[39m 0.00%\n",
       " Time  \u001b[90m(\u001b[39m\u001b[32m\u001b[1mmean\u001b[22m\u001b[39m ± \u001b[32mσ\u001b[39m\u001b[90m):   \u001b[39m\u001b[32m\u001b[1m  1.475 ms\u001b[22m\u001b[39m ± \u001b[32m 15.463 ms\u001b[39m  \u001b[90m┊\u001b[39m GC \u001b[90m(\u001b[39mmean ± σ\u001b[90m):  \u001b[39m71.67% ±  6.80%\n",
       "\n",
       "  \u001b[39m▃\u001b[39m \u001b[39m \u001b[39m \u001b[39m \u001b[39m \u001b[39m█\u001b[34m▅\u001b[39m\u001b[39m▆\u001b[39m▅\u001b[39m▃\u001b[39m▂\u001b[39m▁\u001b[39m \u001b[39m \u001b[39m \u001b[39m \u001b[39m \u001b[39m \u001b[39m \u001b[39m \u001b[39m \u001b[39m \u001b[39m \u001b[39m \u001b[39m \u001b[39m \u001b[39m \u001b[39m \u001b[39m \u001b[39m \u001b[39m \u001b[39m \u001b[39m \u001b[39m \u001b[39m \u001b[39m \u001b[39m \u001b[39m \u001b[39m \u001b[39m \u001b[39m \u001b[39m \u001b[39m \u001b[39m \u001b[39m \u001b[39m \u001b[39m \u001b[39m \u001b[39m \u001b[39m \u001b[39m \u001b[39m \u001b[39m \u001b[39m \u001b[39m \u001b[39m \u001b[39m \u001b[39m \u001b[39m \u001b[39m \u001b[39m \u001b[39m▁\n",
       "  \u001b[39m█\u001b[39m█\u001b[39m▅\u001b[39m▅\u001b[39m▁\u001b[39m▅\u001b[39m█\u001b[34m█\u001b[39m\u001b[39m█\u001b[39m█\u001b[39m█\u001b[39m█\u001b[39m█\u001b[39m█\u001b[39m▆\u001b[39m▇\u001b[39m▄\u001b[39m▅\u001b[39m▃\u001b[39m▅\u001b[39m▁\u001b[39m▄\u001b[39m▄\u001b[39m▄\u001b[39m▃\u001b[39m▅\u001b[39m▄\u001b[39m▄\u001b[39m▄\u001b[39m▃\u001b[39m▄\u001b[39m▁\u001b[39m▃\u001b[39m▄\u001b[39m▄\u001b[39m▅\u001b[39m▆\u001b[39m▅\u001b[39m▇\u001b[39m█\u001b[39m█\u001b[39m▇\u001b[39m▅\u001b[39m▁\u001b[39m▃\u001b[39m▃\u001b[39m▃\u001b[39m▅\u001b[39m▄\u001b[39m▁\u001b[39m▁\u001b[39m▃\u001b[39m▄\u001b[39m▁\u001b[39m▁\u001b[39m▃\u001b[39m▁\u001b[39m▁\u001b[39m▄\u001b[39m▄\u001b[39m▃\u001b[39m \u001b[39m█\n",
       "  317 μs\u001b[90m        \u001b[39m\u001b[90mHistogram: \u001b[39m\u001b[90m\u001b[1mlog(\u001b[22m\u001b[39m\u001b[90mfrequency\u001b[39m\u001b[90m\u001b[1m)\u001b[22m\u001b[39m\u001b[90m by time\u001b[39m          1 ms \u001b[0m\u001b[1m<\u001b[22m\n",
       "\n",
       " Memory estimate\u001b[90m: \u001b[39m\u001b[33m208.14 KiB\u001b[39m, allocs estimate\u001b[90m: \u001b[39m\u001b[33m11270\u001b[39m."
      ]
     },
     "execution_count": 15,
     "metadata": {},
     "output_type": "execute_result"
    }
   ],
   "source": [
    "t_func = @benchmark neglogprior2(K₀)"
   ]
  },
  {
   "cell_type": "code",
   "execution_count": 16,
   "id": "ee14ce46-6154-43cb-906e-d1bc61342f68",
   "metadata": {},
   "outputs": [
    {
     "data": {
      "text/plain": [
       "BenchmarkTools.Trial: 1635 samples with 1 evaluation.\n",
       " Range \u001b[90m(\u001b[39m\u001b[36m\u001b[1mmin\u001b[22m\u001b[39m … \u001b[35mmax\u001b[39m\u001b[90m):  \u001b[39m\u001b[36m\u001b[1m420.800 μs\u001b[22m\u001b[39m … \u001b[35m286.276 ms\u001b[39m  \u001b[90m┊\u001b[39m GC \u001b[90m(\u001b[39mmin … max\u001b[90m): \u001b[39m 0.00% … 99.72%\n",
       " Time  \u001b[90m(\u001b[39m\u001b[34m\u001b[1mmedian\u001b[22m\u001b[39m\u001b[90m):     \u001b[39m\u001b[34m\u001b[1m601.500 μs               \u001b[22m\u001b[39m\u001b[90m┊\u001b[39m GC \u001b[90m(\u001b[39mmedian\u001b[90m):    \u001b[39m 0.00%\n",
       " Time  \u001b[90m(\u001b[39m\u001b[32m\u001b[1mmean\u001b[22m\u001b[39m ± \u001b[32mσ\u001b[39m\u001b[90m):   \u001b[39m\u001b[32m\u001b[1m  3.178 ms\u001b[22m\u001b[39m ± \u001b[32m 24.686 ms\u001b[39m  \u001b[90m┊\u001b[39m GC \u001b[90m(\u001b[39mmean ± σ\u001b[90m):  \u001b[39m79.19% ± 10.12%\n",
       "\n",
       "  \u001b[34m█\u001b[39m\u001b[32m \u001b[39m\u001b[39m \u001b[39m \u001b[39m \u001b[39m \u001b[39m \u001b[39m \u001b[39m \u001b[39m \u001b[39m \u001b[39m \u001b[39m \u001b[39m \u001b[39m \u001b[39m \u001b[39m \u001b[39m \u001b[39m \u001b[39m \u001b[39m \u001b[39m \u001b[39m \u001b[39m \u001b[39m \u001b[39m \u001b[39m \u001b[39m \u001b[39m \u001b[39m \u001b[39m \u001b[39m \u001b[39m \u001b[39m \u001b[39m \u001b[39m \u001b[39m \u001b[39m \u001b[39m \u001b[39m \u001b[39m \u001b[39m \u001b[39m \u001b[39m \u001b[39m \u001b[39m \u001b[39m \u001b[39m \u001b[39m \u001b[39m \u001b[39m \u001b[39m \u001b[39m \u001b[39m \u001b[39m \u001b[39m \u001b[39m \u001b[39m \u001b[39m \u001b[39m \u001b[39m \u001b[39m \u001b[39m \n",
       "  \u001b[34m█\u001b[39m\u001b[32m▁\u001b[39m\u001b[39m▁\u001b[39m▁\u001b[39m▁\u001b[39m▁\u001b[39m▁\u001b[39m▁\u001b[39m▁\u001b[39m▁\u001b[39m▁\u001b[39m▁\u001b[39m▁\u001b[39m▁\u001b[39m▁\u001b[39m▁\u001b[39m▁\u001b[39m▁\u001b[39m▁\u001b[39m▁\u001b[39m▁\u001b[39m▁\u001b[39m▁\u001b[39m▁\u001b[39m▁\u001b[39m▁\u001b[39m▁\u001b[39m▁\u001b[39m▁\u001b[39m▁\u001b[39m▁\u001b[39m▁\u001b[39m▁\u001b[39m▁\u001b[39m▁\u001b[39m▁\u001b[39m▁\u001b[39m▁\u001b[39m▁\u001b[39m▁\u001b[39m▁\u001b[39m▁\u001b[39m▁\u001b[39m▁\u001b[39m▁\u001b[39m▁\u001b[39m▁\u001b[39m▁\u001b[39m▁\u001b[39m▁\u001b[39m▁\u001b[39m▁\u001b[39m▁\u001b[39m▁\u001b[39m▁\u001b[39m▁\u001b[39m▁\u001b[39m▁\u001b[39m▁\u001b[39m▁\u001b[39m▂\u001b[39m \u001b[39m▂\n",
       "  421 μs\u001b[90m           Histogram: frequency by time\u001b[39m          215 ms \u001b[0m\u001b[1m<\u001b[22m\n",
       "\n",
       " Memory estimate\u001b[90m: \u001b[39m\u001b[33m465.17 KiB\u001b[39m, allocs estimate\u001b[90m: \u001b[39m\u001b[33m13350\u001b[39m."
      ]
     },
     "execution_count": 16,
     "metadata": {},
     "output_type": "execute_result"
    }
   ],
   "source": [
    "t_funcgrad = @benchmark withgradient(K->neglogprior2(K), K₀)"
   ]
  },
  {
   "cell_type": "code",
   "execution_count": 17,
   "id": "e051e569-b8af-4a5a-932d-80b62435c2f7",
   "metadata": {},
   "outputs": [
    {
     "data": {
      "text/plain": [
       "1.527037319116527"
      ]
     },
     "execution_count": 17,
     "metadata": {},
     "output_type": "execute_result"
    }
   ],
   "source": [
    "median(t_funcgrad).time/median(t_func).time"
   ]
  },
  {
   "cell_type": "code",
   "execution_count": null,
   "id": "5b0dee8f-294a-47c7-995a-4b068136f3d9",
   "metadata": {},
   "outputs": [],
   "source": []
  }
 ],
 "metadata": {
  "kernelspec": {
   "display_name": "Julia 1.10.0",
   "language": "julia",
   "name": "julia-1.10"
  },
  "language_info": {
   "file_extension": ".jl",
   "mimetype": "application/julia",
   "name": "julia",
   "version": "1.10.0"
  }
 },
 "nbformat": 4,
 "nbformat_minor": 5
}
