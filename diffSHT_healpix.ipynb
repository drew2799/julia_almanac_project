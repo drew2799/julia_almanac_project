{
 "cells": [
  {
   "cell_type": "code",
   "execution_count": 1,
   "id": "45add829-cac1-4711-9e10-b2f0baf5c25e",
   "metadata": {},
   "outputs": [],
   "source": [
    "using Zygote: @adjoint\n",
    "using Zygote\n",
    "using ChainRules.ChainRulesCore\n",
    "using Healpix\n",
    "using BenchmarkTools"
   ]
  },
  {
   "cell_type": "markdown",
   "id": "63dd61de-d17b-4ee0-8f6d-fad37438a50b",
   "metadata": {},
   "source": [
    "# adjoint_alm2map/map2alm"
   ]
  },
  {
   "cell_type": "code",
   "execution_count": 2,
   "id": "aa502259-db29-4799-8173-6c1ca6f79664",
   "metadata": {},
   "outputs": [
    {
     "data": {
      "text/plain": [
       "adjoint_alm2map (generic function with 5 methods)"
      ]
     },
     "execution_count": 2,
     "metadata": {},
     "output_type": "execute_result"
    }
   ],
   "source": [
    "function adjoint_alm2map(v::Vector{Float64}; lmax=nothing, mmax=nothing)\n",
    "    map = HealpixMap{Float64,RingOrder}(v)\n",
    "    nside = map.resolution.nside\n",
    "    lmax = isnothing(lmax) ? 3 * nside - 1 : lmax\n",
    "    mmax = isnothing(mmax) ? lmax : mmax\n",
    "    nalms = numberOfAlms(lmax, mmax)\n",
    "    alm = Alm(lmax, mmax, zeros(ComplexF64, nalms))\n",
    "    adjoint_alm2map!(map, alm)\n",
    "    return alm\n",
    "end\n",
    "\n",
    "function adjoint_alm2map(map::HealpixMap{Float64,RingOrder,Array{Float64,1}}; lmax=nothing, mmax=nothing)\n",
    "    nside = map.resolution.nside\n",
    "    lmax = isnothing(lmax) ? 3 * nside - 1 : lmax\n",
    "    mmax = isnothing(mmax) ? lmax : mmax\n",
    "    nalms = numberOfAlms(lmax, mmax)\n",
    "    alm = Alm(lmax, mmax, zeros(ComplexF64, nalms))\n",
    "    adjoint_alm2map!(map, alm)\n",
    "    return alm\n",
    "end\n",
    "\n",
    "function adjoint_alm2map(map::PolarizedHealpixMap{Float64,RingOrder,Array{Float64,1}}; lmax=nothing, mmax=nothing)\n",
    "    nside = map.i.resolution.nside\n",
    "    lmax = isnothing(lmax) ? 3 * nside - 1 : lmax\n",
    "    mmax = isnothing(mmax) ? lmax : mmax\n",
    "    nalms = numberOfAlms(lmax, mmax)\n",
    "    alms = [ Alm(lmax, mmax, zeros(ComplexF64, nalms)),\n",
    "        Alm(lmax, mmax, zeros(ComplexF64, nalms)),\n",
    "        Alm(lmax, mmax, zeros(ComplexF64, nalms)) ]\n",
    "    adjoint_alm2map!(map, alms)\n",
    "    return alms\n",
    "end\n",
    "\n",
    "function adjoint_alm2map(map::HealpixMap{T,RingOrder,AA}; lmax=nothing, mmax=nothing) where {T <: Real, AA <: AbstractArray{T,1}}\n",
    "    map_float = HealpixMap{Float64,RingOrder}(convert(Array{Float64,1}, map.pixels))\n",
    "    return adjoint_alm2map(map_float, lmax=lmax, mmax=mmax)\n",
    "end\n",
    "\n",
    "function adjoint_alm2map(map::PolarizedHealpixMap{T,RingOrder,AA}; lmax=nothing, mmax=nothing) where {T <: Real, AA <: AbstractArray{T,1}}\n",
    "    m_i = convert(Array{Float64,1}, map.i)\n",
    "    m_q = convert(Array{Float64,1}, map.q)\n",
    "    m_u = convert(Array{Float64,1}, map.u)\n",
    "    pol_map_float = PolarizedHealpixMap{Float64,RingOrder}(m_i, m_q, m_u)\n",
    "    return adjoint_alm2map(pol_map_float, lamx=lmax, mmax=mmax)\n",
    "end"
   ]
  },
  {
   "cell_type": "code",
   "execution_count": 3,
   "id": "473aee59-c437-4fb3-b154-909199c2e3a5",
   "metadata": {},
   "outputs": [
    {
     "data": {
      "text/plain": [
       "adjoint_map2alm (generic function with 4 methods)"
      ]
     },
     "execution_count": 3,
     "metadata": {},
     "output_type": "execute_result"
    }
   ],
   "source": [
    "function adjoint_map2alm(alm::Alm{ComplexF64, Array{ComplexF64, 1}}, nside::Integer)\n",
    "    npix = nside2npix(nside)\n",
    "    map = HealpixMap{Float64,RingOrder}(zeros(Float64, npix))\n",
    "    adjoint_map2alm!(alm, map)\n",
    "    return map\n",
    "end\n",
    "\n",
    "function adjoint_map2alm(alm::Array{Alm{ComplexF64,Array{ComplexF64,1}},1}, nside::Integer)\n",
    "    npix = nside2npix(nside)\n",
    "    map = PolarizedHealpixMap{Float64,RingOrder}(\n",
    "        zeros(Float64, npix),\n",
    "        zeros(Float64, npix),\n",
    "        zeros(Float64, npix),\n",
    "    )\n",
    "    adjoint_alm2map!(alm, map)\n",
    "    return map\n",
    "end\n",
    "\n",
    "function adjoint_map2alm(alm::Alm{T}, nside::Integer) where {T}\n",
    "    alm_float = Alm{ComplexF64,Array{ComplexF64,1}}(\n",
    "        alm.lmax,\n",
    "        alm.mmax,\n",
    "        convert(Array{ComplexF64,1}, alm.alm),\n",
    "    )\n",
    "    return adjoint_map2alm(alm_float, nside)\n",
    "end\n",
    "\n",
    "function adjoint_map2alm(alms::Array{Alm{Complex{T},Array{Complex{T},1}},1}, nside::Integer) where {T <: Real}\n",
    "    lmax = alms[1].lmax\n",
    "    mmax = alms[1].mmax\n",
    "    alm_t = Alm(lmax, mmax, convert(Array{ComplexF64,1}, alms[1].alm))\n",
    "    alm_e = Alm(lmax, mmax, convert(Array{ComplexF64,1}, alms[2].alm))\n",
    "    alm_b = Alm(lmax, mmax, convert(Array{ComplexF64,1}, alms[3].alm))\n",
    "    return adjoint_map2alm([alm_t, alm_e, alm_b], nside)\n",
    "end"
   ]
  },
  {
   "cell_type": "markdown",
   "id": "326ad59f-fb74-4293-aba7-f6fc5564198e",
   "metadata": {},
   "source": [
    "# ChainRulesCore.rrule for alm2map and map2alm"
   ]
  },
  {
   "cell_type": "code",
   "execution_count": 12,
   "id": "65581192-9e46-4c1a-aeee-cabcd8b68396",
   "metadata": {},
   "outputs": [],
   "source": [
    "function ChainRulesCore.rrule(::typeof(alm2map), alm, nside::Integer)\n",
    "    p = alm2map(alm, nside)\n",
    "    project_alm = ChainRulesCore.ProjectTo(alm)\n",
    "    function alm2map_pullback(p̄)\n",
    "        a = alm_scalar_prod(2., adjoint_alm2map(ChainRulesCore.unthunk(p̄), lmax=alm.lmax, mmax=alm.mmax))\n",
    "        for i in 1:(alm.lmax+1)\n",
    "            a.alm[i] /= 2.\n",
    "        end\n",
    "        ā = @thunk(project_alm(a))\n",
    "        return ChainRulesCore.NoTangent(), ā, ChainRulesCore.NoTangent()\n",
    "    end\n",
    "    return p, alm2map_pullback\n",
    "end"
   ]
  },
  {
   "cell_type": "code",
   "execution_count": 5,
   "id": "18df8ddd-6901-4810-bef1-c5b420e5103c",
   "metadata": {},
   "outputs": [],
   "source": [
    "function ChainRulesCore.rrule(::typeof(map2alm), map)\n",
    "    nside = map.resolution.nside\n",
    "    a = map2alm(map)\n",
    "    project_map = ChainRulesCore.ProjectTo(map)\n",
    "    function map2alm_pullback(ā)\n",
    "        p̄ = @thunk( conj(adjoint_map2alm(conj(ā), nside)) )\n",
    "        return ChainRulesCore.NoTangent(), project_map(p̄), ChainRulesCore.NoTangent()\n",
    "    end\n",
    "    return a, map2alm_pullback\n",
    "end"
   ]
  },
  {
   "cell_type": "code",
   "execution_count": null,
   "id": "af0693c7-4b63-4266-87f9-d1ff59545dee",
   "metadata": {},
   "outputs": [],
   "source": []
  },
  {
   "cell_type": "markdown",
   "id": "0a86952e-be0d-40b8-bab1-94364e125060",
   "metadata": {},
   "source": [
    "# Other functions: "
   ]
  },
  {
   "cell_type": "code",
   "execution_count": 6,
   "id": "1d52d09f-1178-4754-a84e-5534b4b9c8c0",
   "metadata": {},
   "outputs": [],
   "source": [
    "## Posso anche scriverla come CahinRulesCore.rrule() ?\n",
    "@adjoint function Alm{T,AA}(lmax, mmax, arr::AA) where {T <: Number,AA <: AbstractArray{T,1}}\n",
    "    #(numberOfAlms(lmax, mmax) == length(arr)) || throw(DomainError())\n",
    "    y = Alm{T,AA}(lmax, mmax, arr::AA)\n",
    "    function Alm_pullback(ȳ)\n",
    "        return (nothing, nothing, ȳ.alm)\n",
    "    end\n",
    "    return y, Alm_pullback\n",
    "end"
   ]
  },
  {
   "cell_type": "code",
   "execution_count": 2,
   "id": "603c5a61-9537-40f7-b445-0672f0189de4",
   "metadata": {},
   "outputs": [],
   "source": [
    "@adjoint function HealpixMap{Float64,RingOrder,Array{Float64,1}}(pix::Vector{Float64})\n",
    "    y = HealpixMap{Float64,RingOrder,Array{Float64,1}}(pix)\n",
    "    function HealpixMap_pullback(ȳ)\n",
    "        return (ȳ.pixels,)\n",
    "    end\n",
    "    return y, HealpixMap_pullback\n",
    "end"
   ]
  },
  {
   "cell_type": "code",
   "execution_count": 5,
   "id": "72d71694-350a-40eb-b5cc-c02a3734afe6",
   "metadata": {},
   "outputs": [],
   "source": [
    "function constructor_VecHealpixMap(pixs::Matrix{Float64})\n",
    "    y = HealpixMap{Float64,RingOrder,Array{Float64,1}}.([pixs[:,i] for i in 1:size(pixs)[2]])\n",
    "    return y\n",
    "end\n",
    "\n",
    "@adjoint function constructor_VecHealpixMap(pixs::Matrix{Float64})\n",
    "    y = constructor_VecHealpixMap(pixs)\n",
    "    function VecHealpixMap_pullback(ȳ)\n",
    "        x̄ = Matrix{Float64}(undef, size(pixs))\n",
    "        for i in 1:size(x̄)[2]\n",
    "            x̄[:,i] = ȳ[i]\n",
    "        end\n",
    "        return x̄\n",
    "    end\n",
    "    return y, VecHealpixMap_pullback\n",
    "end"
   ]
  },
  {
   "cell_type": "markdown",
   "id": "2a730946-42f1-4d3b-bdf5-252f4c0c8d83",
   "metadata": {},
   "source": [
    "function ChainRulesCore.rrule(::typeof(+), alm₁::Alm{Complex{T}}, alm₂::Alm{Complex{T}}) where {T <: Number}\n",
    "    y = alm₁ + alm₂\n",
    "    function alm_sum_pullback(ȳ)\n",
    "        ā₁ = @thunk(ȳ.alm)\n",
    "        ā₂ = @thunk(ȳ.alm)\n",
    "        return ChainRulesCore.NoTangent(), ā₁, ā₂\n",
    "    end\n",
    "    return y, alm_sum_pullback\n",
    "end"
   ]
  },
  {
   "cell_type": "code",
   "execution_count": 13,
   "id": "7a79146d-3264-4a1b-a812-336336058398",
   "metadata": {},
   "outputs": [],
   "source": [
    "function ChainRulesCore.rrule(::typeof(sum), map::HealpixMap{T,O,AA}) where{T, O <:Order, AA<:AbstractArray{T,1}}\n",
    "    y = sum(map)\n",
    "    function sum_pullback(ȳ)\n",
    "        x̄ = @thunk( HealpixMap{T,O,AA}(fill!(similar(map.pixels), ȳ) ))\n",
    "        return ChainRulesCore.NoTangent(), x̄\n",
    "    end\n",
    "    return y, sum_pullback\n",
    "end\n",
    "\n",
    "@adjoint function Base.sum(map::HealpixMap{T,O,AA}) where{T, O <:Order, AA<:AbstractArray{T,1}}\n",
    "    y = sum(map)\n",
    "    function sum_pullback(ȳ)\n",
    "        return (HealpixMap{T,O,AA}(fill!(similar(map.pixels), ȳ)), )\n",
    "    end\n",
    "    return y, sum_pullback\n",
    "end"
   ]
  },
  {
   "cell_type": "code",
   "execution_count": 14,
   "id": "895360a9-1b30-4499-afbd-00072d9c6ec2",
   "metadata": {},
   "outputs": [],
   "source": [
    "function Base.sum(alm::Alm{ComplexF64, Array{ComplexF64, 1}})\n",
    "    return sum(alm.alm)\n",
    "end\n",
    "\n",
    "function ChainRulesCore.rrule(::typeof(sum), alm::Alm{ComplexF64, Array{ComplexF64, 1}})\n",
    "    y = sum(alm)\n",
    "    function sum_pullback(ȳ)\n",
    "        x̄ = @thunk( Alm(alm.lmax, alm.mmax, fill!(similar(alm.alm), ȳ)) )\n",
    "        return ChainRulesCore.NoTangent(), x̄\n",
    "    end\n",
    "    return y, sum_pullback\n",
    "end\n",
    "    \n",
    "@adjoint function Base.sum(alm::Alm{ComplexF64, Array{ComplexF64, 1}})\n",
    "    y = sum(alm)\n",
    "    function sum_pullback(ȳ)\n",
    "        return ( Alm(alm.lmax, alm.mmax, fill!(similar(alm.alm), ȳ)), )\n",
    "    end\n",
    "    return y, sum_pullback\n",
    "end"
   ]
  },
  {
   "cell_type": "code",
   "execution_count": 17,
   "id": "7d1a920c-76db-4f09-83fc-6b004ca61bfb",
   "metadata": {},
   "outputs": [],
   "source": [
    "function alm_prod(alm1::Alm{ComplexF64, Vector{ComplexF64}}, alm2::Alm{ComplexF64, Vector{ComplexF64}})\n",
    "    y = conj(alm1) * alm2\n",
    "    return y\n",
    "end\n",
    "\n",
    "@adjoint function alm_prod(alm1::Alm{ComplexF64, Vector{ComplexF64}}, alm2::Alm{ComplexF64, Vector{ComplexF64}})\n",
    "    y = alm_prod(alm1, alm2)\n",
    "    function prod_pullback(ȳ)\n",
    "        x̄1 = conj(ȳ)*alm2\n",
    "        x̄2 = alm1*ȳ\n",
    "        return (x̄1, x̄2)\n",
    "    end\n",
    "    return y, prod_pullback\n",
    "end"
   ]
  },
  {
   "cell_type": "code",
   "execution_count": 18,
   "id": "359f6a3a-82f6-4f0b-a12c-8c89666015ac",
   "metadata": {},
   "outputs": [],
   "source": [
    "function Base.conj(alm::Alm{ComplexF64, Array{ComplexF64, 1}})\n",
    "    return Alm(alm.lmax, alm.mmax, conj(alm.alm))\n",
    "end\n",
    "\n",
    "@adjoint function Base.conj(alm::Alm{ComplexF64, Array{ComplexF64, 1}})\n",
    "    y = conj(alm)\n",
    "    function conj_pullback(ȳ)\n",
    "       # return (Alm(alm.lmax, alm.mmax, conj(ȳ.alm)), )\n",
    "        return (conj(ȳ), )\n",
    "        #return (Alm(nothing, nothing, conj(ȳ.alm)), )\n",
    "    end\n",
    "    return y, conj_pullback\n",
    "end      "
   ]
  },
  {
   "cell_type": "markdown",
   "id": "08af0dd6-6cd3-4058-bd24-fbbee4b6a213",
   "metadata": {},
   "source": [
    "function Base.length(alm::Alm{ComplexF64, Array{ComplexF64, 1}})\n",
    "    return length(alm.alm)\n",
    "end\n",
    "function Base.iterate(alm::Alm{ComplexF64, Array{ComplexF64, 1}}, i::Int64)\n",
    "    return iterate(alm.alm, i)\n",
    "end"
   ]
  },
  {
   "cell_type": "code",
   "execution_count": 10,
   "id": "84bee7ff-28e1-4f1a-86e3-66c718349ec4",
   "metadata": {},
   "outputs": [
    {
     "data": {
      "text/plain": [
       "alm_scalar_prod (generic function with 1 method)"
      ]
     },
     "execution_count": 10,
     "metadata": {},
     "output_type": "execute_result"
    }
   ],
   "source": [
    "function alm_scalar_prod(l::Float64, alm::Alm{ComplexF64, Vector{ComplexF64}})\n",
    "    return Alm(alm.lmax, alm.mmax, l * alm.alm)\n",
    "end"
   ]
  },
  {
   "cell_type": "code",
   "execution_count": null,
   "id": "c1154656-0a3f-41ad-87bd-577995066277",
   "metadata": {},
   "outputs": [],
   "source": []
  }
 ],
 "metadata": {
  "kernelspec": {
   "display_name": "Julia 1.10.0",
   "language": "julia",
   "name": "julia-1.10"
  },
  "language_info": {
   "file_extension": ".jl",
   "mimetype": "application/julia",
   "name": "julia",
   "version": "1.10.0"
  }
 },
 "nbformat": 4,
 "nbformat_minor": 5
}
