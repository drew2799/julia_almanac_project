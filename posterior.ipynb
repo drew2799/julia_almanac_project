{
 "cells": [
  {
   "cell_type": "code",
   "execution_count": 1,
   "id": "9bc03eaf-7e0c-4d5c-9139-64d17cac3e35",
   "metadata": {},
   "outputs": [],
   "source": [
    "using NBInclude\n",
    "@nbinclude(\"diffSHT_healpix.ipynb\")\n",
    "@nbinclude(\"utilities.ipynb\")"
   ]
  },
  {
   "cell_type": "code",
   "execution_count": 3,
   "id": "e5b69962-24df-4499-b3a0-5adcb26cd6f9",
   "metadata": {},
   "outputs": [
    {
     "name": "stderr",
     "output_type": "stream",
     "text": [
      "\u001b[33m\u001b[1m┌ \u001b[22m\u001b[39m\u001b[33m\u001b[1mWarning: \u001b[22m\u001b[39mYou have Turing 0.29.3 but MuseInference requires a version sem-ver compatible with 0.28. \n",
      "\u001b[33m\u001b[1m│ \u001b[22m\u001b[39mInstall a compatible version and restart Julia if you wish to use the MuseInference interface to Turing.\n",
      "\u001b[33m\u001b[1m└ \u001b[22m\u001b[39m\u001b[90m@ MuseInference C:\\Users\\andre\\.julia\\packages\\MuseInference\\jjAab\\src\\MuseInference.jl:44\u001b[39m\n"
     ]
    }
   ],
   "source": [
    "using Turing\n",
    "using Distributions\n",
    "using Plots\n",
    "using LinearAlgebra\n",
    "using Random\n",
    "using AdvancedHMC\n",
    "using LogDensityProblems\n",
    "using LogDensityProblemsAD\n",
    "using ProgressMeter\n",
    "using Base.Threads\n",
    "using MicroCanonicalHMC\n",
    "using MuseInference\n",
    "using LaTeXStrings\n",
    "using AbstractDifferentiation"
   ]
  },
  {
   "cell_type": "markdown",
   "id": "fe064104-113a-4dc4-ac01-93587321fee3",
   "metadata": {
    "jp-MarkdownHeadingCollapsed": true
   },
   "source": [
    "## Generate fictional data"
   ]
  },
  {
   "cell_type": "code",
   "execution_count": 4,
   "id": "2fe1ef5a-f250-44d1-82b2-60f68255a556",
   "metadata": {},
   "outputs": [
    {
     "data": {
      "text/plain": [
       "Chol_data_generator (generic function with 2 methods)"
      ]
     },
     "execution_count": 4,
     "metadata": {},
     "output_type": "execute_result"
    }
   ],
   "source": [
    "@model function Chol_data_generator(l_max, n_tomo)\n",
    "    L = Vector{Matrix{Float64}}(undef, l_max+1)# a vector of l_max+1 matrices, each of them will 2n_tomo x 2n_tomo elements\n",
    "    x = Vector{Matrix{Float64}}(undef, l_max+1)# a vector of l_max+1 matrices, the i-th matrix has (2ntomo x i) elements\n",
    "    \n",
    "    for i in 1:l_max+1\n",
    "        L[i] ~ LKJCholesky(2*n_tomo, 1)\n",
    "        x[i] ~ arraydist([MvNormal(zeros(2*n_tomo), Matrix{Float64}(I,2*n_tomo,2*n_tomo)) for p in -(i-1):(i-1)])\n",
    "    end\n",
    "end"
   ]
  },
  {
   "cell_type": "code",
   "execution_count": 5,
   "id": "a390c54a-3c47-4700-90b3-39166b14392f",
   "metadata": {},
   "outputs": [
    {
     "data": {
      "text/plain": [
       "data_generator (generic function with 2 methods)"
      ]
     },
     "execution_count": 5,
     "metadata": {},
     "output_type": "execute_result"
    }
   ],
   "source": [
    "@model function data_generator(l_max, n_tomo)\n",
    "    C = Vector{Matrix{Float64}}(undef, l_max+1)\n",
    "    ã = Vector{Matrix{Float64}}(undef, l_max+1)\n",
    "    \n",
    "    for i in 1:l_max+1\n",
    "        C[i] ~ LKJ(2*n_tomo, 1)\n",
    "        ã[i] ~ arraydist([MvNormal(zeros(2*n_tomo), C[i]) for p in -(i-1):(i-1)])\n",
    "    end\n",
    "end"
   ]
  },
  {
   "cell_type": "markdown",
   "id": "b691fdbf-7990-4780-a0ad-1a6fbb76992d",
   "metadata": {},
   "source": [
    "Hyperparameters' choice:"
   ]
  },
  {
   "cell_type": "code",
   "execution_count": 6,
   "id": "75867d94-8a64-4d86-bcef-0c6c83fac254",
   "metadata": {},
   "outputs": [],
   "source": [
    "nbin = 1\n",
    "lmax = 31\n",
    "q = 0#-0.5*(2*nbin+1)\n",
    "nside = 16\n",
    "npix = nside2npix(nside)\n",
    "\n",
    "ε = 0.27/sqrt(2*3)  \n",
    "N_noise = ε * I\n",
    "inv_N_noise = inv(N_noise);"
   ]
  },
  {
   "cell_type": "markdown",
   "id": "3dc25b12-1a81-48ce-b51e-b1cb9246cc19",
   "metadata": {},
   "source": [
    "\n",
    "We can generate now some fictional data:"
   ]
  },
  {
   "cell_type": "code",
   "execution_count": 7,
   "id": "dc0f4708-3ef7-4a22-8012-195b96e642ec",
   "metadata": {},
   "outputs": [],
   "source": [
    "gen_data = rand(data_generator(lmax, nbin))\n",
    "gen_C = collect(gen_data[i] for i in 1:2:2*(lmax+1))\n",
    "gen_ã = collect(gen_data[i] for i in 2:2:2*(lmax+1));"
   ]
  },
  {
   "cell_type": "code",
   "execution_count": 8,
   "id": "079c4ab1-ca9f-43a7-b388-c30f84610746",
   "metadata": {},
   "outputs": [],
   "source": [
    "gen_a = deepcopy(gen_ã)\n",
    "for i in 1:lmax+1\n",
    "    gen_a[i][:,2:end] /= sqrt(2)\n",
    "end"
   ]
  },
  {
   "cell_type": "code",
   "execution_count": 9,
   "id": "8df48291-fcf4-4ecb-9333-efb44479558e",
   "metadata": {},
   "outputs": [],
   "source": [
    "hpix_gen_alms = from_alm_to_healpix_alm(gen_a, lmax, nbin)\n",
    "gen_maps = Array{HealpixMap}(undef, 2*nbin)\n",
    "for i in 1:2*nbin\n",
    "    gen_maps[i] = alm2map(hpix_gen_alms[i], nside)\n",
    "end"
   ]
  },
  {
   "cell_type": "markdown",
   "id": "2dfaf9a1-2f35-436e-8049-05d38cb1ca2d",
   "metadata": {
    "jp-MarkdownHeadingCollapsed": true
   },
   "source": [
    "### Generate initial condition"
   ]
  },
  {
   "cell_type": "code",
   "execution_count": 10,
   "id": "3cd0c19d-3aa0-4468-b6d9-2b7bd83f745b",
   "metadata": {},
   "outputs": [
    {
     "data": {
      "text/plain": [
       "2112"
      ]
     },
     "execution_count": 10,
     "metadata": {},
     "output_type": "execute_result"
    }
   ],
   "source": [
    "free_param_n = (2*nbin - 1)*(nbin + 1)\n",
    "num_par = 2*nbin*(lmax+1)*(lmax+1) + (lmax+1)*free_param_n"
   ]
  },
  {
   "cell_type": "code",
   "execution_count": 11,
   "id": "143e97a4-0930-4474-acd3-9fd583ba4d26",
   "metadata": {},
   "outputs": [],
   "source": [
    "gen_L = [cholesky(gen_C[i]).L for i in 1:lmax+1];"
   ]
  },
  {
   "cell_type": "code",
   "execution_count": 12,
   "id": "a799efad-8637-4087-b12e-59f18e9bfef7",
   "metadata": {},
   "outputs": [],
   "source": [
    "gen_K = deepcopy(gen_L)\n",
    "for l in 1:lmax+1\n",
    "    for i in 1:2*nbin\n",
    "        gen_K[l][i,i] = log(gen_L[l][i,i])\n",
    "    end\n",
    "end"
   ]
  },
  {
   "cell_type": "code",
   "execution_count": 13,
   "id": "626d423c-5182-42db-9aed-abf384323d72",
   "metadata": {},
   "outputs": [],
   "source": [
    "gen_x = inv.(gen_L) .* gen_ã;"
   ]
  },
  {
   "cell_type": "code",
   "execution_count": 14,
   "id": "386b5c2e-6d65-4e50-9136-ede965d6722b",
   "metadata": {},
   "outputs": [],
   "source": [
    "x_vec = x_vecmat2vec(gen_x, lmax, nbin)\n",
    "k_vec = vectorK_vecmat2vec(gen_K, nbin, lmax);"
   ]
  },
  {
   "cell_type": "code",
   "execution_count": 15,
   "id": "f31c7c45-722c-4e73-a114-51346a879e32",
   "metadata": {},
   "outputs": [],
   "source": [
    "gen_θ = Vector{Float64}(vcat(x_vec, k_vec))\n",
    "θ₀ = rand(MvNormal(gen_θ, 0.001*I));"
   ]
  },
  {
   "cell_type": "markdown",
   "id": "5a89cc3b-a63a-47af-8aef-787cca33cd2d",
   "metadata": {},
   "source": [
    "## Neg-log-posterior"
   ]
  },
  {
   "cell_type": "markdown",
   "id": "33c33910-7fbb-45bb-b00d-7150bbf19bcb",
   "metadata": {},
   "source": [
    "In Cholesky coordinates, the negative log-posterior to sample looks like\n",
    "$$  \\psi(\\mathbf{x},\\mathrm{K}) = \\sum_{i=1}^{2n_{bins}} \\left[ \\frac{1}{2}(\\mathbf{d}-\\mathrm{Y}\\mathrm{L} \\mathbf{x})^{\\mathrm{T}}\\mathrm{N}^{-1}(\\mathbf{d}-\\mathrm{Y}\\mathrm{L} \\mathbf{x}) + \\frac{\\mathbf{x}^{\\mathrm{T}}\\mathbf{x}}{2} + \\sum_{\\ell}\\sum_{\\alpha=1}^{n}(\\alpha-2-n-2q)\\mathrm{K}_{\\ell , \\alpha\\alpha} \\right] $$\n",
    "$$  \\psi(\\mathbf{x},\\mathrm{L}) = \\sum_{i=1}^{2n_{bins}} \\left[ \\frac{1}{2}(\\mathbf{d}-\\mathrm{Y}\\mathrm{L} \\mathbf{x})^{\\mathrm{T}}\\mathrm{N}^{-1}(\\mathbf{d}-\\mathrm{Y}\\mathrm{L} \\mathbf{x}) + \\frac{1}{2}\\sum_{\\ell}\\sum_{m}\\mathbf{x}_{\\ell m}^{\\mathrm{T}}\\mathbf{x}_{\\ell m} + \\sum_{\\ell}\\sum_{\\alpha=1}^{n}(\\alpha-2-n-2q)\\ln{\\mathrm{L}_{\\ell , \\alpha\\alpha}} \\right]$$\n",
    "The noise matrix $N$, which is in real (pixel) space is taken to be a diagonal matrix of dimension $n_{pix}$.\n",
    "\n",
    "The index $n$ is $2*n_{bins}$ .\n",
    "\n",
    "A Jeffreys prior (as said in ALMANAC) corresponds to \n",
    "$$ q = -\\frac{N_p+1}{2} \\ , $$ where $C_\\ell$ has $N_p \\times N_p$ entries; this means $N_p=2*n_{bins}$"
   ]
  },
  {
   "cell_type": "markdown",
   "id": "7fb95940-f90f-4de1-9876-87a38cb3d5c0",
   "metadata": {
    "jp-MarkdownHeadingCollapsed": true
   },
   "source": [
    "### Neg-log-likelihood\n",
    "\n",
    "$$-\\log{(\\mathcal{L}(\\mathrm{L},\\mathbf{x}))} = \\sum_{i=1}^{2n_{bins}} \\left[ \\frac{1}{2}(\\mathbf{d}-\\mathrm{Y}\\mathrm{L} \\mathbf{x})^{\\mathrm{T}}\\mathrm{N}^{-1}(\\mathbf{d}-\\mathrm{Y}\\mathrm{L} \\mathbf{x}) \\right]$$"
   ]
  },
  {
   "cell_type": "markdown",
   "id": "fe65f3f8-f328-4312-82a5-eb1bc56ffe3f",
   "metadata": {},
   "source": [
    "function from_K_to_L(K::Vector{Matrix{Float64}})\n",
    "    L = deepcopy(K)\n",
    "    for l in 1:lmax+1\n",
    "        for i in 1:2*nbin\n",
    "            L[l][i,i]=exp(K[l][i,i])\n",
    "        end\n",
    "    end\n",
    "    return L\n",
    "end     "
   ]
  },
  {
   "cell_type": "code",
   "execution_count": 16,
   "id": "ff773708-1884-4642-8813-c0dfa67bfd99",
   "metadata": {},
   "outputs": [
    {
     "data": {
      "text/plain": [
       "negloglikelihood (generic function with 1 method)"
      ]
     },
     "execution_count": 16,
     "metadata": {},
     "output_type": "execute_result"
    }
   ],
   "source": [
    "function negloglikelihood(L::Vector{Matrix{Float64}}, x::Vector{Matrix{Float64}}; maps)\n",
    "    loglike = 0.\n",
    "    a = Chol_Lx2a(x, L)\n",
    "    alms = from_alm_to_healpix_alm(a, lmax, nbin)\n",
    "    for i in 1:2*nbin\n",
    "        d̃ = alm2map(alms[i], nside)\n",
    "        loglike += 0.5*transpose(maps[i]-d̃)*inv_N_noise*(maps[i]-d̃)\n",
    "    end\n",
    "    return loglike\n",
    "end"
   ]
  },
  {
   "cell_type": "markdown",
   "id": "18c182ab-c2a8-47ad-bd17-1c52732a15dd",
   "metadata": {
    "jp-MarkdownHeadingCollapsed": true
   },
   "source": [
    "### Neg-log-prior1\n",
    "$$-\\log{(\\mathcal{P}_1(\\mathbf{x}))} = \\sum_{i=1}^{2n_{bins}} \\left[ \\frac{1}{2}\\sum_{\\ell}\\sum_{m}\\mathbf{x}_{\\ell m}^{\\mathrm{T}}\\mathbf{x}_{\\ell m} \\right] $$"
   ]
  },
  {
   "cell_type": "code",
   "execution_count": 17,
   "id": "84e52da8-42ae-4931-ac56-b601b4f78990",
   "metadata": {},
   "outputs": [],
   "source": [
    "function neglogprior1(x::Vector{Float64})\n",
    "    logprior =  0.5*sum(x .* x)\n",
    "    return logprior\n",
    "end\n",
    "\n",
    "@adjoint function neglogprior1(x::Vector{Float64})\n",
    "    y = neglogprior1(x)\n",
    "    function neglogprior1_pullback(ȳ)\n",
    "        x̄ = deepcopy(x) .* ȳ\n",
    "        return (x̄,)\n",
    "    end\n",
    "    return y, neglogprior1_pullback\n",
    "end"
   ]
  },
  {
   "cell_type": "markdown",
   "id": "9ccb91ff-ca92-47c0-b31e-819b2aa77360",
   "metadata": {
    "jp-MarkdownHeadingCollapsed": true
   },
   "source": [
    "### Neg-log-prior2\n",
    "$$-\\log{(\\mathcal{P}_2(L))} = \\sum_{j=1}^{2n_{bins}} \\left[ \\sum_{\\ell}\\sum_{i=1}^{n}(\\alpha-2-n-2q){\\mathrm{K}_{\\ell , ii}} \\right] $$"
   ]
  },
  {
   "cell_type": "code",
   "execution_count": 18,
   "id": "12ed171c-c19f-4379-adf6-aefd2acaabbc",
   "metadata": {},
   "outputs": [],
   "source": [
    "function neglogprior2(K::Vector{Matrix{Float64}})\n",
    "    c = 2 + (2*nbin) + (2*q)\n",
    "    logprior = 0.\n",
    "    for i in 2:2*nbin\n",
    "        cons = i-c\n",
    "        for l in 1:lmax+1\n",
    "            logprior += cons*K[l][i,i]\n",
    "        end\n",
    "    end\n",
    "    return logprior\n",
    "end\n",
    "\n",
    "@adjoint function neglogprior2(K::Vector{Matrix{Float64}})\n",
    "    y = neglogprior2(K)\n",
    "    function neglogprior2_pullback(ȳ)\n",
    "        c = 2 + (2*nbin) + (2*q)\n",
    "        single_K̄ = diagm([i-c for i in 1:2*nbin])\n",
    "        single_K̄[1,1] = 0.0\n",
    "        K̄ = [single_K̄ for i in 1:lmax+1]\n",
    "        return (K̄,)\n",
    "    end\n",
    "    return y, neglogprior2_pullback\n",
    "end"
   ]
  },
  {
   "cell_type": "markdown",
   "id": "4558fdb9-e815-4e3c-b059-b6c2ed783543",
   "metadata": {},
   "source": [
    "### Neg-log-posterior - custom target"
   ]
  },
  {
   "cell_type": "code",
   "execution_count": 19,
   "id": "38b9a5c4-180e-437e-8165-63ab37f05541",
   "metadata": {},
   "outputs": [
    {
     "data": {
      "text/plain": [
       "neglogpost (generic function with 1 method)"
      ]
     },
     "execution_count": 19,
     "metadata": {},
     "output_type": "execute_result"
    }
   ],
   "source": [
    "function neglogpost(θ; maps=gen_maps)\n",
    "    vec_x = θ[1:2*nbin*(2*numberOfAlms(lmax)-(lmax+1))]\n",
    "    vec_k = θ[2*nbin*(2*numberOfAlms(lmax)-(lmax+1))+1:end]\n",
    "    K = vectorK_vec2vecmat(vec_k, nbin, lmax, free_param_n)\n",
    "    x = x_vec2vecmat(vec_x, lmax, nbin)\n",
    "    L = vector_from_k_to_L(vec_k, nbin, lmax, free_param_n)\n",
    "    return negloglikelihood(L, x; maps=maps) + neglogprior1(vec_x) + neglogprior2(K)\n",
    "end"
   ]
  },
  {
   "cell_type": "code",
   "execution_count": 20,
   "id": "d525fde6-7e1d-4bb2-a6bd-6889290036ab",
   "metadata": {},
   "outputs": [
    {
     "data": {
      "text/plain": [
       "(val = 5101.101622287971, grad = ([-45.782005525203644, -6.264308892513235, 131.1196335120835, -69.55440925233925, -168.07680670791956, 146.30839576415022, -128.8582550661904, 74.35545991603793, -50.94145251098945, -42.220516992307914  …  -663.278238369056, 1377.646386937737, -1659.9525423196364, 4610.219854681885, -2528.840899290636, 4533.43442730399, 114.04568909834208, 4695.584217809345, 2196.23278271038, 952.2286423491715],))"
      ]
     },
     "execution_count": 20,
     "metadata": {},
     "output_type": "execute_result"
    }
   ],
   "source": [
    "ψ, dψ = withgradient(θ->neglogpost(θ), θ₀)"
   ]
  },
  {
   "cell_type": "code",
   "execution_count": 22,
   "id": "1cc6e893-24ef-4fbc-975b-56b5b21175c6",
   "metadata": {},
   "outputs": [
    {
     "data": {
      "text/plain": [
       "BenchmarkTools.Trial: 1561 samples with 1 evaluation.\n",
       " Range \u001b[90m(\u001b[39m\u001b[36m\u001b[1mmin\u001b[22m\u001b[39m … \u001b[35mmax\u001b[39m\u001b[90m):  \u001b[39m\u001b[36m\u001b[1m1.833 ms\u001b[22m\u001b[39m … \u001b[35m10.321 ms\u001b[39m  \u001b[90m┊\u001b[39m GC \u001b[90m(\u001b[39mmin … max\u001b[90m): \u001b[39m0.00% … 52.82%\n",
       " Time  \u001b[90m(\u001b[39m\u001b[34m\u001b[1mmedian\u001b[22m\u001b[39m\u001b[90m):     \u001b[39m\u001b[34m\u001b[1m2.556 ms              \u001b[22m\u001b[39m\u001b[90m┊\u001b[39m GC \u001b[90m(\u001b[39mmedian\u001b[90m):    \u001b[39m0.00%\n",
       " Time  \u001b[90m(\u001b[39m\u001b[32m\u001b[1mmean\u001b[22m\u001b[39m ± \u001b[32mσ\u001b[39m\u001b[90m):   \u001b[39m\u001b[32m\u001b[1m3.191 ms\u001b[22m\u001b[39m ± \u001b[32m 1.279 ms\u001b[39m  \u001b[90m┊\u001b[39m GC \u001b[90m(\u001b[39mmean ± σ\u001b[90m):  \u001b[39m0.88% ±  4.45%\n",
       "\n",
       "  \u001b[39m \u001b[39m \u001b[39m▁\u001b[39m▄\u001b[39m█\u001b[39m█\u001b[39m▆\u001b[34m▇\u001b[39m\u001b[39m▆\u001b[39m▃\u001b[39m▂\u001b[39m \u001b[39m \u001b[39m \u001b[32m \u001b[39m\u001b[39m \u001b[39m \u001b[39m \u001b[39m \u001b[39m \u001b[39m \u001b[39m \u001b[39m \u001b[39m▁\u001b[39m▂\u001b[39m▃\u001b[39m▄\u001b[39m▄\u001b[39m▃\u001b[39m▃\u001b[39m▁\u001b[39m▂\u001b[39m \u001b[39m \u001b[39m \u001b[39m \u001b[39m \u001b[39m \u001b[39m \u001b[39m \u001b[39m \u001b[39m \u001b[39m \u001b[39m \u001b[39m \u001b[39m \u001b[39m \u001b[39m \u001b[39m \u001b[39m \u001b[39m \u001b[39m \u001b[39m \u001b[39m \u001b[39m \u001b[39m \u001b[39m \u001b[39m \u001b[39m \u001b[39m▁\n",
       "  \u001b[39m▄\u001b[39m▆\u001b[39m█\u001b[39m█\u001b[39m█\u001b[39m█\u001b[39m█\u001b[34m█\u001b[39m\u001b[39m█\u001b[39m█\u001b[39m█\u001b[39m█\u001b[39m█\u001b[39m█\u001b[32m█\u001b[39m\u001b[39m▆\u001b[39m▅\u001b[39m▇\u001b[39m▄\u001b[39m▆\u001b[39m▇\u001b[39m▇\u001b[39m█\u001b[39m█\u001b[39m█\u001b[39m█\u001b[39m█\u001b[39m█\u001b[39m█\u001b[39m█\u001b[39m█\u001b[39m█\u001b[39m█\u001b[39m█\u001b[39m█\u001b[39m█\u001b[39m█\u001b[39m█\u001b[39m▆\u001b[39m▇\u001b[39m▆\u001b[39m▆\u001b[39m▄\u001b[39m▄\u001b[39m▆\u001b[39m▄\u001b[39m▄\u001b[39m▄\u001b[39m▁\u001b[39m▁\u001b[39m▆\u001b[39m▁\u001b[39m▅\u001b[39m▆\u001b[39m▅\u001b[39m▅\u001b[39m▇\u001b[39m▅\u001b[39m \u001b[39m█\n",
       "  1.83 ms\u001b[90m      \u001b[39m\u001b[90mHistogram: \u001b[39m\u001b[90m\u001b[1mlog(\u001b[22m\u001b[39m\u001b[90mfrequency\u001b[39m\u001b[90m\u001b[1m)\u001b[22m\u001b[39m\u001b[90m by time\u001b[39m     7.58 ms \u001b[0m\u001b[1m<\u001b[22m\n",
       "\n",
       " Memory estimate\u001b[90m: \u001b[39m\u001b[33m428.16 KiB\u001b[39m, allocs estimate\u001b[90m: \u001b[39m\u001b[33m467\u001b[39m."
      ]
     },
     "execution_count": 22,
     "metadata": {},
     "output_type": "execute_result"
    }
   ],
   "source": [
    "@benchmark neglogpost(θ₀)"
   ]
  },
  {
   "cell_type": "code",
   "execution_count": 23,
   "id": "62e39795-fc59-4d1b-a4cf-69bbb338ebae",
   "metadata": {},
   "outputs": [
    {
     "data": {
      "text/plain": [
       "BenchmarkTools.Trial: 748 samples with 1 evaluation.\n",
       " Range \u001b[90m(\u001b[39m\u001b[36m\u001b[1mmin\u001b[22m\u001b[39m … \u001b[35mmax\u001b[39m\u001b[90m):  \u001b[39m\u001b[36m\u001b[1m5.476 ms\u001b[22m\u001b[39m … \u001b[35m 14.090 ms\u001b[39m  \u001b[90m┊\u001b[39m GC \u001b[90m(\u001b[39mmin … max\u001b[90m): \u001b[39m0.00% … 18.70%\n",
       " Time  \u001b[90m(\u001b[39m\u001b[34m\u001b[1mmedian\u001b[22m\u001b[39m\u001b[90m):     \u001b[39m\u001b[34m\u001b[1m6.465 ms               \u001b[22m\u001b[39m\u001b[90m┊\u001b[39m GC \u001b[90m(\u001b[39mmedian\u001b[90m):    \u001b[39m0.00%\n",
       " Time  \u001b[90m(\u001b[39m\u001b[32m\u001b[1mmean\u001b[22m\u001b[39m ± \u001b[32mσ\u001b[39m\u001b[90m):   \u001b[39m\u001b[32m\u001b[1m6.677 ms\u001b[22m\u001b[39m ± \u001b[32m889.598 μs\u001b[39m  \u001b[90m┊\u001b[39m GC \u001b[90m(\u001b[39mmean ± σ\u001b[90m):  \u001b[39m1.05% ±  4.43%\n",
       "\n",
       "  \u001b[39m \u001b[39m \u001b[39m \u001b[39m \u001b[39m \u001b[39m▂\u001b[39m▃\u001b[39m▆\u001b[39m█\u001b[39m█\u001b[34m█\u001b[39m\u001b[39m▆\u001b[32m▅\u001b[39m\u001b[39m▃\u001b[39m▂\u001b[39m▁\u001b[39m \u001b[39m \u001b[39m \u001b[39m \u001b[39m \u001b[39m \u001b[39m \u001b[39m \u001b[39m \u001b[39m \u001b[39m \u001b[39m \u001b[39m \u001b[39m \u001b[39m \u001b[39m \u001b[39m \u001b[39m \u001b[39m \u001b[39m \u001b[39m \u001b[39m \u001b[39m \u001b[39m \u001b[39m \u001b[39m \u001b[39m \u001b[39m \u001b[39m \u001b[39m \u001b[39m \u001b[39m \u001b[39m \u001b[39m \u001b[39m \u001b[39m \u001b[39m \u001b[39m \u001b[39m \u001b[39m \u001b[39m \u001b[39m \u001b[39m \u001b[39m \u001b[39m \n",
       "  \u001b[39m▄\u001b[39m▄\u001b[39m▄\u001b[39m▇\u001b[39m▇\u001b[39m█\u001b[39m█\u001b[39m█\u001b[39m█\u001b[39m█\u001b[34m█\u001b[39m\u001b[39m█\u001b[32m█\u001b[39m\u001b[39m█\u001b[39m█\u001b[39m█\u001b[39m▅\u001b[39m█\u001b[39m▅\u001b[39m█\u001b[39m▅\u001b[39m▆\u001b[39m▁\u001b[39m▆\u001b[39m▅\u001b[39m▁\u001b[39m▄\u001b[39m▁\u001b[39m▅\u001b[39m▆\u001b[39m▅\u001b[39m▅\u001b[39m▁\u001b[39m▁\u001b[39m▁\u001b[39m▄\u001b[39m▁\u001b[39m▆\u001b[39m▆\u001b[39m▆\u001b[39m▆\u001b[39m▅\u001b[39m▅\u001b[39m▄\u001b[39m▄\u001b[39m▅\u001b[39m▄\u001b[39m▁\u001b[39m▁\u001b[39m▄\u001b[39m▁\u001b[39m▁\u001b[39m▁\u001b[39m▄\u001b[39m▁\u001b[39m▄\u001b[39m▄\u001b[39m▁\u001b[39m▄\u001b[39m \u001b[39m█\n",
       "  5.48 ms\u001b[90m      \u001b[39m\u001b[90mHistogram: \u001b[39m\u001b[90m\u001b[1mlog(\u001b[22m\u001b[39m\u001b[90mfrequency\u001b[39m\u001b[90m\u001b[1m)\u001b[22m\u001b[39m\u001b[90m by time\u001b[39m      11.2 ms \u001b[0m\u001b[1m<\u001b[22m\n",
       "\n",
       " Memory estimate\u001b[90m: \u001b[39m\u001b[33m1.19 MiB\u001b[39m, allocs estimate\u001b[90m: \u001b[39m\u001b[33m2526\u001b[39m."
      ]
     },
     "execution_count": 23,
     "metadata": {},
     "output_type": "execute_result"
    }
   ],
   "source": [
    "@benchmark withgradient(θ->neglogpost(θ), θ₀)"
   ]
  },
  {
   "cell_type": "code",
   "execution_count": 24,
   "id": "9ec6d4c9-2be6-45d8-beba-27f6b1202b4b",
   "metadata": {},
   "outputs": [
    {
     "data": {
      "text/plain": [
       "2112"
      ]
     },
     "execution_count": 24,
     "metadata": {},
     "output_type": "execute_result"
    }
   ],
   "source": [
    "dim_params = length(gen_θ)"
   ]
  },
  {
   "cell_type": "code",
   "execution_count": 25,
   "id": "731faf2f-24d5-4205-af79-fff6e782a89c",
   "metadata": {},
   "outputs": [],
   "source": [
    "struct LogTargetDensity\n",
    "    dim::Int\n",
    "end\n",
    "\n",
    "LogDensityProblemsAD.logdensity(p::LogTargetDensity, θ) = -neglogpost(θ)\n",
    "LogDensityProblemsAD.dimension(p::LogTargetDensity) = p.dim\n",
    "LogDensityProblemsAD.capabilities(::Type{LogTargetDensity}) = LogDensityProblemsAD.LogDensityOrder{0}()"
   ]
  },
  {
   "cell_type": "code",
   "execution_count": 45,
   "id": "82c78831-0d9d-442c-8f1f-2e8684053082",
   "metadata": {},
   "outputs": [
    {
     "data": {
      "text/plain": [
       "LogTargetDensity(160)"
      ]
     },
     "execution_count": 45,
     "metadata": {},
     "output_type": "execute_result"
    }
   ],
   "source": [
    "ℓπ = LogTargetDensity(dim_params)"
   ]
  },
  {
   "cell_type": "code",
   "execution_count": 26,
   "id": "ad40248a-dc69-4603-b91d-e5fdae80f4a8",
   "metadata": {
    "scrolled": true
   },
   "outputs": [
    {
     "data": {
      "text/plain": [
       "StanHMCAdaptor(\n",
       "    pc=WelfordCov,\n",
       "    ssa=NesterovDualAveraging(γ=0.05, t_0=10.0, κ=0.75, δ=0.9, state.ϵ=0.003125),\n",
       "    init_buffer=75, term_buffer=50, window_size=25,\n",
       "    state=window(0, 0), window_splits()\n",
       ")"
      ]
     },
     "execution_count": 26,
     "metadata": {},
     "output_type": "execute_result"
    }
   ],
   "source": [
    "ℓπ = LogTargetDensity(dim_params)\n",
    "n_LF = 50\n",
    "\n",
    "metric = DenseEuclideanMetric(dim_params)\n",
    "hamiltonian = Hamiltonian(metric, ℓπ, Zygote)\n",
    "initial_ϵ = find_good_stepsize(hamiltonian, θ₀)\n",
    "integrator = Leapfrog(initial_ϵ)\n",
    "kernel = HMCKernel(Trajectory{EndPointTS}(integrator, FixedNSteps(n_LF)))\n",
    "adaptor = StanHMCAdaptor(MassMatrixAdaptor(metric), StepSizeAdaptor(0.9, integrator))"
   ]
  },
  {
   "cell_type": "code",
   "execution_count": 27,
   "id": "bdc0d025-c840-43f9-b4e3-a9266e868ae4",
   "metadata": {},
   "outputs": [],
   "source": [
    "nchains = 1\n",
    "sample_chain = Vector{Any}(undef, nchains)\n",
    "stats_chain = Vector{Any}(undef, nchains);"
   ]
  },
  {
   "cell_type": "code",
   "execution_count": 28,
   "id": "e8a75a6a-7dfd-4d70-a0f6-2028b4cc6190",
   "metadata": {},
   "outputs": [
    {
     "data": {
      "text/plain": [
       "(1000, 10000)"
      ]
     },
     "execution_count": 28,
     "metadata": {},
     "output_type": "execute_result"
    }
   ],
   "source": [
    "n_samples, n_adapts = 1000, 10_000"
   ]
  },
  {
   "cell_type": "code",
   "execution_count": null,
   "id": "ef24b073-2d28-445a-8e0f-c8f61dc85138",
   "metadata": {},
   "outputs": [],
   "source": [
    "for i in 1:nchains\n",
    "    samples, stats = sample(hamiltonian, kernel, θ₀, n_samples, adaptor, n_adapts; progress=true, verbose=false)\n",
    "    sample_chain[i] = samples\n",
    "    stats_chain[i] = stats\n",
    "end"
   ]
  },
  {
   "cell_type": "markdown",
   "id": "8138fa6e-4fea-4705-a242-53216b8a7e0f",
   "metadata": {},
   "source": [
    "### Neg-log-posterior - Turing model"
   ]
  },
  {
   "cell_type": "code",
   "execution_count": 29,
   "id": "abb30798-4a2c-4214-9291-6487d4486b2e",
   "metadata": {},
   "outputs": [
    {
     "data": {
      "text/plain": [
       ":zygote"
      ]
     },
     "execution_count": 29,
     "metadata": {},
     "output_type": "execute_result"
    }
   ],
   "source": [
    "Turing.setadbackend(:zygote)"
   ]
  },
  {
   "cell_type": "markdown",
   "id": "820bb667-f65a-463a-8fd4-8aeae82af7e3",
   "metadata": {},
   "source": [
    "@model function posterior(data, noise, θ_len, nbin, nside, lmax, free_param_n)\n",
    "    \n",
    "    θ ~ MvNormal(zeros(θ_len), I)\n",
    "    vec_x = θ[1:(θ_len - (lmax+1)*free_param_n)]\n",
    "    vec_k = θ[(θ_len - (lmax+1)*free_param_n)+1:end]\n",
    "\n",
    "    K = vectorK_vec2vecmat(vec_k, nbin, lmax, free_param_n)\n",
    "    L = vector_from_k_to_L(vec_k, nbin, lmax, free_param_n)\n",
    "    x = x_vec2vecmat(vec_x, lmax, nbin)\n",
    "\n",
    "    a = Chol_Lx2a(x, L)\n",
    "    alms = from_alm_to_healpix_alm(a, lmax, nbin)\n",
    "\n",
    "    for i in 1:2*nbin\n",
    "        d̃ = alm2map(alms[i], nside)\n",
    "        data[i] ~ MvNormal(d̃, noise)\n",
    "    end\n",
    "end"
   ]
  }
 ],
 "metadata": {
  "kernelspec": {
   "display_name": "Julia 1.10.0",
   "language": "julia",
   "name": "julia-1.10"
  },
  "language_info": {
   "file_extension": ".jl",
   "mimetype": "application/julia",
   "name": "julia",
   "version": "1.10.0"
  }
 },
 "nbformat": 4,
 "nbformat_minor": 5
}
