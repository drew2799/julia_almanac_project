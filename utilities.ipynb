{
 "cells": [
  {
   "cell_type": "code",
   "execution_count": 1,
   "id": "bfc6372d-d845-4230-9171-64418e3c752d",
   "metadata": {},
   "outputs": [
    {
     "data": {
      "text/plain": [
       "alm_scalar_prod (generic function with 1 method)"
      ]
     },
     "execution_count": 1,
     "metadata": {},
     "output_type": "execute_result"
    }
   ],
   "source": [
    "using NBInclude\n",
    "@nbinclude(\"diffSHT_healpix.ipynb\")"
   ]
  },
  {
   "cell_type": "code",
   "execution_count": 2,
   "id": "56aa1b07-b0b0-4835-9832-dd68d3331c4a",
   "metadata": {},
   "outputs": [],
   "source": [
    "using Turing\n",
    "using Distributions\n",
    "using Plots\n",
    "using LinearAlgebra\n",
    "using Random"
   ]
  },
  {
   "cell_type": "markdown",
   "id": "e5fe3e59-e417-45aa-9db7-691b66513e98",
   "metadata": {
    "jp-MarkdownHeadingCollapsed": true
   },
   "source": [
    "## Manipulating $a_{\\ell m}$\n",
    "\n",
    "The input list of $a_{\\ell m}$ of both E and B mode and for each tomographic bin is organised as a vector of matrices. The vector index vary among the $\\ell$ values, then in each matrix the columns correspond to every valid $m$ ($m \\in [0, \\ell]$) while the rows separate the $a_{\\ell m}$ belonging to different modes and bins.\n",
    "We need a function that convert this object into an healpix.Alm object, in which the $a_{\\ell m}$ are stored in a single vector ordered by $m$."
   ]
  },
  {
   "cell_type": "code",
   "execution_count": 3,
   "id": "882b22b0-044b-4a99-a5a4-30f71fcc2bed",
   "metadata": {},
   "outputs": [
    {
     "data": {
      "text/plain": [
       "from_alm_to_healpix_alm (generic function with 1 method)"
      ]
     },
     "execution_count": 3,
     "metadata": {},
     "output_type": "execute_result"
    }
   ],
   "source": [
    "function from_alm_to_healpix_alm(alm, l_max, nbin)\n",
    "    Alms = []\n",
    "    for i in 1:2*nbin\n",
    "        alm_array = zeros(ComplexF64, numberOfAlms(l_max))\n",
    "        for l in 1:l_max+1\n",
    "            alm_array[l] = alm[l][i, 1]\n",
    "        end\n",
    "        j = l_max + 1\n",
    "        for m in 2:2:(2*l_max + 1)\n",
    "            for l in (Int(m/2) +1):(l_max+1)\n",
    "                j += 1\n",
    "                alm_array[j] = alm[l][i,m] + alm[l][i,m+1]*im\n",
    "            end\n",
    "        end\n",
    "        push!(Alms, Alm(l_max, l_max, alm_array))\n",
    "    end\n",
    "    return Alms\n",
    "end"
   ]
  },
  {
   "cell_type": "markdown",
   "id": "706c7cd3-19b3-41b8-b9aa-2f323e5a9fad",
   "metadata": {},
   "source": [
    "Since from_alm_to_healpix_alm appears in the posterior that we want to sample, we need a rule to differentiate this function. However, to do this we firstly need the inverse function that maps an healpix.Alm to a vector of matrices. The reason for this is that from_alm_to_healpix_alm does not change the value of each coefficient, it just reorganizes them and hence, the rule does not nedd to do anything in particular. But be careful, the adjoint of the output is an healpix.Alm object while its pullback must be a vector of matrices. This is way we need the inverse function to pull the adjoint back to the input space."
   ]
  },
  {
   "cell_type": "code",
   "execution_count": 4,
   "id": "271425c4-17d2-4ef4-8ab4-6b797e8d95dc",
   "metadata": {},
   "outputs": [
    {
     "data": {
      "text/plain": [
       "from_healpix_alm_to_alm (generic function with 1 method)"
      ]
     },
     "execution_count": 4,
     "metadata": {},
     "output_type": "execute_result"
    }
   ],
   "source": [
    "function from_healpix_alm_to_alm(Alms, lmax, nbin)\n",
    "    alm_array = []\n",
    "    for l in 0:lmax\n",
    "        #alm = Matrix{ComplexF64}(undef, (2*nbin, 2*(l + 1)))\n",
    "        alm = Matrix{Float64}(undef, (2*nbin, 2*(l + 1)))\n",
    "        for i in 1:2*nbin\n",
    "            j = 1\n",
    "            for m in each_m_idx(Alms[i], l)\n",
    "                alm[i,j]=real(Alms[i].alm[m])\n",
    "                alm[i,j+1]=imag(Alms[i].alm[m])\n",
    "                j+=2\n",
    "            end\n",
    "        end\n",
    "        push!(alm_array, alm[:, 1:end .!=2])\n",
    "    end\n",
    "    return alm_array\n",
    "end"
   ]
  },
  {
   "cell_type": "markdown",
   "id": "ca24b7c1-3509-4d30-80f5-d094bbfbc3f5",
   "metadata": {},
   "source": [
    "@adjoint function from_alm_to_healpix_alm(alm, l_max, nbin)\n",
    "    y = from_alm_to_healpix_alm(alm, l_max, nbin)\n",
    "    function fatha_pullback(ȳ)\n",
    "        return (from_healpix_alm_to_alm(ȳ, l_max, nbin), nothing, nothing)\n",
    "    end\n",
    "    return y, fatha_pullback\n",
    "end"
   ]
  },
  {
   "cell_type": "code",
   "execution_count": 5,
   "id": "e587273b-3de8-4b51-9ba2-35d86cf6a37d",
   "metadata": {},
   "outputs": [],
   "source": [
    "function ChainRulesCore.rrule(::typeof(from_alm_to_healpix_alm), alm, l_max, nbin)\n",
    "    y = from_alm_to_healpix_alm(alm, l_max, nbin)\n",
    "    function fatha_pullback(ȳ)\n",
    "        x̄ = @thunk(from_healpix_alm_to_alm(ȳ, l_max, nbin))\n",
    "        return ChainRulesCore.NoTangent(), x̄, ChainRulesCore.NoTangent(), ChainRulesCore.NoTangent()\n",
    "    end\n",
    "    return y, fatha_pullback\n",
    "end"
   ]
  },
  {
   "cell_type": "markdown",
   "id": "bd2a6450-7d7c-4ebe-89a4-eb420d0564ce",
   "metadata": {},
   "source": [
    "## Cholesky coordinates\n",
    "We cannot straightforwardly sample the elements of C since the HMC random walk can easily wander out of the subset of positive-definite matrices. To handle this we instead explored sampling the ‘diagonal-log’ K of the Cholesky factor L of the covariance matrix. For the strong correlations inherent in cosmic shear, the Cholesky decomposition was found to lead to chains with shorter correlation lengths.\n",
    "\n",
    "$$ \\mathrm{C}_\\ell = \\mathrm{L_\\ell L_\\ell ^T}, $$ with $L$ the Cholesky factor, a lower-triangular matrix\n",
    "$$ \\mathbf{a} = \\mathrm{L}\\mathbf{x}. $$\n",
    "We also need the \"diagonal-log\" $K$ of the Cholesky factor\n",
    "$$ \\mathrm{K}_{\\alpha\\beta} = \\begin{cases} \n",
    "    \\ln{(\\mathrm{L}_{\\alpha\\beta})} & \\mathrm{if} \\ \\alpha=\\beta, \\\\ \\mathrm{L}_{\\alpha\\beta} & \\mathrm{otherwise}\n",
    "    \\end{cases} $$\n",
    "\n",
    "We write a function that change from $(C, \\mathbf{a})$ to $(L, \\mathbf{x})$ coordinates."
   ]
  },
  {
   "cell_type": "code",
   "execution_count": 6,
   "id": "95107a16-567c-4c2b-aca3-7eac2353e3b8",
   "metadata": {},
   "outputs": [
    {
     "data": {
      "text/plain": [
       "global_from_Cholesky (generic function with 1 method)"
      ]
     },
     "execution_count": 6,
     "metadata": {},
     "output_type": "execute_result"
    }
   ],
   "source": [
    "function from_Cholesky(L::Cholesky{Float64, Matrix{Float64}}, x::Matrix{Float64})\n",
    "    C = L.L*L.L'\n",
    "    a = L.L*x\n",
    "    return C, a\n",
    "end\n",
    "\n",
    "function global_from_Cholesky(L::Vector{Cholesky{Float64, Matrix{Float64}}}, x::Vector{Matrix{Float64}})\n",
    "    C = Vector{Matrix{Float64}}(undef, length(L))\n",
    "    a = Vector{Matrix{Float64}}(undef, length(L))\n",
    "    for i in 1:length(L)\n",
    "        C[i], a[i] = from_Cholesky(L[i], x[i])\n",
    "    end\n",
    "    return C, a\n",
    "end"
   ]
  },
  {
   "cell_type": "code",
   "execution_count": 7,
   "id": "4fd21902-c9b4-4a0c-86e6-8cc99e3e6334",
   "metadata": {},
   "outputs": [],
   "source": [
    "function Chol_Lx2a(x::Vector{Matrix{Float64}}, L::Vector{Matrix{Float64}})\n",
    "    a = Vector{Matrix{Float64}}(undef, length(x))\n",
    "    for i in 1:length(x)\n",
    "        a[i] = L[i]*x[i]\n",
    "        a[i][:,2:end] *= (1/sqrt(2))\n",
    "    end\n",
    "    return a\n",
    "end\n",
    "\n",
    "function ChainRulesCore.rrule(::typeof(Chol_Lx2a), x::Vector{Matrix{Float64}}, L::Vector{Matrix{Float64}})\n",
    "    a = Chol_Lx2a(x, L)\n",
    "    function Chol_Lx2a_pullback(ā)\n",
    "        L̄ = Vector{Matrix{Float64}}(undef, length(L))\n",
    "        x̄ = Vector{Matrix{Float64}}(undef, length(x))\n",
    "        Threads.@threads for i in 1:length(ā)\n",
    "            ā[i][:,2:end] *= (1/sqrt(2))\n",
    "            L̄[i] = ā[i]*transpose(x[i])\n",
    "            x̄[i] = transpose(L[i])*ā[i]\n",
    "        end\n",
    "        return ChainRulesCore.NoTangent(), x̄, L̄\n",
    "    end\n",
    "    return a, Chol_Lx2a_pullback\n",
    "end"
   ]
  },
  {
   "cell_type": "markdown",
   "id": "c587c70c-99be-4f62-b689-7d4ce5d9b23b",
   "metadata": {},
   "source": [
    "@adjoint function Chol_Lx2a(x::Vector{Matrix{Float64}}, L::Vector{Matrix{Float64}})\n",
    "    a = Chol_Lx2a(x, L)\n",
    "    function Chol_Lx2a_pullback(ā)\n",
    "        L̄ = Vector{Matrix{Float64}}(undef, length(L))\n",
    "        x̄ = Vector{Matrix{Float64}}(undef, length(x))\n",
    "        Threads.@threads for i in 1:length(ā)\n",
    "            ā[i][:,2:end] *= (1/sqrt(2))\n",
    "            L̄[i] = ā[i]*transpose(x[i])\n",
    "            x̄[i] = transpose(L[i])*ā[i]\n",
    "        end\n",
    "        return (x̄, L̄)\n",
    "    end\n",
    "    return a, Chol_Lx2a_pullback\n",
    "end"
   ]
  },
  {
   "cell_type": "markdown",
   "id": "d1af3452-58e4-49d0-93d7-fb005012fd5e",
   "metadata": {},
   "source": [
    "## From $K_{\\ell}$ to $L_{\\ell}$"
   ]
  },
  {
   "cell_type": "markdown",
   "id": "fd6a076a-8515-4cf8-b42b-0594db1b5129",
   "metadata": {},
   "source": [
    "Mapping from the vector of free parameters of all the K matrices to a vector of L matrices."
   ]
  },
  {
   "cell_type": "markdown",
   "id": "48c6b2d7-d7dc-447d-a5cf-6505e50e6c4a",
   "metadata": {},
   "source": [
    "function single_from_k_to_L(k)\n",
    "    L = Matrix{Float64}(I,(2*nbin,2*nbin))\n",
    "    buf_L = Zygote.Buffer(L, 2*nbin, 2*nbin)\n",
    "    for i in 1:length(buf_L)\n",
    "        buf_L[i] = 0.\n",
    "    end\n",
    "    s = 2*nbin\n",
    "    buf_L[1,1] = 1.0\n",
    "    for i in 1:(2*nbin-1)\n",
    "        buf_L[i+1,i+1] = exp(k[i])\n",
    "        for j in (i+1):2*nbin\n",
    "            buf_L[j,i] = k[s]\n",
    "            s+=1\n",
    "        end\n",
    "    end\n",
    "    return copy(buf_L)\n",
    "end\n",
    "\n",
    "function vector_from_k_to_L(all_k, nbin, lmax, freeparam_n)\n",
    "    L = Vector{Matrix{Float64}}(undef, lmax+1)\n",
    "    buf_L = Zygote.Buffer(L)\n",
    "    for i in 1:lmax+1\n",
    "        buf_L[i] = single_from_k_to_L(all_k[(freeparam_n*(i-1)+1):freeparam_n*i])\n",
    "    end\n",
    "    return copy(buf_L)\n",
    "end "
   ]
  },
  {
   "cell_type": "code",
   "execution_count": 8,
   "id": "f6f37faa-fdf2-4577-96f7-fdb5eb50a3c3",
   "metadata": {},
   "outputs": [],
   "source": [
    "function single_from_k_to_L(k, nbin)\n",
    "    L = Matrix{Float64}(I,(2*nbin,2*nbin))\n",
    "    s = 2*nbin\n",
    "    L[1,1] = 1.0\n",
    "    for i in 1:2*nbin-1\n",
    "        L[i+1,i+1] = exp(k[i])\n",
    "        for j in (i+1):2*nbin\n",
    "            L[j,i] = k[s]\n",
    "            s+=1\n",
    "        end\n",
    "    end\n",
    "    return L\n",
    "end\n",
    "\n",
    "function vector_from_k_to_L(all_k, nbin, lmax, freeparam_n)\n",
    "    L = Vector{Matrix{Float64}}(undef, lmax+1)\n",
    "    for i in 1:lmax+1\n",
    "        L[i] = single_from_k_to_L(all_k[(freeparam_n*(i-1)+1):freeparam_n*i], nbin)\n",
    "    end\n",
    "    return L\n",
    "end \n",
    "\n",
    "function vector_from_L_to_k(L, nbin, lmax)\n",
    "    vec = []\n",
    "    for l in 1:lmax+1\n",
    "        vec = vcat(vec,log.(diag(L[l])[2:end]))\n",
    "        for i in 1:2*nbin-1\n",
    "            for j in i+1:2*nbin\n",
    "                push!(vec, L[l][j,i])\n",
    "            end\n",
    "        end\n",
    "    end\n",
    "    return vec\n",
    "end\n",
    "\n",
    "@adjoint function vector_from_k_to_L(all_k, nbin::Int64, lmax::Int64, freeparam_n::Int64)\n",
    "    y = vector_from_k_to_L(all_k, nbin, lmax, freeparam_n)\n",
    "    function vecK2L_pullback(ȳ)\n",
    "        k̄ = []\n",
    "        for l in 1:length(ȳ)\n",
    "            for i in 2:dim(ȳ[1])\n",
    "                push!(k̄, y[l][i,i]*ȳ[l][i,i])\n",
    "            end\n",
    "            #k̄ = vcat( k̄, diag(y[l])[2:end] .* diag(ȳ[l])[2:end] )\n",
    "            for i in 1:dim(ȳ[1])-1\n",
    "                for j in i+1:dim(ȳ[1])\n",
    "                    push!(k̄, ȳ[l][j,i])\n",
    "                end\n",
    "            end\n",
    "        end\n",
    "        return (k̄, nothing, nothing, nothing)\n",
    "    end\n",
    "    return y, vecK2L_pullback\n",
    "end"
   ]
  },
  {
   "cell_type": "markdown",
   "id": "a52fb0c4-4381-4d34-8e67-eded09e1ecb8",
   "metadata": {},
   "source": [
    "Transforming a vector of components into K matrices"
   ]
  },
  {
   "cell_type": "code",
   "execution_count": 9,
   "id": "6f99752e-9873-4cf6-9b65-8ce8b70b62f3",
   "metadata": {},
   "outputs": [
    {
     "data": {
      "text/plain": [
       "vectorK_vecmat2vec (generic function with 1 method)"
      ]
     },
     "execution_count": 9,
     "metadata": {},
     "output_type": "execute_result"
    }
   ],
   "source": [
    "function singleK_vec2vecmat(k, nbin)\n",
    "    K = Matrix{Float64}(I,(2*nbin,2*nbin))\n",
    "    s = 2*nbin\n",
    "    K[1,1] = 0.0\n",
    "    for i in 1:2*nbin-1\n",
    "        K[i+1,i+1] = k[i]\n",
    "        for j in (i+1):2*nbin\n",
    "            K[j,i] = k[s]\n",
    "            s+=1\n",
    "        end\n",
    "    end\n",
    "    return K\n",
    "end\n",
    "\n",
    "function vectorK_vec2vecmat(all_k, nbin, lmax, freeparam_n)\n",
    "    K = Vector{Matrix{Float64}}(undef, lmax+1)\n",
    "    for i in 1:lmax+1\n",
    "        K[i] = singleK_vec2vecmat(all_k[(freeparam_n*(i-1)+1):freeparam_n*i], nbin)\n",
    "    end\n",
    "    return K\n",
    "end \n",
    "\n",
    "function vectorK_vecmat2vec(K, nbin, lmax)\n",
    "    vec = []\n",
    "    for l in 1:lmax+1\n",
    "        #vec = vcat(vec,diag(K[l])[2:end])\n",
    "        for i in 2:2*nbin\n",
    "            push!(vec, K[l][i,i])\n",
    "        end\n",
    "        for i in 1:2*nbin-1\n",
    "            for j in i+1:2*nbin\n",
    "                push!(vec, K[l][j,i])\n",
    "            end\n",
    "        end\n",
    "    end\n",
    "    return vec\n",
    "end"
   ]
  },
  {
   "cell_type": "markdown",
   "id": "bebb0b6b-a95e-460c-97b1-9c507ba07aa3",
   "metadata": {},
   "source": [
    "@adjoint function vectorK_vec2vecmat(all_k::Vector{Float64}, nbin::Int64, lmax::Int64, freeparam_n::Int64)\n",
    "    y = vectorK_vec2vecmat(all_k, nbin, lmax, freeparam_n)\n",
    "    function vectorK_vec2vecmat_pullback(ȳ)\n",
    "        k̄ = zeros(length(all_k))\n",
    "        s = 1\n",
    "        for l in 1:lmax+1\n",
    "            for i in 2:2*nbin\n",
    "                k̄[s+(l-1)*freeparam_n] = ȳ[l][i,i]\n",
    "                s += 1\n",
    "            end\n",
    "            for i in 1:2*nbin-1\n",
    "                for j in i+1:2*nbin\n",
    "                    push!(k̄, ȳ[l][j,i])\n",
    "                end\n",
    "            end\n",
    "        end\n",
    "        return (k̄, nothing, nothing, nothing)\n",
    "        #return (vectorK_vecmat2vec(ȳ, nbin, lmax), nothing, nothing, nothing)\n",
    "    end\n",
    "    return y, vectorK_vec2vecmat_pullback\n",
    "end "
   ]
  },
  {
   "cell_type": "code",
   "execution_count": 10,
   "id": "be316fd1-471a-41b0-88e1-8ea55b91c0e7",
   "metadata": {},
   "outputs": [],
   "source": [
    "@adjoint function vectorK_vec2vecmat(all_k::Vector{Float64}, nbin::Int64, lmax::Int64, freeparam_n::Int64)\n",
    "    y = vectorK_vec2vecmat(all_k, nbin, lmax, freeparam_n)\n",
    "    function vectorK_vec2vecmat_pullback(ȳ)\n",
    "        k̄ = []\n",
    "        for l in 1:lmax+1\n",
    "            #vec = vcat(vec,diag(K[l])[2:end])\n",
    "            for i in 2:2*nbin\n",
    "                push!(k̄, ȳ[l][i,i])\n",
    "            end\n",
    "            for i in 1:2*nbin-1\n",
    "                for j in i+1:2*nbin\n",
    "                    push!(k̄, ȳ[l][j,i])\n",
    "                end\n",
    "            end\n",
    "        end\n",
    "        return (k̄, nothing, nothing, nothing)\n",
    "        #return (vectorK_vecmat2vec(ȳ, nbin, lmax), nothing, nothing, nothing)\n",
    "    end\n",
    "    return y, vectorK_vec2vecmat_pullback\n",
    "end "
   ]
  },
  {
   "cell_type": "markdown",
   "id": "5782fabf-b1be-4403-9011-6e1701f7d2e1",
   "metadata": {
    "jp-MarkdownHeadingCollapsed": true
   },
   "source": [
    "## Manipulating $x_{\\ell m}$ and $L_{\\ell}$ / $K_{\\ell}$"
   ]
  },
  {
   "cell_type": "markdown",
   "id": "e581219f-58e1-4a26-bac3-872242088afc",
   "metadata": {},
   "source": [
    "Convert vector of matrices of $x_{\\ell m}$ to a flatten vector of all the matrices' components and viceversa with differentiation rule."
   ]
  },
  {
   "cell_type": "code",
   "execution_count": 11,
   "id": "b24104cf-500b-4268-a5fe-0558fb098872",
   "metadata": {},
   "outputs": [],
   "source": [
    "function x_vecmat2vec(x, lmax::Int64, nbin::Int64) #::Vector{Any}\n",
    "    all_x_per_field = reduce(hcat, x)\n",
    "    vec_x = reshape(all_x_per_field, (2*nbin*(numberOfAlms(lmax)*2 - (lmax+1)), 1))\n",
    "    return vec(vec_x)\n",
    "end\n",
    "\n",
    "function x_vec2vecmat(vec_x::Vector{Float64}, lmax::Int64, nbin::Int64)\n",
    "    #all_x_per_field = transpose(reshape(vec_x, (2*numberOfAlms(lmax)-(lmax+1), 2*nbin)))\n",
    "    all_x_per_field = reshape(vec_x, ( 2*nbin, 2*numberOfAlms(lmax)-(lmax+1)))\n",
    "    x = Vector{Matrix{Float64}}(undef, lmax+1)\n",
    "    for l in 0:lmax\n",
    "        j_in = l^2 + 1\n",
    "        j_fin = j_in + 2*l\n",
    "        x[l+1] = all_x_per_field[:,j_in:j_fin]\n",
    "    end\n",
    "    return x\n",
    "end\n",
    "\n",
    "@adjoint function x_vec2vecmat(vec_x::Vector{Float64}, lmax::Int64, nbin::Int64)\n",
    "    y = x_vec2vecmat(vec_x, lmax, nbin)\n",
    "    function x_vec2vecmat_pullback(ȳ)\n",
    "        return (x_vecmat2vec(ȳ, lmax, nbin), nothing, nothing)\n",
    "    end\n",
    "    return y, x_vec2vecmat_pullback\n",
    "end"
   ]
  },
  {
   "cell_type": "markdown",
   "id": "c4aa6d78-2b43-43d2-b224-239c5f291c6e",
   "metadata": {},
   "source": [
    "Convert vector of matrices of $L_{\\ell}$ to a flatten vector of all the matrices' components and viceversa with differentiation rule."
   ]
  },
  {
   "cell_type": "code",
   "execution_count": 12,
   "id": "394a79dd-930f-4051-9cfe-78c650dbd699",
   "metadata": {},
   "outputs": [],
   "source": [
    "function L_vecmat2vec(L, lmax::Int64, nbin::Int64)\n",
    "    vec_L = reshape(L[1], (4*nbin^2, 1))\n",
    "    for l in 1:lmax\n",
    "        vec_L = vcat(vec_L, reshape(L[l+1], (4*nbin^2, 1)))\n",
    "    end\n",
    "    return vec(vec_L)\n",
    "end\n",
    "\n",
    "function L_vec2vecmat(vec_L::Vector{Float64}, lmax::Int64, nbin::Int64)\n",
    "    L = Vector{Matrix{Float64}}(undef, lmax+1)\n",
    "    for i in 0:lmax\n",
    "        L[i+1] = reshape(vec_L[i*(4*nbin^2)+1:(i+1)*(4*nbin^2)], (2*nbin, 2*nbin))\n",
    "    end\n",
    "    return L\n",
    "end\n",
    "\n",
    "@adjoint function L_vec2vecmat(vec_L::Vector{Float64}, lmax::Int64, nbin::Int64)\n",
    "    y = L_vec2vecmat(vec_L, lmax, nbin)\n",
    "    function L_vec2vecmat_pullback(ȳ)\n",
    "        return (L_vecmat2vec(ȳ, lmax, nbin), nothing, nothing)\n",
    "    end\n",
    "    return y, L_vec2vecmat_pullback\n",
    "end"
   ]
  },
  {
   "cell_type": "code",
   "execution_count": null,
   "id": "4d7bcc7b-4e50-4baf-bdc6-49c6b739c310",
   "metadata": {},
   "outputs": [],
   "source": []
  },
  {
   "cell_type": "code",
   "execution_count": null,
   "id": "410cd228-5c8b-4f95-994b-c4676b97125d",
   "metadata": {},
   "outputs": [],
   "source": []
  }
 ],
 "metadata": {
  "kernelspec": {
   "display_name": "Julia 1.10.0",
   "language": "julia",
   "name": "julia-1.10"
  },
  "language_info": {
   "file_extension": ".jl",
   "mimetype": "application/julia",
   "name": "julia",
   "version": "1.10.0"
  }
 },
 "nbformat": 4,
 "nbformat_minor": 5
}
